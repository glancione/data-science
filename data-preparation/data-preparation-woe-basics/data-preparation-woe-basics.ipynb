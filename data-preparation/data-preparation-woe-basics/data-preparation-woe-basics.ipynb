{
 "cells": [
  {
   "cell_type": "markdown",
   "metadata": {
    "id": "_k0-DLB14yKu"
   },
   "source": [
    "# Data Preparation - WOE(Weight of Evidence) Basics"
   ]
  },
  {
   "cell_type": "markdown",
   "metadata": {
    "id": "mC3iJedPJlNo"
   },
   "source": [
    "Weight of Evidence (WOE) quantifies the strength of the relationship between a categorical independent variable (predictor) and a binary target variable (response) by calculating the logarithm of the odds ratio.\n",
    "It measures how well the category predicts the positive (1) or negative (0) class of the target variable."
   ]
  },
  {
   "cell_type": "markdown",
   "metadata": {
    "id": "qaLZRQ5pJxLF"
   },
   "source": [
    "\n",
    "*   If WOE > 0, it indicates that the category is associated with a higher likelihood of the positive event (good outcome).\n",
    "\n",
    "*   If WOE < 0, it indicates that the category is associated with a higher likelihood of the negative event (bad outcome).\n",
    "\n",
    "*   If WOE = 0, it suggests that the category has no discriminatory power between the positive and negative events.\n"
   ]
  },
  {
   "cell_type": "markdown",
   "metadata": {
    "id": "f8ACWrKp47z8"
   },
   "source": [
    "## Import Libraries"
   ]
  },
  {
   "cell_type": "code",
   "execution_count": 1,
   "metadata": {
    "executionInfo": {
     "elapsed": 886,
     "status": "ok",
     "timestamp": 1711633560701,
     "user": {
      "displayName": "Gabriele Lancione",
      "userId": "02497574145285887205"
     },
     "user_tz": -60
    },
    "id": "vhLaRlGZ4cVc"
   },
   "outputs": [],
   "source": [
    "import pandas as pd\n",
    "import numpy as np"
   ]
  },
  {
   "cell_type": "markdown",
   "metadata": {
    "id": "vL_3c8u44_0g"
   },
   "source": [
    "## Example 1: Simple Calculation"
   ]
  },
  {
   "cell_type": "code",
   "execution_count": 2,
   "metadata": {
    "executionInfo": {
     "elapsed": 16,
     "status": "ok",
     "timestamp": 1711633561162,
     "user": {
      "displayName": "Gabriele Lancione",
      "userId": "02497574145285887205"
     },
     "user_tz": -60
    },
    "id": "a2YUm-PA45jH"
   },
   "outputs": [],
   "source": [
    "data = pd.DataFrame({'Category': ['A', 'B', 'A', 'B', 'A', 'B'],\n",
    "                     'Target': [1, 0, 1, 1, 0, 1]})"
   ]
  },
  {
   "cell_type": "code",
   "execution_count": 3,
   "metadata": {
    "colab": {
     "base_uri": "https://localhost:8080/"
    },
    "executionInfo": {
     "elapsed": 15,
     "status": "ok",
     "timestamp": 1711633561162,
     "user": {
      "displayName": "Gabriele Lancione",
      "userId": "02497574145285887205"
     },
     "user_tz": -60
    },
    "id": "VsylvBw85FyM",
    "outputId": "4fd061f4-1941-40d7-b07a-6ca4ac9ae4c4"
   },
   "outputs": [
    {
     "name": "stdout",
     "output_type": "stream",
     "text": [
      "Category_counts_pos: \n",
      "A    2\n",
      "B    2\n",
      "Name: Category, dtype: int64\n",
      "\n",
      "Category_counts_neg: \n",
      "B    1\n",
      "A    1\n",
      "Name: Category, dtype: int64\n"
     ]
    }
   ],
   "source": [
    "# Calculate WOE for Category 'A' and 'B'\n",
    "category_counts = data['Category'].value_counts()\n",
    "category_counts_pos = data[data['Target'] == 1]['Category'].value_counts()\n",
    "category_counts_neg = data[data['Target'] == 0]['Category'].value_counts()\n",
    "\n",
    "print('Category_counts_pos: \\n{}'.format(category_counts_pos))\n",
    "print('\\nCategory_counts_neg: \\n{}'.format(category_counts_neg))"
   ]
  },
  {
   "cell_type": "code",
   "execution_count": 4,
   "metadata": {
    "colab": {
     "base_uri": "https://localhost:8080/"
    },
    "executionInfo": {
     "elapsed": 13,
     "status": "ok",
     "timestamp": 1711633561162,
     "user": {
      "displayName": "Gabriele Lancione",
      "userId": "02497574145285887205"
     },
     "user_tz": -60
    },
    "id": "WsHv-Obq5HaQ",
    "outputId": "3ae2b57d-b042-4db2-fb6d-4c6493bf1c06"
   },
   "outputs": [
    {
     "name": "stdout",
     "output_type": "stream",
     "text": [
      "WOE for Category A: 0.69\n",
      "WOE for Category B: 0.69\n"
     ]
    }
   ],
   "source": [
    "# Calculate WOE\n",
    "woe_A = np.log((category_counts_pos['A'] / category_counts['A']) / (category_counts_neg['A'] / category_counts['A']))\n",
    "woe_B = np.log((category_counts_pos['B'] / category_counts['B']) / (category_counts_neg['B'] / category_counts['B']))\n",
    "\n",
    "print(f'WOE for Category A: {woe_A:.2f}')\n",
    "print(f'WOE for Category B: {woe_B:.2f}')"
   ]
  },
  {
   "cell_type": "markdown",
   "metadata": {
    "id": "e6LtIwDP60fG"
   },
   "source": [
    "## Example 2: Calculation with Binning"
   ]
  },
  {
   "cell_type": "code",
   "execution_count": 5,
   "metadata": {
    "executionInfo": {
     "elapsed": 11,
     "status": "ok",
     "timestamp": 1711633561162,
     "user": {
      "displayName": "Gabriele Lancione",
      "userId": "02497574145285887205"
     },
     "user_tz": -60
    },
    "id": "D_vVmN6-5Joc"
   },
   "outputs": [],
   "source": [
    "data = pd.DataFrame({'Age': [25, 30, 35, 40, 45, 50, 55, 60],\n",
    "                     'Target': [1, 0, 1, 0, 1, 0, 0, 1]})"
   ]
  },
  {
   "cell_type": "code",
   "execution_count": 6,
   "metadata": {
    "executionInfo": {
     "elapsed": 10,
     "status": "ok",
     "timestamp": 1711633561162,
     "user": {
      "displayName": "Gabriele Lancione",
      "userId": "02497574145285887205"
     },
     "user_tz": -60
    },
    "id": "g7B3Y24y67LH"
   },
   "outputs": [],
   "source": [
    "# Create age bins\n",
    "bins = [0, 35, 45, 55, np.inf]\n",
    "labels = ['<35', '35-45', '45-55', '55+']\n",
    "data['Age_Bin'] = pd.cut(data['Age'], bins=bins, labels=labels)"
   ]
  },
  {
   "cell_type": "code",
   "execution_count": 7,
   "metadata": {
    "executionInfo": {
     "elapsed": 10,
     "status": "ok",
     "timestamp": 1711633561162,
     "user": {
      "displayName": "Gabriele Lancione",
      "userId": "02497574145285887205"
     },
     "user_tz": -60
    },
    "id": "hB217JEm689H"
   },
   "outputs": [],
   "source": [
    "# Calculate WOE for each age bin\n",
    "def calculate_woe(df, col, target_col):\n",
    "    category_counts = df[col].value_counts()\n",
    "    category_counts_pos = df[df[target_col] == 1][col].value_counts()\n",
    "    category_counts_neg = df[df[target_col] == 0][col].value_counts()\n",
    "    woe_values = {}\n",
    "    for category in category_counts.index:\n",
    "        woe = np.log((category_counts_pos.get(category, 0) / category_counts[category]) /\n",
    "                     (category_counts_neg.get(category, 0) / category_counts[category]))\n",
    "        woe_values[category] = woe\n",
    "    return woe_values"
   ]
  },
  {
   "cell_type": "code",
   "execution_count": 8,
   "metadata": {
    "colab": {
     "base_uri": "https://localhost:8080/"
    },
    "executionInfo": {
     "elapsed": 10,
     "status": "ok",
     "timestamp": 1711633561162,
     "user": {
      "displayName": "Gabriele Lancione",
      "userId": "02497574145285887205"
     },
     "user_tz": -60
    },
    "id": "JB3fyBfk6-3D",
    "outputId": "7b09c853-3660-43af-8599-6e91f1e7ed52"
   },
   "outputs": [
    {
     "name": "stdout",
     "output_type": "stream",
     "text": [
      "WOE values for Age Bins:\n",
      "<35: 0.69\n",
      "35-45: 0.00\n",
      "45-55: -inf\n",
      "55+: inf\n"
     ]
    },
    {
     "name": "stderr",
     "output_type": "stream",
     "text": [
      "/var/folders/dv/t9jbtc_n21l7bcwt03cw661h0000gn/T/ipykernel_866/4236618909.py:8: RuntimeWarning: divide by zero encountered in log\n",
      "  woe = np.log((category_counts_pos.get(category, 0) / category_counts[category]) /\n",
      "/var/folders/dv/t9jbtc_n21l7bcwt03cw661h0000gn/T/ipykernel_866/4236618909.py:8: RuntimeWarning: divide by zero encountered in scalar divide\n",
      "  woe = np.log((category_counts_pos.get(category, 0) / category_counts[category]) /\n"
     ]
    }
   ],
   "source": [
    "woe_age = calculate_woe(data, 'Age_Bin', 'Target')\n",
    "\n",
    "print(\"WOE values for Age Bins:\")\n",
    "\n",
    "for category, woe in woe_age.items():\n",
    "    print(f'{category}: {woe:.2f}')"
   ]
  },
  {
   "cell_type": "markdown",
   "metadata": {
    "id": "LGBa9DB27EYi"
   },
   "source": [
    "## Example 3: Calculation with missing values"
   ]
  },
  {
   "cell_type": "code",
   "execution_count": 9,
   "metadata": {
    "executionInfo": {
     "elapsed": 7,
     "status": "ok",
     "timestamp": 1711633561162,
     "user": {
      "displayName": "Gabriele Lancione",
      "userId": "02497574145285887205"
     },
     "user_tz": -60
    },
    "id": "bN7RN6Bc7ATL"
   },
   "outputs": [],
   "source": [
    "data = pd.DataFrame({\n",
    "    'Category': ['A', 'B', 'A', 'B', 'A', 'C', 'B', 'A', 'C', np.nan],\n",
    "    'Target': [1, 0, 1, 1, 0, 1, 0, 1, 0, 1]\n",
    "})"
   ]
  },
  {
   "cell_type": "code",
   "execution_count": 10,
   "metadata": {
    "executionInfo": {
     "elapsed": 8,
     "status": "ok",
     "timestamp": 1711633561163,
     "user": {
      "displayName": "Gabriele Lancione",
      "userId": "02497574145285887205"
     },
     "user_tz": -60
    },
    "id": "-biNF4-97KPu"
   },
   "outputs": [],
   "source": [
    "# Replace missing values with a placeholder (e.g., 'Missing')\n",
    "data['Category'].fillna('Missing', inplace=True)"
   ]
  },
  {
   "cell_type": "code",
   "execution_count": 11,
   "metadata": {
    "executionInfo": {
     "elapsed": 7,
     "status": "ok",
     "timestamp": 1711633561163,
     "user": {
      "displayName": "Gabriele Lancione",
      "userId": "02497574145285887205"
     },
     "user_tz": -60
    },
    "id": "Y7PszxFq7L_m"
   },
   "outputs": [],
   "source": [
    "# Calculate WOE for each category including 'Missing'\n",
    "def calculate_woe(df, col, target_col):\n",
    "    category_counts = df[col].value_counts()\n",
    "    category_counts_pos = df[df[target_col] == 1][col].value_counts()\n",
    "    category_counts_neg = df[df[target_col] == 0][col].value_counts()\n",
    "    woe_values = {}\n",
    "    for category in category_counts.index:\n",
    "        woe = np.log((category_counts_pos.get(category, 0) / category_counts[category]) /\n",
    "                     (category_counts_neg.get(category, 0) / category_counts[category]))\n",
    "        woe_values[category] = woe\n",
    "    return woe_values"
   ]
  },
  {
   "cell_type": "code",
   "execution_count": 12,
   "metadata": {
    "colab": {
     "base_uri": "https://localhost:8080/"
    },
    "executionInfo": {
     "elapsed": 7,
     "status": "ok",
     "timestamp": 1711633561163,
     "user": {
      "displayName": "Gabriele Lancione",
      "userId": "02497574145285887205"
     },
     "user_tz": -60
    },
    "id": "semnWJit7Nka",
    "outputId": "1eded8b4-539c-486f-a04e-4c384fafca04"
   },
   "outputs": [
    {
     "name": "stdout",
     "output_type": "stream",
     "text": [
      "WOE values for Categories:\n",
      "A: 1.10\n",
      "B: -0.69\n",
      "C: 0.00\n",
      "Missing: inf\n"
     ]
    },
    {
     "name": "stderr",
     "output_type": "stream",
     "text": [
      "/var/folders/dv/t9jbtc_n21l7bcwt03cw661h0000gn/T/ipykernel_866/530306647.py:8: RuntimeWarning: divide by zero encountered in scalar divide\n",
      "  woe = np.log((category_counts_pos.get(category, 0) / category_counts[category]) /\n"
     ]
    }
   ],
   "source": [
    "woe_category = calculate_woe(data, 'Category', 'Target')\n",
    "\n",
    "print(\"WOE values for Categories:\")\n",
    "for category, woe in woe_category.items():\n",
    "    print(f'{category}: {woe:.2f}')"
   ]
  }
 ],
 "metadata": {
  "colab": {
   "authorship_tag": "ABX9TyMlzRgDgkPzelBfMKMLXM+d",
   "provenance": []
  },
  "kernelspec": {
   "display_name": "Python 3 (ipykernel)",
   "language": "python",
   "name": "python3"
  },
  "language_info": {
   "codemirror_mode": {
    "name": "ipython",
    "version": 3
   },
   "file_extension": ".py",
   "mimetype": "text/x-python",
   "name": "python",
   "nbconvert_exporter": "python",
   "pygments_lexer": "ipython3",
   "version": "3.9.6"
  }
 },
 "nbformat": 4,
 "nbformat_minor": 4
}
