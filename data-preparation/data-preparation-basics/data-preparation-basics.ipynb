{
 "cells": [
  {
   "cell_type": "markdown",
   "id": "79ff4af5-30f1-4a2a-abba-793f35195c29",
   "metadata": {},
   "source": [
    "# Data Preparation - Basics"
   ]
  },
  {
   "cell_type": "markdown",
   "id": "62e75b2c-06d5-4abe-8dc1-29edf6b6e4b6",
   "metadata": {},
   "source": [
    "## Import Libraries"
   ]
  },
  {
   "cell_type": "code",
   "execution_count": null,
   "id": "14acb6b7-4a40-49b5-9206-49e3ece70c0c",
   "metadata": {},
   "outputs": [],
   "source": [
    "import pandas as pd\n",
    "import seaborn as sns\n",
    "import numpy as np\n",
    "from sklearn.preprocessing import LabelEncoder"
   ]
  },
  {
   "cell_type": "markdown",
   "id": "d03ebe78-f271-4bcb-8dc3-ee8d85cad165",
   "metadata": {},
   "source": [
    "## Import Data"
   ]
  },
  {
   "cell_type": "code",
   "execution_count": null,
   "id": "e2154b16-56c7-473d-acfe-9b5d93dee55f",
   "metadata": {},
   "outputs": [],
   "source": [
    "df = sns.load_dataset('penguins')\n",
    "df.head()"
   ]
  },
  {
   "cell_type": "code",
   "execution_count": null,
   "id": "f351a6fc-142c-4a6d-b022-a3981e2d7f35",
   "metadata": {},
   "outputs": [],
   "source": [
    "print(\"Count of distinct values in column 'island':\\n\")\n",
    "df['island'].value_counts()"
   ]
  },
  {
   "cell_type": "code",
   "execution_count": null,
   "id": "f74e0055-4176-4feb-94ef-329d7cf38b76",
   "metadata": {},
   "outputs": [],
   "source": [
    "# Get a concise summary of the dataframe\n",
    "print(df.info())"
   ]
  },
  {
   "cell_type": "code",
   "execution_count": null,
   "id": "756c4cd9-56c3-456c-ae51-9644fc1e4494",
   "metadata": {},
   "outputs": [],
   "source": [
    "# Get a detailed summary of the dataframe\n",
    "print(df.describe())"
   ]
  },
  {
   "cell_type": "markdown",
   "id": "3f719f46-ae8b-427a-9dba-96e7971f9848",
   "metadata": {},
   "source": [
    "## Drop Useless Information"
   ]
  },
  {
   "cell_type": "code",
   "execution_count": null,
   "id": "041d5a59-d57a-4c88-9630-ba8c7d934d51",
   "metadata": {},
   "outputs": [],
   "source": [
    "df = df.drop(['bill_depth_mm'], axis=1)\n",
    "df.head()"
   ]
  },
  {
   "cell_type": "markdown",
   "id": "d5495752-6fb4-43d8-8c22-bb4115b1b115",
   "metadata": {},
   "source": [
    "## Rebuild Missing Data"
   ]
  },
  {
   "cell_type": "code",
   "execution_count": null,
   "id": "b10c05df-5f72-4b0f-a871-094afc0fc02a",
   "metadata": {},
   "outputs": [],
   "source": [
    "print(\"Columns cointaining 'na' values:\\n\")\n",
    "print(df.isna().any())\n",
    "print('\\n----------------------------------------------------\\n')\n",
    "print(\"Count of 'na' values per column:\\n\")\n",
    "print(df.isna().sum())"
   ]
  },
  {
   "cell_type": "code",
   "execution_count": null,
   "id": "90c8183f-a101-4471-9ab5-9dee2040348c",
   "metadata": {},
   "outputs": [],
   "source": [
    "df['bill_length_mm'] = df['bill_length_mm'].fillna(df['bill_length_mm'].mean())\n",
    "print(\"Count of 'na' values per column:\\n\")\n",
    "print(df.isna().sum())"
   ]
  },
  {
   "cell_type": "code",
   "execution_count": null,
   "id": "de78030d-5c11-4b0b-b5ca-765f1fcf8209",
   "metadata": {},
   "outputs": [],
   "source": [
    "def remove_missing_values(df):\n",
    "    missing_values = df.isnull().sum()\n",
    "    df = df.dropna()\n",
    "    print(\"Removed {} missing values\".format(missing_values.sum()))\n",
    "    return df"
   ]
  },
  {
   "cell_type": "code",
   "execution_count": null,
   "id": "f9166ff9-3357-46a0-8e30-b03fde072417",
   "metadata": {},
   "outputs": [],
   "source": [
    "# removing the remaining missing values\n",
    "df = remove_missing_values(df)"
   ]
  },
  {
   "cell_type": "markdown",
   "id": "fb2c8c27-d9e5-4172-8430-49a04ddd224e",
   "metadata": {},
   "source": [
    "## Outliers Handling"
   ]
  },
  {
   "cell_type": "code",
   "execution_count": null,
   "id": "864b3474-853d-4141-b0ab-591a8a70c4c8",
   "metadata": {},
   "outputs": [],
   "source": [
    "def outlier_handling(df, column_with_outliers, lower_bound=0.25, upper_bound=0.75):\n",
    "    q1 = df[column_with_outliers].quantile(lower_bound)\n",
    "    q3 = df[column_with_outliers].quantile(upper_bound)\n",
    "    iqr = q3 - q1\n",
    "    df = df[(df[column_with_outliers] > (q1 - 1.5 * iqr)) & (df[column_with_outliers] < (q3 + 1.5 * iqr))]\n",
    "    return df"
   ]
  },
  {
   "cell_type": "code",
   "execution_count": null,
   "id": "b12114eb-f2df-4f2a-b9fc-28bd786f4ec0",
   "metadata": {},
   "outputs": [],
   "source": [
    "print(\"# rows before outliers handling: {} \\n...\".format(df.shape[0]))\n",
    "df = outlier_handling(df, column_with_outliers = ['flipper_length_mm'], lower_bound=0.25, upper_bound=0.75)\n",
    "print(\"# rows after outliers handling: {} \\n...\".format(df.shape[0]))"
   ]
  },
  {
   "cell_type": "markdown",
   "id": "9f82417f-481b-4969-b3be-caa307c83294",
   "metadata": {},
   "source": [
    "## Standardize Data"
   ]
  },
  {
   "cell_type": "code",
   "execution_count": null,
   "id": "32001dbd-e8a5-4089-bc0d-aea472f743a2",
   "metadata": {},
   "outputs": [],
   "source": [
    "###"
   ]
  },
  {
   "cell_type": "markdown",
   "id": "62814cf4-1804-40a7-a8ef-066b83b844d7",
   "metadata": {},
   "source": [
    "## Normalize Data"
   ]
  },
  {
   "cell_type": "code",
   "execution_count": null,
   "id": "a567efc3-c1f7-4dc0-a432-ce253f670069",
   "metadata": {},
   "outputs": [],
   "source": [
    "###"
   ]
  },
  {
   "cell_type": "markdown",
   "id": "83f78730-174f-4906-a308-087c19281b82",
   "metadata": {},
   "source": [
    "## Removing Duplicates"
   ]
  },
  {
   "cell_type": "code",
   "execution_count": null,
   "id": "c392a18b-6302-4a42-a657-7b93668d4932",
   "metadata": {},
   "outputs": [],
   "source": [
    "print(\"Detected {} duplicated row(s):\\n\".format(df[df.duplicated()].shape[0]))\n",
    "df[df.duplicated()]"
   ]
  },
  {
   "cell_type": "code",
   "execution_count": null,
   "id": "9f0a1d17-6252-470f-bcff-fbd398ffe7b3",
   "metadata": {},
   "outputs": [],
   "source": [
    "df = df.drop_duplicates(subset=None, keep='first', ignore_index=False)\n",
    "df = df.reset_index(drop=True)\n",
    "print(\"Duplicated row(s) after cleaning: {}\".format(df[df.duplicated()].shape[0]))"
   ]
  },
  {
   "cell_type": "markdown",
   "id": "3293614f-3dc1-4e5c-9025-adfdd75abb61",
   "metadata": {},
   "source": [
    "## Data Enrichment"
   ]
  },
  {
   "cell_type": "code",
   "execution_count": null,
   "id": "9693a14c-e67f-41b9-8436-7258079c6918",
   "metadata": {},
   "outputs": [],
   "source": [
    "# replace specific values on a specific column with a dedicated value\n",
    "df['island'] = df['island'].replace(['Biscoe', 'Dream', 'Torgersen'], ['Sicilia','Sardegna','Corsica'])\n",
    "df['island'].value_counts()"
   ]
  },
  {
   "cell_type": "code",
   "execution_count": null,
   "id": "8488df34-4c36-44f9-a7cc-2684d801a998",
   "metadata": {},
   "outputs": [],
   "source": [
    "# rename column\n",
    "df = df.rename(columns={\"island\": \"italian_island\"})\n",
    "df = df.rename(columns=str.upper)"
   ]
  },
  {
   "cell_type": "code",
   "execution_count": null,
   "id": "50d354e6-03bf-4ef6-99e9-3fe4afa17c1f",
   "metadata": {},
   "outputs": [],
   "source": [
    "# Encoding Categorical Variables\n",
    "df = pd.get_dummies(df, columns=['ITALIAN_ISLAND'])\n",
    "df.head()"
   ]
  },
  {
   "cell_type": "code",
   "execution_count": null,
   "id": "afe52529-a683-4863-8a0c-78c98ab28900",
   "metadata": {},
   "outputs": [],
   "source": [
    "# encode into a single column\n",
    "le = LabelEncoder()\n",
    "df[\"SEX_ENCODED\"] = le.fit_transform(df[\"SEX\"])\n",
    "df.head()"
   ]
  },
  {
   "cell_type": "code",
   "execution_count": null,
   "id": "6e04583a-e346-4971-ad68-56ab089f11f9",
   "metadata": {},
   "outputs": [],
   "source": [
    "# binning\n",
    "df['BODY_MASS_G_bin'] = pd.qcut(df['BODY_MASS_G'], q=3)\n",
    "print(df['BODY_MASS_G_bin'].value_counts())"
   ]
  },
  {
   "cell_type": "code",
   "execution_count": null,
   "id": "6d69a5b0-b9f6-4829-929b-4d4b5d853f26",
   "metadata": {},
   "outputs": [],
   "source": [
    "df[['BODY_MASS_G', 'BODY_MASS_G_bin']].head()"
   ]
  }
 ],
 "metadata": {
  "kernelspec": {
   "display_name": "Python 3 (ipykernel)",
   "language": "python",
   "name": "python3"
  },
  "language_info": {
   "codemirror_mode": {
    "name": "ipython",
    "version": 3
   },
   "file_extension": ".py",
   "mimetype": "text/x-python",
   "name": "python",
   "nbconvert_exporter": "python",
   "pygments_lexer": "ipython3",
   "version": "3.9.6"
  }
 },
 "nbformat": 4,
 "nbformat_minor": 5
}
