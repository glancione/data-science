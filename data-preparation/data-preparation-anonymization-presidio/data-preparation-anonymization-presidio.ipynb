{
 "cells": [
  {
   "cell_type": "markdown",
   "id": "a0ff468f-2930-4b63-b4ce-bcd294df0893",
   "metadata": {},
   "source": [
    "# Data Preparation - Anonymization Presidio"
   ]
  },
  {
   "cell_type": "markdown",
   "id": "5eff980f-c05c-4a32-8c82-168805ce5e5d",
   "metadata": {},
   "source": [
    "## Import Libraries"
   ]
  },
  {
   "cell_type": "code",
   "execution_count": 6,
   "id": "bff31ed9-a02a-486d-adde-b146ca5bbe58",
   "metadata": {},
   "outputs": [],
   "source": [
    "from presidio_analyzer import AnalyzerEngine\n",
    "from presidio_anonymizer import AnonymizerEngine"
   ]
  },
  {
   "cell_type": "markdown",
   "id": "0d593de4-49b3-4a2f-a34c-88b05d72de44",
   "metadata": {},
   "source": [
    "## Text Analysis"
   ]
  },
  {
   "cell_type": "code",
   "execution_count": 9,
   "id": "7398ab25-807b-40d0-9029-cc10ef12f617",
   "metadata": {},
   "outputs": [
    {
     "name": "stdout",
     "output_type": "stream",
     "text": [
      "[type: PHONE_NUMBER, start: 19, end: 31, score: 0.75]\n"
     ]
    }
   ],
   "source": [
    "text = 'My phone number is 212-555-5555'\n",
    "analyzer = AnalyzerEngine()\n",
    "results = analyzer.analyze(text = text, entities = ['PHONE_NUMBER'], language = 'en')\n",
    "print(results)"
   ]
  },
  {
   "cell_type": "markdown",
   "id": "975f9213-b1fd-46e6-925b-680c4ac19000",
   "metadata": {},
   "source": [
    "## Text Anonymization"
   ]
  },
  {
   "cell_type": "code",
   "execution_count": 8,
   "id": "64e6c350-fe51-43aa-b8a6-475c0850aaac",
   "metadata": {},
   "outputs": [
    {
     "name": "stdout",
     "output_type": "stream",
     "text": [
      "My phone number is <PHONE_NUMBER>\n"
     ]
    }
   ],
   "source": [
    "anonymizer = AnonymizerEngine()\n",
    "anonymized_text = anonymizer.anonymize(text = text, analyzer_results = results)\n",
    "print(anonymized_text.text)"
   ]
  }
 ],
 "metadata": {
  "kernelspec": {
   "display_name": "Python 3 (ipykernel)",
   "language": "python",
   "name": "python3"
  },
  "language_info": {
   "codemirror_mode": {
    "name": "ipython",
    "version": 3
   },
   "file_extension": ".py",
   "mimetype": "text/x-python",
   "name": "python",
   "nbconvert_exporter": "python",
   "pygments_lexer": "ipython3",
   "version": "3.9.6"
  }
 },
 "nbformat": 4,
 "nbformat_minor": 5
}
