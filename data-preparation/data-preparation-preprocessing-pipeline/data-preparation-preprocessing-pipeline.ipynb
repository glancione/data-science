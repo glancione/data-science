{
 "cells": [
  {
   "cell_type": "markdown",
   "id": "0e620d14-9455-4795-adcc-16bd2738a114",
   "metadata": {},
   "source": [
    "# Data Preparation - Preprocessing Pipeline"
   ]
  },
  {
   "cell_type": "markdown",
   "id": "91e117ec-9ca1-439b-900c-f8e7aae7e33b",
   "metadata": {},
   "source": [
    "## Import Libraries"
   ]
  },
  {
   "cell_type": "code",
   "execution_count": 24,
   "id": "5f89eb00-cad0-4ef1-9e69-766e1d253003",
   "metadata": {},
   "outputs": [],
   "source": [
    "import matplotlib.pyplot as plt\n",
    "from sklearn.datasets import load_iris\n",
    "from sklearn.model_selection import train_test_split\n",
    "from sklearn.pipeline import Pipeline\n",
    "from sklearn.impute import SimpleImputer\n",
    "from sklearn.preprocessing import StandardScaler\n",
    "from sklearn.decomposition import PCA\n",
    "from sklearn.linear_model import LogisticRegression"
   ]
  },
  {
   "cell_type": "markdown",
   "id": "f84d8b46-9aec-4f24-82cf-0897549b43c8",
   "metadata": {},
   "source": [
    "## Import Data"
   ]
  },
  {
   "cell_type": "code",
   "execution_count": 25,
   "id": "f119d99f-517c-4bbe-bf94-ba02a888c353",
   "metadata": {},
   "outputs": [],
   "source": [
    "iris = load_iris()\n",
    "X = iris.data\n",
    "y = iris.target"
   ]
  },
  {
   "cell_type": "code",
   "execution_count": 26,
   "id": "d267f55b-fa1a-4fe7-afc7-c870a799fac0",
   "metadata": {},
   "outputs": [
    {
     "data": {
      "text/plain": [
       "array([[5.1, 3.5, 1.4, 0.2],\n",
       "       [4.9, 3. , 1.4, 0.2],\n",
       "       [4.7, 3.2, 1.3, 0.2],\n",
       "       [4.6, 3.1, 1.5, 0.2],\n",
       "       [5. , 3.6, 1.4, 0.2]])"
      ]
     },
     "execution_count": 26,
     "metadata": {},
     "output_type": "execute_result"
    }
   ],
   "source": [
    "X[:5]"
   ]
  },
  {
   "cell_type": "markdown",
   "id": "1fa5b080-d320-4c4d-aa63-40d7c2a6b85b",
   "metadata": {},
   "source": [
    "## Data Preparation"
   ]
  },
  {
   "cell_type": "code",
   "execution_count": 27,
   "id": "00d55f89-d038-4396-b4f6-99489dafdce3",
   "metadata": {},
   "outputs": [
    {
     "name": "stdout",
     "output_type": "stream",
     "text": [
      "Initial data:\n",
      "[[6.1 2.8 4.7 1.2]\n",
      " [5.7 3.8 1.7 0.3]\n",
      " [7.7 2.6 6.9 2.3]\n",
      " [6.  2.9 4.5 1.5]\n",
      " [6.8 2.8 4.8 1.4]]\n"
     ]
    }
   ],
   "source": [
    "X_train, X_test, y_train, y_test = train_test_split(X, y, test_size=0.2, random_state=42)\n",
    "print(\"Initial data:\")\n",
    "print(X_test[:5])"
   ]
  },
  {
   "cell_type": "markdown",
   "id": "6630c59c-ff79-48ef-a71e-be6b1eb5c5bf",
   "metadata": {},
   "source": [
    "## Pipeline Construction"
   ]
  },
  {
   "cell_type": "code",
   "execution_count": 28,
   "id": "0cc5c303-cfaf-4faf-b185-541d6dc569c2",
   "metadata": {},
   "outputs": [],
   "source": [
    "pipeline = Pipeline([\n",
    "    ('imputer', SimpleImputer(strategy='mean')), \n",
    "    ('scaler', StandardScaler()),\n",
    "    ('pca', PCA(n_components=2)),\n",
    "    ('model', LogisticRegression())\n",
    "])"
   ]
  },
  {
   "cell_type": "markdown",
   "id": "75ac5fbe-8502-4883-94ca-013e9393369f",
   "metadata": {},
   "source": [
    "SimpleImputer ==> handle missing data (strategy = 'mean' replaces missing values with the mean of the non-missing values in the corresponding feature).\n",
    "\n",
    "StandardScaler ==> feature scaling (standardizes the feature values by subtracting the mean and dividing by the standard deviation).\n",
    "\n",
    "PCA ==> dimensionality reduction (reduces the number of features while preserving the most important information)\n",
    "\n",
    "LogisticRegression ==> model training"
   ]
  },
  {
   "cell_type": "code",
   "execution_count": 29,
   "id": "e49028d9-b2dc-4476-83b5-0cd539c24591",
   "metadata": {},
   "outputs": [],
   "source": [
    "pipeline.fit(X_train, y_train)\n",
    "y_pred = pipeline.predict(X_test)"
   ]
  },
  {
   "cell_type": "code",
   "execution_count": 30,
   "id": "76d487fd-ed8f-467f-9ab5-71f8a903952f",
   "metadata": {},
   "outputs": [],
   "source": [
    "# Preprocessing intermediate steps\n",
    "X_imputed = pipeline.named_steps['imputer'].transform(X_test)\n",
    "X_scaled = pipeline.named_steps['scaler'].transform(X_imputed)\n",
    "X_pca = pipeline.named_steps['pca'].transform(X_scaled)"
   ]
  },
  {
   "cell_type": "code",
   "execution_count": 31,
   "id": "9112e275-0863-4c5d-84a1-3d72efd5dda3",
   "metadata": {},
   "outputs": [
    {
     "name": "stdout",
     "output_type": "stream",
     "text": [
      "Imputed data:\n",
      "[[6.1 2.8 4.7 1.2]\n",
      " [5.7 3.8 1.7 0.3]\n",
      " [7.7 2.6 6.9 2.3]\n",
      " [6.  2.9 4.5 1.5]\n",
      " [6.8 2.8 4.8 1.4]]\n",
      "Scaled data:\n",
      "[[ 0.35451684 -0.58505976  0.55777524  0.02224751]\n",
      " [-0.13307079  1.65083742 -1.16139502 -1.17911778]\n",
      " [ 2.30486738 -1.0322392   1.8185001   1.49058286]\n",
      " [ 0.23261993 -0.36147005  0.44316389  0.4227026 ]\n",
      " [ 1.2077952  -0.58505976  0.61508092  0.28921757]]\n",
      "PCA-transformed data:\n",
      "[[ 0.67946575 -0.38500577]\n",
      " [-1.85948524  1.36754843]\n",
      " [ 3.37418698  0.08283354]\n",
      " [ 0.71543345 -0.20586539]\n",
      " [ 1.30528623 -0.03401018]]\n"
     ]
    }
   ],
   "source": [
    "print(\"Imputed data:\")\n",
    "print(X_imputed[:5])\n",
    "print(\"Scaled data:\")\n",
    "print(X_scaled[:5])\n",
    "print(\"PCA-transformed data:\")\n",
    "print(X_pca[:5])"
   ]
  },
  {
   "cell_type": "code",
   "execution_count": 32,
   "id": "24ce767c-2e14-4aed-91ee-a87f1f7d0b1e",
   "metadata": {},
   "outputs": [
    {
     "data": {
      "image/png": "[encoded data removed]",
      "text/plain": [
       "<Figure size 640x480 with 1 Axes>"
      ]
     },
     "metadata": {},
     "output_type": "display_data"
    }
   ],
   "source": [
    "# Visualize the first two principal components\n",
    "plt.scatter(X_pca[:, 0], X_pca[:, 1], c=y_pred, cmap='viridis')\n",
    "plt.xlabel('Principal Component 1')\n",
    "plt.ylabel('Principal Component 2')\n",
    "plt.title('PCA Visualization')\n",
    "plt.show()"
   ]
  },
  {
   "cell_type": "markdown",
   "id": "02b66679-130e-49ac-ae46-1567bcc79036",
   "metadata": {},
   "source": [
    "Different colors represent the predicted classes"
   ]
  }
 ],
 "metadata": {
  "kernelspec": {
   "display_name": "Python 3 (ipykernel)",
   "language": "python",
   "name": "python3"
  },
  "language_info": {
   "codemirror_mode": {
    "name": "ipython",
    "version": 3
   },
   "file_extension": ".py",
   "mimetype": "text/x-python",
   "name": "python",
   "nbconvert_exporter": "python",
   "pygments_lexer": "ipython3",
   "version": "3.9.6"
  }
 },
 "nbformat": 4,
 "nbformat_minor": 5
}
