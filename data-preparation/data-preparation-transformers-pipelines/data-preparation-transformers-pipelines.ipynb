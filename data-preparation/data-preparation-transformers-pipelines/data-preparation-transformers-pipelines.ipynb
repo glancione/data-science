{
 "cells": [
  {
   "cell_type": "markdown",
   "metadata": {
    "executionInfo": {
     "elapsed": 283,
     "status": "ok",
     "timestamp": 1715602589231,
     "user": {
      "displayName": "Gabriele Lancione",
      "userId": "02497574145285887205"
     },
     "user_tz": -120
    },
    "id": "emdbWmYH3ytK"
   },
   "source": [
    "# Data Preparation - Transformers Pipelines"
   ]
  },
  {
   "cell_type": "markdown",
   "metadata": {
    "executionInfo": {
     "elapsed": 3,
     "status": "ok",
     "timestamp": 1715602590279,
     "user": {
      "displayName": "Gabriele Lancione",
      "userId": "02497574145285887205"
     },
     "user_tz": -120
    },
    "id": "bbE74-1K3-5t"
   },
   "source": [
    "## Import Libraries"
   ]
  },
  {
   "cell_type": "code",
   "execution_count": 1,
   "metadata": {
    "executionInfo": {
     "elapsed": 1470,
     "status": "ok",
     "timestamp": 1715602591747,
     "user": {
      "displayName": "Gabriele Lancione",
      "userId": "02497574145285887205"
     },
     "user_tz": -120
    },
    "id": "GJXUR7nI4ARe"
   },
   "outputs": [],
   "source": [
    "import pandas as pd\n",
    "from numpy.random import randint\n",
    "from sklearn.base import BaseEstimator, TransformerMixin\n",
    "from sklearn.pipeline import Pipeline\n",
    "from sklearn.preprocessing import FunctionTransformer\n",
    "from sklearn.preprocessing import OrdinalEncoder"
   ]
  },
  {
   "cell_type": "markdown",
   "metadata": {
    "executionInfo": {
     "elapsed": 9,
     "status": "ok",
     "timestamp": 1715602591747,
     "user": {
      "displayName": "Gabriele Lancione",
      "userId": "02497574145285887205"
     },
     "user_tz": -120
    },
    "id": "Ay6-mHUH4DCa"
   },
   "source": [
    "## Simple Transformer"
   ]
  },
  {
   "cell_type": "code",
   "execution_count": 2,
   "metadata": {
    "colab": {
     "base_uri": "https://localhost:8080/"
    },
    "executionInfo": {
     "elapsed": 274,
     "status": "ok",
     "timestamp": 1715602645519,
     "user": {
      "displayName": "Gabriele Lancione",
      "userId": "02497574145285887205"
     },
     "user_tz": -120
    },
    "id": "Fnxm-UkS4DdW",
    "outputId": "153b10e0-4f06-40e8-a051-776141855688"
   },
   "outputs": [
    {
     "name": "stdout",
     "output_type": "stream",
     "text": [
      "   a  b  c  random_int\n",
      "0  1  4  7           2\n",
      "1  2  5  8           5\n",
      "2  3  6  9           1\n"
     ]
    }
   ],
   "source": [
    "\n",
    "class SimpleTransformer(BaseEstimator, TransformerMixin):\n",
    "    def fit(self, X, y=None):\n",
    "        return self\n",
    "\n",
    "    def transform(self, X, y=None):\n",
    "        # Perform arbitary transformation\n",
    "        X[\"random_int\"] = randint(0, 10, X.shape[0])\n",
    "        return X\n",
    "\n",
    "\n",
    "\n",
    "df = pd.DataFrame({\"a\": [1, 2, 3], \"b\": [4, 5, 6], \"c\": [7, 8, 9]})\n",
    "\n",
    "pipe = Pipeline(\n",
    "    steps=[\n",
    "        (\"use_simple_transfomer\", SimpleTransformer())\n",
    "    ]\n",
    ")\n",
    "transformed_df = pipe.fit_transform(df)\n",
    "\n",
    "print(df)"
   ]
  },
  {
   "cell_type": "markdown",
   "metadata": {
    "executionInfo": {
     "elapsed": 6,
     "status": "ok",
     "timestamp": 1715602591747,
     "user": {
      "displayName": "Gabriele Lancione",
      "userId": "02497574145285887205"
     },
     "user_tz": -120
    },
    "id": "6zftqjzq4Kk8"
   },
   "source": [
    "## Simple Transformer with arguments"
   ]
  },
  {
   "cell_type": "code",
   "execution_count": 3,
   "metadata": {
    "colab": {
     "base_uri": "https://localhost:8080/"
    },
    "executionInfo": {
     "elapsed": 6,
     "status": "ok",
     "timestamp": 1715602591747,
     "user": {
      "displayName": "Gabriele Lancione",
      "userId": "02497574145285887205"
     },
     "user_tz": -120
    },
    "id": "-Vq0Kt564MFJ",
    "outputId": "32adad09-e01e-4454-bb43-c69cfaf1805b"
   },
   "outputs": [
    {
     "name": "stdout",
     "output_type": "stream",
     "text": [
      "   a  b   c\n",
      "0  3 -4 -21\n",
      "1 -6  5 -24\n",
      "2  9  6  27\n"
     ]
    }
   ],
   "source": [
    "class SimpleTransformer_args(BaseEstimator, TransformerMixin):\n",
    "    def __init__(self, by=1, columns=None):\n",
    "        self.by = by\n",
    "        self.columns = columns\n",
    "\n",
    "    def fit(self, X, y=None):\n",
    "        return self\n",
    "\n",
    "    def transform(self, X, y=None):\n",
    "        cols_to_transform = list(X.columns)\n",
    "\n",
    "        if self.columns:\n",
    "            cols_to_transform = self.columns\n",
    "\n",
    "        X[cols_to_transform] = X[cols_to_transform] * self.by\n",
    "        return X\n",
    "\n",
    "\n",
    "df = pd.DataFrame({\"a\": [1, -2, 3], \"b\": [-4, 5, 6], \"c\": [-7, -8, 9]})\n",
    "\n",
    "pipe = Pipeline(\n",
    "    steps=[\n",
    "        (\"use_simple_transfomer_args\", SimpleTransformer_args(3, columns=[\"a\", \"c\"]))\n",
    "    ]\n",
    ")\n",
    "transformed_df = pipe.fit_transform(df)\n",
    "\n",
    "print(df)"
   ]
  },
  {
   "cell_type": "markdown",
   "metadata": {
    "executionInfo": {
     "elapsed": 3,
     "status": "ok",
     "timestamp": 1715602591747,
     "user": {
      "displayName": "Gabriele Lancione",
      "userId": "02497574145285887205"
     },
     "user_tz": -120
    },
    "id": "iNMEItVq4OUH"
   },
   "source": [
    "## Transformer with function (wrapper)"
   ]
  },
  {
   "cell_type": "code",
   "execution_count": 4,
   "metadata": {
    "colab": {
     "base_uri": "https://localhost:8080/"
    },
    "executionInfo": {
     "elapsed": 6,
     "status": "ok",
     "timestamp": 1715602592432,
     "user": {
      "displayName": "Gabriele Lancione",
      "userId": "02497574145285887205"
     },
     "user_tz": -120
    },
    "id": "6evDh6Gw4QZY",
    "outputId": "2e9109ff-7766-4a52-839c-80525dcb7164"
   },
   "outputs": [
    {
     "name": "stdout",
     "output_type": "stream",
     "text": [
      "   id  fruit_Apple  fruit_Banana  fruit_Peach\n",
      "0   1            1             0            0\n",
      "1   2            1             0            0\n",
      "2   3            0             0            1\n",
      "3   4            0             1            0\n",
      "4   5            0             0            0\n"
     ]
    }
   ],
   "source": [
    "data = {\n",
    "    \"id\": [1, 2, 3, 4, 5,],\n",
    "    \"fruit\": [\"Apple\", \"Apple\", \"Peach\", \"Banana\"],\n",
    "}\n",
    "df = pd.DataFrame({k: pd.Series(v) for k, v in data.items()})\n",
    "\n",
    "pipe = Pipeline(\n",
    "    steps=[\n",
    "        (\"simple_one_hot_encode\", FunctionTransformer(pd.get_dummies))\n",
    "    ]\n",
    ")\n",
    "transformed_df = pipe.fit_transform(df)\n",
    "\n",
    "print(transformed_df)"
   ]
  },
  {
   "cell_type": "markdown",
   "metadata": {
    "executionInfo": {
     "elapsed": 5,
     "status": "ok",
     "timestamp": 1715602592432,
     "user": {
      "displayName": "Gabriele Lancione",
      "userId": "02497574145285887205"
     },
     "user_tz": -120
    },
    "id": "GheexMEz4Y6U"
   },
   "source": [
    "## Transformer with function (wrapper) and arguments"
   ]
  },
  {
   "cell_type": "code",
   "execution_count": 5,
   "metadata": {
    "colab": {
     "base_uri": "https://localhost:8080/"
    },
    "executionInfo": {
     "elapsed": 5,
     "status": "ok",
     "timestamp": 1715602592432,
     "user": {
      "displayName": "Gabriele Lancione",
      "userId": "02497574145285887205"
     },
     "user_tz": -120
    },
    "id": "joLi3fvw4a8Z",
    "outputId": "0aa32ced-b12c-482d-e4fa-1731491fbaba"
   },
   "outputs": [
    {
     "name": "stdout",
     "output_type": "stream",
     "text": [
      "   id  fruit_Apple  fruit_Banana  fruit_Peach  fruit_nan\n",
      "0   1          1.0           0.0          0.0        0.0\n",
      "1   2          1.0           0.0          0.0        0.0\n",
      "2   3          0.0           0.0          1.0        0.0\n",
      "3   4          0.0           1.0          0.0        0.0\n",
      "4   5          0.0           0.0          0.0        1.0\n"
     ]
    }
   ],
   "source": [
    "data = {\n",
    "    \"id\": [1, 2, 3, 4, 5,],\n",
    "    \"fruit\": [\"Apple\", \"Apple\", \"Peach\", \"Banana\"],\n",
    "}\n",
    "df = pd.DataFrame({k: pd.Series(v) for k, v in data.items()})\n",
    "\n",
    "pipe = Pipeline(\n",
    "    steps=[\n",
    "        (\n",
    "            \"simple_one_hot_encode\",\n",
    "            FunctionTransformer(\n",
    "                pd.get_dummies, kw_args={\"dummy_na\": True, \"dtype\": \"float\"}\n",
    "            ),\n",
    "        )\n",
    "    ]\n",
    ")\n",
    "transformed_df = pipe.fit_transform(df)\n",
    "\n",
    "print(transformed_df)"
   ]
  },
  {
   "cell_type": "markdown",
   "metadata": {
    "executionInfo": {
     "elapsed": 3,
     "status": "ok",
     "timestamp": 1715602592432,
     "user": {
      "displayName": "Gabriele Lancione",
      "userId": "02497574145285887205"
     },
     "user_tz": -120
    },
    "id": "KDCmAqmm4dSC"
   },
   "source": [
    "## Transfomer from existing sklearn class"
   ]
  },
  {
   "cell_type": "code",
   "execution_count": 6,
   "metadata": {
    "colab": {
     "base_uri": "https://localhost:8080/"
    },
    "executionInfo": {
     "elapsed": 3,
     "status": "ok",
     "timestamp": 1715602592432,
     "user": {
      "displayName": "Gabriele Lancione",
      "userId": "02497574145285887205"
     },
     "user_tz": -120
    },
    "id": "UDKs2XYh4fSY",
    "outputId": "d68c89e4-c961-4082-8ecb-160216df3ec5"
   },
   "outputs": [
    {
     "name": "stdout",
     "output_type": "stream",
     "text": [
      "   fruits  colors\n",
      "0       0       0\n",
      "1       2       0\n",
      "2       1       1\n",
      "Categories:  [array(['Apple', 'Cherry', 'Pears'], dtype=object), array(['Green', 'Red'], dtype=object)]\n"
     ]
    }
   ],
   "source": [
    "class CustomOrdinalEncoder(OrdinalEncoder):\n",
    "    def __init__(self, **kwargs):\n",
    "        super().__init__(**kwargs)\n",
    "\n",
    "    def transform(self, X, y=None):\n",
    "        transformed_X = super().transform(X)\n",
    "        new_X = pd.DataFrame(transformed_X, columns=self.feature_names_in_)\n",
    "\n",
    "        return new_X\n",
    "\n",
    "\n",
    "data = pd.DataFrame(\n",
    "    {\n",
    "        \"fruits\": [\"Apple\", \"Pears\", \"Cherry\"],\n",
    "        \"colors\": [\"Green\", \"Green\", \"Red\"],\n",
    "    }\n",
    ")\n",
    "\n",
    "enc = CustomOrdinalEncoder(dtype=int)\n",
    "new_data = enc.fit_transform(data)\n",
    "\n",
    "print(new_data)\n",
    "print(\"Categories: \", enc.categories_)"
   ]
  }
 ],
 "metadata": {
  "colab": {
   "authorship_tag": "ABX9TyNhINqrFB9NG/8qS+43IcTZ",
   "provenance": []
  },
  "kernelspec": {
   "display_name": "Python 3 (ipykernel)",
   "language": "python",
   "name": "python3"
  },
  "language_info": {
   "codemirror_mode": {
    "name": "ipython",
    "version": 3
   },
   "file_extension": ".py",
   "mimetype": "text/x-python",
   "name": "python",
   "nbconvert_exporter": "python",
   "pygments_lexer": "ipython3",
   "version": "3.9.6"
  }
 },
 "nbformat": 4,
 "nbformat_minor": 4
}
