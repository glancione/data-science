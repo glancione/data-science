{
 "cells": [
  {
   "cell_type": "markdown",
   "id": "79ff4af5-30f1-4a2a-abba-793f35195c29",
   "metadata": {},
   "source": [
    "#########################################\n",
    "\n",
    "Import Libraries\n",
    "\n",
    "#########################################\n"
   ]
  },
  {
   "cell_type": "code",
   "execution_count": 206,
   "id": "14acb6b7-4a40-49b5-9206-49e3ece70c0c",
   "metadata": {},
   "outputs": [],
   "source": [
    "import pandas as pd\n",
    "import seaborn as sns\n",
    "import numpy as np\n",
    "from sklearn.preprocessing import LabelEncoder"
   ]
  },
  {
   "cell_type": "markdown",
   "id": "62e75b2c-06d5-4abe-8dc1-29edf6b6e4b6",
   "metadata": {},
   "source": [
    "#########################################\n",
    "\n",
    "Import Data\n",
    "\n",
    "#########################################\n"
   ]
  },
  {
   "cell_type": "code",
   "execution_count": 207,
   "id": "e2154b16-56c7-473d-acfe-9b5d93dee55f",
   "metadata": {},
   "outputs": [
    {
     "data": {
      "text/html": [
       "<div>\n",
       "<style scoped>\n",
       "    .dataframe tbody tr th:only-of-type {\n",
       "        vertical-align: middle;\n",
       "    }\n",
       "\n",
       "    .dataframe tbody tr th {\n",
       "        vertical-align: top;\n",
       "    }\n",
       "\n",
       "    .dataframe thead th {\n",
       "        text-align: right;\n",
       "    }\n",
       "</style>\n",
       "<table border=\"1\" class=\"dataframe\">\n",
       "  <thead>\n",
       "    <tr style=\"text-align: right;\">\n",
       "      <th></th>\n",
       "      <th>species</th>\n",
       "      <th>island</th>\n",
       "      <th>bill_length_mm</th>\n",
       "      <th>bill_depth_mm</th>\n",
       "      <th>flipper_length_mm</th>\n",
       "      <th>body_mass_g</th>\n",
       "      <th>sex</th>\n",
       "    </tr>\n",
       "  </thead>\n",
       "  <tbody>\n",
       "    <tr>\n",
       "      <th>0</th>\n",
       "      <td>Adelie</td>\n",
       "      <td>Torgersen</td>\n",
       "      <td>39.1</td>\n",
       "      <td>18.7</td>\n",
       "      <td>181.0</td>\n",
       "      <td>3750.0</td>\n",
       "      <td>Male</td>\n",
       "    </tr>\n",
       "    <tr>\n",
       "      <th>1</th>\n",
       "      <td>Adelie</td>\n",
       "      <td>Torgersen</td>\n",
       "      <td>39.5</td>\n",
       "      <td>17.4</td>\n",
       "      <td>186.0</td>\n",
       "      <td>3800.0</td>\n",
       "      <td>Female</td>\n",
       "    </tr>\n",
       "    <tr>\n",
       "      <th>2</th>\n",
       "      <td>Adelie</td>\n",
       "      <td>Torgersen</td>\n",
       "      <td>40.3</td>\n",
       "      <td>18.0</td>\n",
       "      <td>195.0</td>\n",
       "      <td>3250.0</td>\n",
       "      <td>Female</td>\n",
       "    </tr>\n",
       "    <tr>\n",
       "      <th>3</th>\n",
       "      <td>Adelie</td>\n",
       "      <td>Torgersen</td>\n",
       "      <td>NaN</td>\n",
       "      <td>NaN</td>\n",
       "      <td>NaN</td>\n",
       "      <td>NaN</td>\n",
       "      <td>NaN</td>\n",
       "    </tr>\n",
       "    <tr>\n",
       "      <th>4</th>\n",
       "      <td>Adelie</td>\n",
       "      <td>Torgersen</td>\n",
       "      <td>36.7</td>\n",
       "      <td>19.3</td>\n",
       "      <td>193.0</td>\n",
       "      <td>3450.0</td>\n",
       "      <td>Female</td>\n",
       "    </tr>\n",
       "  </tbody>\n",
       "</table>\n",
       "</div>"
      ],
      "text/plain": [
       "  species     island  bill_length_mm  bill_depth_mm  flipper_length_mm  \\\n",
       "0  Adelie  Torgersen            39.1           18.7              181.0   \n",
       "1  Adelie  Torgersen            39.5           17.4              186.0   \n",
       "2  Adelie  Torgersen            40.3           18.0              195.0   \n",
       "3  Adelie  Torgersen             NaN            NaN                NaN   \n",
       "4  Adelie  Torgersen            36.7           19.3              193.0   \n",
       "\n",
       "   body_mass_g     sex  \n",
       "0       3750.0    Male  \n",
       "1       3800.0  Female  \n",
       "2       3250.0  Female  \n",
       "3          NaN     NaN  \n",
       "4       3450.0  Female  "
      ]
     },
     "execution_count": 207,
     "metadata": {},
     "output_type": "execute_result"
    }
   ],
   "source": [
    "df = sns.load_dataset('penguins')\n",
    "df.head()"
   ]
  },
  {
   "cell_type": "code",
   "execution_count": 208,
   "id": "f351a6fc-142c-4a6d-b022-a3981e2d7f35",
   "metadata": {},
   "outputs": [
    {
     "name": "stdout",
     "output_type": "stream",
     "text": [
      "Count of distinct values in column 'island':\n",
      "\n"
     ]
    },
    {
     "data": {
      "text/plain": [
       "Biscoe       168\n",
       "Dream        124\n",
       "Torgersen     52\n",
       "Name: island, dtype: int64"
      ]
     },
     "execution_count": 208,
     "metadata": {},
     "output_type": "execute_result"
    }
   ],
   "source": [
    "print(\"Count of distinct values in column 'island':\\n\")\n",
    "df['island'].value_counts()"
   ]
  },
  {
   "cell_type": "code",
   "execution_count": 209,
   "id": "f74e0055-4176-4feb-94ef-329d7cf38b76",
   "metadata": {},
   "outputs": [
    {
     "name": "stdout",
     "output_type": "stream",
     "text": [
      "<class 'pandas.core.frame.DataFrame'>\n",
      "RangeIndex: 344 entries, 0 to 343\n",
      "Data columns (total 7 columns):\n",
      " #   Column             Non-Null Count  Dtype  \n",
      "---  ------             --------------  -----  \n",
      " 0   species            344 non-null    object \n",
      " 1   island             344 non-null    object \n",
      " 2   bill_length_mm     342 non-null    float64\n",
      " 3   bill_depth_mm      342 non-null    float64\n",
      " 4   flipper_length_mm  342 non-null    float64\n",
      " 5   body_mass_g        342 non-null    float64\n",
      " 6   sex                333 non-null    object \n",
      "dtypes: float64(4), object(3)\n",
      "memory usage: 18.9+ KB\n",
      "None\n"
     ]
    }
   ],
   "source": [
    "# Get a concise summary of the dataframe\n",
    "print(df.info())"
   ]
  },
  {
   "cell_type": "code",
   "execution_count": 210,
   "id": "756c4cd9-56c3-456c-ae51-9644fc1e4494",
   "metadata": {},
   "outputs": [
    {
     "name": "stdout",
     "output_type": "stream",
     "text": [
      "       bill_length_mm  bill_depth_mm  flipper_length_mm  body_mass_g\n",
      "count      342.000000     342.000000         342.000000   342.000000\n",
      "mean        43.921930      17.151170         200.915205  4201.754386\n",
      "std          5.459584       1.974793          14.061714   801.954536\n",
      "min         32.100000      13.100000         172.000000  2700.000000\n",
      "25%         39.225000      15.600000         190.000000  3550.000000\n",
      "50%         44.450000      17.300000         197.000000  4050.000000\n",
      "75%         48.500000      18.700000         213.000000  4750.000000\n",
      "max         59.600000      21.500000         231.000000  6300.000000\n"
     ]
    }
   ],
   "source": [
    "# Get a concise summary of the dataframe\n",
    "print(df.describe())"
   ]
  },
  {
   "cell_type": "markdown",
   "id": "3f719f46-ae8b-427a-9dba-96e7971f9848",
   "metadata": {},
   "source": [
    "#########################################\n",
    "\n",
    "Drop Useless Information\n",
    "\n",
    "#########################################"
   ]
  },
  {
   "cell_type": "code",
   "execution_count": 211,
   "id": "041d5a59-d57a-4c88-9630-ba8c7d934d51",
   "metadata": {},
   "outputs": [
    {
     "data": {
      "text/html": [
       "<div>\n",
       "<style scoped>\n",
       "    .dataframe tbody tr th:only-of-type {\n",
       "        vertical-align: middle;\n",
       "    }\n",
       "\n",
       "    .dataframe tbody tr th {\n",
       "        vertical-align: top;\n",
       "    }\n",
       "\n",
       "    .dataframe thead th {\n",
       "        text-align: right;\n",
       "    }\n",
       "</style>\n",
       "<table border=\"1\" class=\"dataframe\">\n",
       "  <thead>\n",
       "    <tr style=\"text-align: right;\">\n",
       "      <th></th>\n",
       "      <th>species</th>\n",
       "      <th>island</th>\n",
       "      <th>bill_length_mm</th>\n",
       "      <th>flipper_length_mm</th>\n",
       "      <th>body_mass_g</th>\n",
       "      <th>sex</th>\n",
       "    </tr>\n",
       "  </thead>\n",
       "  <tbody>\n",
       "    <tr>\n",
       "      <th>0</th>\n",
       "      <td>Adelie</td>\n",
       "      <td>Torgersen</td>\n",
       "      <td>39.1</td>\n",
       "      <td>181.0</td>\n",
       "      <td>3750.0</td>\n",
       "      <td>Male</td>\n",
       "    </tr>\n",
       "    <tr>\n",
       "      <th>1</th>\n",
       "      <td>Adelie</td>\n",
       "      <td>Torgersen</td>\n",
       "      <td>39.5</td>\n",
       "      <td>186.0</td>\n",
       "      <td>3800.0</td>\n",
       "      <td>Female</td>\n",
       "    </tr>\n",
       "    <tr>\n",
       "      <th>2</th>\n",
       "      <td>Adelie</td>\n",
       "      <td>Torgersen</td>\n",
       "      <td>40.3</td>\n",
       "      <td>195.0</td>\n",
       "      <td>3250.0</td>\n",
       "      <td>Female</td>\n",
       "    </tr>\n",
       "    <tr>\n",
       "      <th>3</th>\n",
       "      <td>Adelie</td>\n",
       "      <td>Torgersen</td>\n",
       "      <td>NaN</td>\n",
       "      <td>NaN</td>\n",
       "      <td>NaN</td>\n",
       "      <td>NaN</td>\n",
       "    </tr>\n",
       "    <tr>\n",
       "      <th>4</th>\n",
       "      <td>Adelie</td>\n",
       "      <td>Torgersen</td>\n",
       "      <td>36.7</td>\n",
       "      <td>193.0</td>\n",
       "      <td>3450.0</td>\n",
       "      <td>Female</td>\n",
       "    </tr>\n",
       "  </tbody>\n",
       "</table>\n",
       "</div>"
      ],
      "text/plain": [
       "  species     island  bill_length_mm  flipper_length_mm  body_mass_g     sex\n",
       "0  Adelie  Torgersen            39.1              181.0       3750.0    Male\n",
       "1  Adelie  Torgersen            39.5              186.0       3800.0  Female\n",
       "2  Adelie  Torgersen            40.3              195.0       3250.0  Female\n",
       "3  Adelie  Torgersen             NaN                NaN          NaN     NaN\n",
       "4  Adelie  Torgersen            36.7              193.0       3450.0  Female"
      ]
     },
     "execution_count": 211,
     "metadata": {},
     "output_type": "execute_result"
    }
   ],
   "source": [
    "df = df.drop(['bill_depth_mm'], axis=1)\n",
    "df.head()"
   ]
  },
  {
   "cell_type": "markdown",
   "id": "d5495752-6fb4-43d8-8c22-bb4115b1b115",
   "metadata": {},
   "source": [
    "#########################################\n",
    "\n",
    "Rebuild Missing Data\n",
    "\n",
    "#########################################"
   ]
  },
  {
   "cell_type": "code",
   "execution_count": 212,
   "id": "b10c05df-5f72-4b0f-a871-094afc0fc02a",
   "metadata": {},
   "outputs": [
    {
     "name": "stdout",
     "output_type": "stream",
     "text": [
      "Columns cointaining 'na' values:\n",
      "\n",
      "species              False\n",
      "island               False\n",
      "bill_length_mm        True\n",
      "flipper_length_mm     True\n",
      "body_mass_g           True\n",
      "sex                   True\n",
      "dtype: bool\n",
      "\n",
      "----------------------------------------------------\n",
      "\n",
      "Count of 'na' values per column:\n",
      "\n",
      "species               0\n",
      "island                0\n",
      "bill_length_mm        2\n",
      "flipper_length_mm     2\n",
      "body_mass_g           2\n",
      "sex                  11\n",
      "dtype: int64\n"
     ]
    }
   ],
   "source": [
    "print(\"Columns cointaining 'na' values:\\n\")\n",
    "print(df.isna().any())\n",
    "print('\\n----------------------------------------------------\\n')\n",
    "print(\"Count of 'na' values per column:\\n\")\n",
    "print(df.isna().sum())\n"
   ]
  },
  {
   "cell_type": "code",
   "execution_count": 213,
   "id": "90c8183f-a101-4471-9ab5-9dee2040348c",
   "metadata": {},
   "outputs": [
    {
     "name": "stdout",
     "output_type": "stream",
     "text": [
      "Count of 'na' values per column:\n",
      "\n",
      "species               0\n",
      "island                0\n",
      "bill_length_mm        0\n",
      "flipper_length_mm     2\n",
      "body_mass_g           2\n",
      "sex                  11\n",
      "dtype: int64\n"
     ]
    }
   ],
   "source": [
    "df['bill_length_mm'] = df['bill_length_mm'].fillna(df['bill_length_mm'].mean())\n",
    "print(\"Count of 'na' values per column:\\n\")\n",
    "print(df.isna().sum())"
   ]
  },
  {
   "cell_type": "code",
   "execution_count": 214,
   "id": "de78030d-5c11-4b0b-b5ca-765f1fcf8209",
   "metadata": {},
   "outputs": [
    {
     "name": "stdout",
     "output_type": "stream",
     "text": [
      "Removed 15 missing values\n"
     ]
    }
   ],
   "source": [
    "# removing the remaining missing values \n",
    "missing_values = df.isnull().sum()\n",
    "df = df.dropna()\n",
    "print(\"Removed {} missing values\".format(missing_values.sum()))"
   ]
  },
  {
   "cell_type": "markdown",
   "id": "fb2c8c27-d9e5-4172-8430-49a04ddd224e",
   "metadata": {},
   "source": [
    "#########################################\n",
    "\n",
    "Outliers Handling\n",
    "\n",
    "#########################################"
   ]
  },
  {
   "cell_type": "code",
   "execution_count": 215,
   "id": "a6844117-77ed-4f3d-9448-b55161ec0e77",
   "metadata": {},
   "outputs": [
    {
     "name": "stdout",
     "output_type": "stream",
     "text": [
      "# rows before outliers handling: 333 \n",
      "...\n",
      "# rows after outliers handling: 333 \n",
      "...\n"
     ]
    }
   ],
   "source": [
    "print(\"# rows before outliers handling: {} \\n...\".format(df.shape[0]))\n",
    "q1 = df[\"flipper_length_mm\"].quantile(0.25)\n",
    "q3 = df[\"flipper_length_mm\"].quantile(0.75)\n",
    "iqr = q3 - q1\n",
    "df = df[(df[\"flipper_length_mm\"] > (q1 - 1.5 * iqr)) & (df[\"flipper_length_mm\"] < (q3 + 1.5 * iqr))]\n",
    "print(\"# rows after outliers handling: {} \\n...\".format(df.shape[0]))"
   ]
  },
  {
   "cell_type": "markdown",
   "id": "2b742136-0883-40f1-8468-de11f27c1245",
   "metadata": {},
   "source": [
    "#########################################\n",
    "\n",
    "Merge Data\n",
    "\n",
    "#########################################"
   ]
  },
  {
   "cell_type": "markdown",
   "id": "9f82417f-481b-4969-b3be-caa307c83294",
   "metadata": {},
   "source": [
    "#########################################\n",
    "\n",
    "Standardize Data\n",
    "\n",
    "#########################################"
   ]
  },
  {
   "cell_type": "markdown",
   "id": "62814cf4-1804-40a7-a8ef-066b83b844d7",
   "metadata": {},
   "source": [
    "#########################################\n",
    "\n",
    "Normalize Data\n",
    "\n",
    "#########################################"
   ]
  },
  {
   "cell_type": "markdown",
   "id": "83f78730-174f-4906-a308-087c19281b82",
   "metadata": {},
   "source": [
    "#########################################\n",
    "\n",
    "Removing Duplicate Data\n",
    "\n",
    "#########################################"
   ]
  },
  {
   "cell_type": "code",
   "execution_count": 216,
   "id": "c392a18b-6302-4a42-a657-7b93668d4932",
   "metadata": {},
   "outputs": [
    {
     "name": "stdout",
     "output_type": "stream",
     "text": [
      "Detected 1 duplicated row(s):\n",
      "\n"
     ]
    },
    {
     "data": {
      "text/html": [
       "<div>\n",
       "<style scoped>\n",
       "    .dataframe tbody tr th:only-of-type {\n",
       "        vertical-align: middle;\n",
       "    }\n",
       "\n",
       "    .dataframe tbody tr th {\n",
       "        vertical-align: top;\n",
       "    }\n",
       "\n",
       "    .dataframe thead th {\n",
       "        text-align: right;\n",
       "    }\n",
       "</style>\n",
       "<table border=\"1\" class=\"dataframe\">\n",
       "  <thead>\n",
       "    <tr style=\"text-align: right;\">\n",
       "      <th></th>\n",
       "      <th>species</th>\n",
       "      <th>island</th>\n",
       "      <th>bill_length_mm</th>\n",
       "      <th>flipper_length_mm</th>\n",
       "      <th>body_mass_g</th>\n",
       "      <th>sex</th>\n",
       "    </tr>\n",
       "  </thead>\n",
       "  <tbody>\n",
       "    <tr>\n",
       "      <th>206</th>\n",
       "      <td>Chinstrap</td>\n",
       "      <td>Dream</td>\n",
       "      <td>42.5</td>\n",
       "      <td>187.0</td>\n",
       "      <td>3350.0</td>\n",
       "      <td>Female</td>\n",
       "    </tr>\n",
       "  </tbody>\n",
       "</table>\n",
       "</div>"
      ],
      "text/plain": [
       "       species island  bill_length_mm  flipper_length_mm  body_mass_g     sex\n",
       "206  Chinstrap  Dream            42.5              187.0       3350.0  Female"
      ]
     },
     "execution_count": 216,
     "metadata": {},
     "output_type": "execute_result"
    }
   ],
   "source": [
    "print(\"Detected {} duplicated row(s):\\n\".format(df[df.duplicated()].shape[0]))\n",
    "df[df.duplicated()]"
   ]
  },
  {
   "cell_type": "code",
   "execution_count": 217,
   "id": "9f0a1d17-6252-470f-bcff-fbd398ffe7b3",
   "metadata": {},
   "outputs": [
    {
     "name": "stdout",
     "output_type": "stream",
     "text": [
      "Duplicated row(s) after cleaning: 0\n"
     ]
    }
   ],
   "source": [
    "df = df.drop_duplicates(subset=None, keep='first', inplace=False, ignore_index=False)\n",
    "df = df.reset_index(drop=True)\n",
    "print(\"Duplicated row(s) after cleaning: {}\".format(df[df.duplicated()].shape[0]))"
   ]
  },
  {
   "cell_type": "markdown",
   "id": "3293614f-3dc1-4e5c-9025-adfdd75abb61",
   "metadata": {},
   "source": [
    "#########################################\n",
    "\n",
    "Data Enrichment\n",
    "\n",
    "#########################################"
   ]
  },
  {
   "cell_type": "code",
   "execution_count": 218,
   "id": "9693a14c-e67f-41b9-8436-7258079c6918",
   "metadata": {},
   "outputs": [
    {
     "data": {
      "text/plain": [
       "Sicilia     163\n",
       "Sardegna    122\n",
       "Corsica      47\n",
       "Name: island, dtype: int64"
      ]
     },
     "execution_count": 218,
     "metadata": {},
     "output_type": "execute_result"
    }
   ],
   "source": [
    "# replace specific values on a specific column with a dedicated value\n",
    "df['island'] = df['island'].replace(['Biscoe', 'Dream', 'Torgersen'], ['Sicilia','Sardegna','Corsica'])\n",
    "df['island'].value_counts()"
   ]
  },
  {
   "cell_type": "code",
   "execution_count": 219,
   "id": "8488df34-4c36-44f9-a7cc-2684d801a998",
   "metadata": {},
   "outputs": [],
   "source": [
    "# rename column\n",
    "df = df.rename(columns={\"island\": \"italian_island\"})\n",
    "df = df.rename(columns=str.upper)"
   ]
  },
  {
   "cell_type": "code",
   "execution_count": 220,
   "id": "50d354e6-03bf-4ef6-99e9-3fe4afa17c1f",
   "metadata": {},
   "outputs": [
    {
     "data": {
      "text/html": [
       "<div>\n",
       "<style scoped>\n",
       "    .dataframe tbody tr th:only-of-type {\n",
       "        vertical-align: middle;\n",
       "    }\n",
       "\n",
       "    .dataframe tbody tr th {\n",
       "        vertical-align: top;\n",
       "    }\n",
       "\n",
       "    .dataframe thead th {\n",
       "        text-align: right;\n",
       "    }\n",
       "</style>\n",
       "<table border=\"1\" class=\"dataframe\">\n",
       "  <thead>\n",
       "    <tr style=\"text-align: right;\">\n",
       "      <th></th>\n",
       "      <th>SPECIES</th>\n",
       "      <th>BILL_LENGTH_MM</th>\n",
       "      <th>FLIPPER_LENGTH_MM</th>\n",
       "      <th>BODY_MASS_G</th>\n",
       "      <th>SEX</th>\n",
       "      <th>ITALIAN_ISLAND_Corsica</th>\n",
       "      <th>ITALIAN_ISLAND_Sardegna</th>\n",
       "      <th>ITALIAN_ISLAND_Sicilia</th>\n",
       "    </tr>\n",
       "  </thead>\n",
       "  <tbody>\n",
       "    <tr>\n",
       "      <th>0</th>\n",
       "      <td>Adelie</td>\n",
       "      <td>39.1</td>\n",
       "      <td>181.0</td>\n",
       "      <td>3750.0</td>\n",
       "      <td>Male</td>\n",
       "      <td>1</td>\n",
       "      <td>0</td>\n",
       "      <td>0</td>\n",
       "    </tr>\n",
       "    <tr>\n",
       "      <th>1</th>\n",
       "      <td>Adelie</td>\n",
       "      <td>39.5</td>\n",
       "      <td>186.0</td>\n",
       "      <td>3800.0</td>\n",
       "      <td>Female</td>\n",
       "      <td>1</td>\n",
       "      <td>0</td>\n",
       "      <td>0</td>\n",
       "    </tr>\n",
       "    <tr>\n",
       "      <th>2</th>\n",
       "      <td>Adelie</td>\n",
       "      <td>40.3</td>\n",
       "      <td>195.0</td>\n",
       "      <td>3250.0</td>\n",
       "      <td>Female</td>\n",
       "      <td>1</td>\n",
       "      <td>0</td>\n",
       "      <td>0</td>\n",
       "    </tr>\n",
       "    <tr>\n",
       "      <th>3</th>\n",
       "      <td>Adelie</td>\n",
       "      <td>36.7</td>\n",
       "      <td>193.0</td>\n",
       "      <td>3450.0</td>\n",
       "      <td>Female</td>\n",
       "      <td>1</td>\n",
       "      <td>0</td>\n",
       "      <td>0</td>\n",
       "    </tr>\n",
       "    <tr>\n",
       "      <th>4</th>\n",
       "      <td>Adelie</td>\n",
       "      <td>39.3</td>\n",
       "      <td>190.0</td>\n",
       "      <td>3650.0</td>\n",
       "      <td>Male</td>\n",
       "      <td>1</td>\n",
       "      <td>0</td>\n",
       "      <td>0</td>\n",
       "    </tr>\n",
       "  </tbody>\n",
       "</table>\n",
       "</div>"
      ],
      "text/plain": [
       "  SPECIES  BILL_LENGTH_MM  FLIPPER_LENGTH_MM  BODY_MASS_G     SEX  \\\n",
       "0  Adelie            39.1              181.0       3750.0    Male   \n",
       "1  Adelie            39.5              186.0       3800.0  Female   \n",
       "2  Adelie            40.3              195.0       3250.0  Female   \n",
       "3  Adelie            36.7              193.0       3450.0  Female   \n",
       "4  Adelie            39.3              190.0       3650.0    Male   \n",
       "\n",
       "   ITALIAN_ISLAND_Corsica  ITALIAN_ISLAND_Sardegna  ITALIAN_ISLAND_Sicilia  \n",
       "0                       1                        0                       0  \n",
       "1                       1                        0                       0  \n",
       "2                       1                        0                       0  \n",
       "3                       1                        0                       0  \n",
       "4                       1                        0                       0  "
      ]
     },
     "execution_count": 220,
     "metadata": {},
     "output_type": "execute_result"
    }
   ],
   "source": [
    "# Encoding Categorical Variables\n",
    "df = pd.get_dummies(df, columns=['ITALIAN_ISLAND'])\n",
    "df.head()"
   ]
  },
  {
   "cell_type": "code",
   "execution_count": 221,
   "id": "afe52529-a683-4863-8a0c-78c98ab28900",
   "metadata": {},
   "outputs": [
    {
     "data": {
      "text/html": [
       "<div>\n",
       "<style scoped>\n",
       "    .dataframe tbody tr th:only-of-type {\n",
       "        vertical-align: middle;\n",
       "    }\n",
       "\n",
       "    .dataframe tbody tr th {\n",
       "        vertical-align: top;\n",
       "    }\n",
       "\n",
       "    .dataframe thead th {\n",
       "        text-align: right;\n",
       "    }\n",
       "</style>\n",
       "<table border=\"1\" class=\"dataframe\">\n",
       "  <thead>\n",
       "    <tr style=\"text-align: right;\">\n",
       "      <th></th>\n",
       "      <th>SPECIES</th>\n",
       "      <th>BILL_LENGTH_MM</th>\n",
       "      <th>FLIPPER_LENGTH_MM</th>\n",
       "      <th>BODY_MASS_G</th>\n",
       "      <th>SEX</th>\n",
       "      <th>ITALIAN_ISLAND_Corsica</th>\n",
       "      <th>ITALIAN_ISLAND_Sardegna</th>\n",
       "      <th>ITALIAN_ISLAND_Sicilia</th>\n",
       "      <th>SEX_ENCODED</th>\n",
       "    </tr>\n",
       "  </thead>\n",
       "  <tbody>\n",
       "    <tr>\n",
       "      <th>0</th>\n",
       "      <td>Adelie</td>\n",
       "      <td>39.1</td>\n",
       "      <td>181.0</td>\n",
       "      <td>3750.0</td>\n",
       "      <td>Male</td>\n",
       "      <td>1</td>\n",
       "      <td>0</td>\n",
       "      <td>0</td>\n",
       "      <td>1</td>\n",
       "    </tr>\n",
       "    <tr>\n",
       "      <th>1</th>\n",
       "      <td>Adelie</td>\n",
       "      <td>39.5</td>\n",
       "      <td>186.0</td>\n",
       "      <td>3800.0</td>\n",
       "      <td>Female</td>\n",
       "      <td>1</td>\n",
       "      <td>0</td>\n",
       "      <td>0</td>\n",
       "      <td>0</td>\n",
       "    </tr>\n",
       "    <tr>\n",
       "      <th>2</th>\n",
       "      <td>Adelie</td>\n",
       "      <td>40.3</td>\n",
       "      <td>195.0</td>\n",
       "      <td>3250.0</td>\n",
       "      <td>Female</td>\n",
       "      <td>1</td>\n",
       "      <td>0</td>\n",
       "      <td>0</td>\n",
       "      <td>0</td>\n",
       "    </tr>\n",
       "    <tr>\n",
       "      <th>3</th>\n",
       "      <td>Adelie</td>\n",
       "      <td>36.7</td>\n",
       "      <td>193.0</td>\n",
       "      <td>3450.0</td>\n",
       "      <td>Female</td>\n",
       "      <td>1</td>\n",
       "      <td>0</td>\n",
       "      <td>0</td>\n",
       "      <td>0</td>\n",
       "    </tr>\n",
       "    <tr>\n",
       "      <th>4</th>\n",
       "      <td>Adelie</td>\n",
       "      <td>39.3</td>\n",
       "      <td>190.0</td>\n",
       "      <td>3650.0</td>\n",
       "      <td>Male</td>\n",
       "      <td>1</td>\n",
       "      <td>0</td>\n",
       "      <td>0</td>\n",
       "      <td>1</td>\n",
       "    </tr>\n",
       "  </tbody>\n",
       "</table>\n",
       "</div>"
      ],
      "text/plain": [
       "  SPECIES  BILL_LENGTH_MM  FLIPPER_LENGTH_MM  BODY_MASS_G     SEX  \\\n",
       "0  Adelie            39.1              181.0       3750.0    Male   \n",
       "1  Adelie            39.5              186.0       3800.0  Female   \n",
       "2  Adelie            40.3              195.0       3250.0  Female   \n",
       "3  Adelie            36.7              193.0       3450.0  Female   \n",
       "4  Adelie            39.3              190.0       3650.0    Male   \n",
       "\n",
       "   ITALIAN_ISLAND_Corsica  ITALIAN_ISLAND_Sardegna  ITALIAN_ISLAND_Sicilia  \\\n",
       "0                       1                        0                       0   \n",
       "1                       1                        0                       0   \n",
       "2                       1                        0                       0   \n",
       "3                       1                        0                       0   \n",
       "4                       1                        0                       0   \n",
       "\n",
       "   SEX_ENCODED  \n",
       "0            1  \n",
       "1            0  \n",
       "2            0  \n",
       "3            0  \n",
       "4            1  "
      ]
     },
     "execution_count": 221,
     "metadata": {},
     "output_type": "execute_result"
    }
   ],
   "source": [
    "# encode into a single column\n",
    "le = LabelEncoder()\n",
    "df[\"SEX_ENCODED\"] = le.fit_transform(df[\"SEX\"])\n",
    "df.head()"
   ]
  },
  {
   "cell_type": "code",
   "execution_count": 222,
   "id": "6e04583a-e346-4971-ad68-56ab089f11f9",
   "metadata": {},
   "outputs": [
    {
     "name": "stdout",
     "output_type": "stream",
     "text": [
      "(2699.999, 3700.0]    112\n",
      "(3700.0, 4550.0]      110\n",
      "(4550.0, 6300.0]      110\n",
      "Name: BODY_MASS_G_bin, dtype: int64\n"
     ]
    }
   ],
   "source": [
    "# binning\n",
    "df['BODY_MASS_G_bin'] = pd.qcut(df['BODY_MASS_G'], q=3)\n",
    "print(df['BODY_MASS_G_bin'].value_counts())"
   ]
  }
 ],
 "metadata": {
  "kernelspec": {
   "display_name": "Python 3 (ipykernel)",
   "language": "python",
   "name": "python3"
  },
  "language_info": {
   "codemirror_mode": {
    "name": "ipython",
    "version": 3
   },
   "file_extension": ".py",
   "mimetype": "text/x-python",
   "name": "python",
   "nbconvert_exporter": "python",
   "pygments_lexer": "ipython3",
   "version": "3.9.6"
  }
 },
 "nbformat": 4,
 "nbformat_minor": 5
}
