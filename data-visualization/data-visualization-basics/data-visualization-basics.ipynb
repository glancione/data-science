{
 "cells": [
  {
   "cell_type": "markdown",
   "id": "ce3a5d85-36d0-477b-8e0d-54da659f10ec",
   "metadata": {},
   "source": [
    "# Data Visualization - Basics"
   ]
  },
  {
   "cell_type": "markdown",
   "id": "e998bd92-48ec-4b26-b67a-06da36b8664a",
   "metadata": {},
   "source": [
    "## Import Libraries\n"
   ]
  },
  {
   "cell_type": "code",
   "execution_count": null,
   "id": "92191a29-11dd-455c-be77-c6c6b87aa061",
   "metadata": {},
   "outputs": [],
   "source": [
    "import numpy as np\n",
    "import matplotlib.pyplot as plt\n",
    "import seaborn as sns\n",
    "from bokeh.plotting import figure, output_file, show\n",
    "from bokeh.palettes import magma"
   ]
  },
  {
   "cell_type": "markdown",
   "id": "4fd7c206-6d92-4147-bdd6-83354a573d0e",
   "metadata": {},
   "source": [
    "## Seaborn"
   ]
  },
  {
   "cell_type": "code",
   "execution_count": null,
   "id": "6ff6a8b7-20db-47de-ac15-4851aea28461",
   "metadata": {},
   "outputs": [],
   "source": [
    "# set up seaborn settings\n",
    "sns.set_style(style='whitegrid') "
   ]
  },
  {
   "cell_type": "code",
   "execution_count": null,
   "id": "f5963faf-1046-44e0-8497-dd962e1bee49",
   "metadata": {},
   "outputs": [],
   "source": [
    "# import data\n",
    "tips_df = sns.load_dataset('tips')\n",
    "flowers_df = sns.load_dataset('iris')\n",
    "flights_df = sns.load_dataset('flights').pivot('month', 'year', 'passengers')"
   ]
  },
  {
   "cell_type": "code",
   "execution_count": null,
   "id": "e69271da-c58d-4ab2-b01c-d4d5b052f811",
   "metadata": {},
   "outputs": [],
   "source": [
    "# scatterplot\n",
    "plt.figure(figsize=(12, 6))\n",
    "plt.title('Sepal Dimensions')\n",
    "sns.scatterplot(x=flowers_df.sepal_length, y=flowers_df.sepal_width, hue=flowers_df.species, s=70)"
   ]
  },
  {
   "cell_type": "code",
   "execution_count": null,
   "id": "ec397357-cf4c-4d6f-a14a-050cc4daeaeb",
   "metadata": {},
   "outputs": [],
   "source": [
    "# lineplot\n",
    "plt.figure(figsize=(12, 6))\n",
    "plt.title('Sepal Lengths')\n",
    "sns.lineplot(x=flowers_df.species, y=flowers_df.sepal_length)"
   ]
  },
  {
   "cell_type": "code",
   "execution_count": null,
   "id": "f519375f-76fe-4965-bdce-b258c2336a95",
   "metadata": {},
   "outputs": [],
   "source": [
    "# barplot\n",
    "plt.figure(figsize=(12, 6))\n",
    "plt.title('Barplot')\n",
    "sns.barplot(x='day', y='total_bill', hue='sex', data=tips_df)\n",
    "plt.show()"
   ]
  },
  {
   "cell_type": "code",
   "execution_count": null,
   "id": "837b7ef0-a971-40a7-9fc6-71fba5ad67b5",
   "metadata": {},
   "outputs": [],
   "source": [
    "# heatmap\n",
    "plt.title('No of Passengers (1000s)')\n",
    "sns.heatmap(flights_df, fmt='d', annot=True, cmap='Blues')"
   ]
  },
  {
   "cell_type": "code",
   "execution_count": null,
   "id": "5b0d5e1f-6a1f-4fd2-b939-f65ffd37eda4",
   "metadata": {},
   "outputs": [],
   "source": [
    "# histplot\n",
    "sns.histplot(x='total_bill', data=tips_df, kde=True, hue='sex')\n",
    "plt.show()"
   ]
  },
  {
   "cell_type": "markdown",
   "id": "25e315b9-112c-476e-b320-df008ce401fe",
   "metadata": {},
   "source": [
    "## Matplotlib"
   ]
  },
  {
   "cell_type": "code",
   "execution_count": null,
   "id": "e1f61d73-4853-4404-b509-c49eaa4d9af0",
   "metadata": {},
   "outputs": [],
   "source": [
    "# single lineplot\n",
    "x = range(2020, 2026)\n",
    "y = [0.333, 0.777, 0.5, 0.8, 0.46, 0.467]\n",
    "plt.figure(figsize = (12,6))\n",
    "plt.plot(x, y)\n",
    "plt.xlabel('Year')\n",
    "plt.ylabel('Value')\n",
    "plt.show()"
   ]
  },
  {
   "cell_type": "code",
   "execution_count": null,
   "id": "fb5e751a-b988-45ec-9b18-aa70ba44a13d",
   "metadata": {},
   "outputs": [],
   "source": [
    "# multiple lineplot\n",
    "eur = y\n",
    "usd = [0.9, 0.777, 0.2, 0.7, 0.32, 0.111]\n",
    "plt.plot(x, eur, marker='x')\n",
    "plt.plot(x, usd, marker='o')\n",
    "plt.xlabel('Year')\n",
    "plt.ylabel('Value')\n",
    "plt.title('Currency Values')\n",
    "plt.legend(['EUR', 'USD'])"
   ]
  },
  {
   "cell_type": "code",
   "execution_count": null,
   "id": "9ed77f5c-721c-47fb-9f51-0ec07f8db7d9",
   "metadata": {},
   "outputs": [],
   "source": [
    "# single barplot\n",
    "plt.bar(x, y)\n",
    "plt.xlabel('Year')\n",
    "plt.ylabel('Value')\n",
    "plt.title('Currency Values')"
   ]
  },
  {
   "cell_type": "code",
   "execution_count": null,
   "id": "909d9240-ec8c-422e-a130-973e4bcc25ca",
   "metadata": {},
   "outputs": [],
   "source": [
    "# multiple barplot\n",
    "plt.bar(x, eur)\n",
    "plt.bar(x, usd, bottom=eur)"
   ]
  },
  {
   "cell_type": "code",
   "execution_count": null,
   "id": "4081c101-7239-4996-9e3f-44a9770ad555",
   "metadata": {},
   "outputs": [],
   "source": [
    "# single histogram\n",
    "plt.title('Distribution of Sepal Width')\n",
    "plt.hist(flowers_df.sepal_width, bins=np.arange(2, 5, 0.25))"
   ]
  },
  {
   "cell_type": "code",
   "execution_count": null,
   "id": "19a4837d-a8d5-4bf6-b5ff-f5b4819ab4d6",
   "metadata": {},
   "outputs": [],
   "source": [
    "# overlap histogram\n",
    "setosa_df = flowers_df[flowers_df.species == 'setosa']\n",
    "versicolor_df = flowers_df[flowers_df.species == 'versicolor']\n",
    "virginica_df = flowers_df[flowers_df.species == 'virginica']\n",
    "plt.hist(setosa_df.sepal_width, alpha = 0.4, bins = np.arange(2,5,0.25))\n",
    "plt.hist(versicolor_df.sepal_width, alpha = 0.4, bins = np.arange(2,5,0.25))"
   ]
  },
  {
   "cell_type": "code",
   "execution_count": null,
   "id": "91b95f54-6152-4c09-a9d5-2dff9908b590",
   "metadata": {},
   "outputs": [],
   "source": [
    "# stacked histogram\n",
    "plt.title('Distribution of Sepal Width')\n",
    "plt.hist([setosa_df.sepal_width, versicolor_df.sepal_width, virginica_df.sepal_width], bins=np.arange(2,5,0.25), stacked = True)\n",
    "plt.legend(['Setosa', 'Versicolor', 'Virginica'])"
   ]
  },
  {
   "cell_type": "markdown",
   "id": "8351ecf8-51b0-41ea-85ed-982d891f7465",
   "metadata": {},
   "source": [
    "## Bokeh"
   ]
  },
  {
   "cell_type": "code",
   "execution_count": null,
   "id": "3c4e4d73-ba10-468c-9de7-4d68c35f467e",
   "metadata": {},
   "outputs": [],
   "source": [
    "# scatterplot\n",
    "graph = figure(title = \"Bokeh Scatter Graph\")\n",
    "color = magma(256)\n",
    "graph.scatter(tips_df['total_bill'], tips_df['tip'], color=color)\n",
    "show(graph) # displaying the model"
   ]
  },
  {
   "cell_type": "code",
   "execution_count": null,
   "id": "caff61e0-a20e-4d75-8a89-84c16ae70734",
   "metadata": {},
   "outputs": [],
   "source": [
    "# barplot \n",
    "graph = figure(title = \"Bokeh Bar Chart\")\n",
    "graph.vbar(tips_df['total_bill'], top=tips_df['tip'], legend_label = \"Bill VS Tips\", color='green')\n",
    "graph.vbar(tips_df['tip'], top=tips_df['size'], legend_label = \"Tips VS Size\", color='red')\n",
    "graph.legend.click_policy = \"hide\"\n",
    "show(graph) # displaying the model"
   ]
  }
 ],
 "metadata": {
  "kernelspec": {
   "display_name": "Python 3 (ipykernel)",
   "language": "python",
   "name": "python3"
  },
  "language_info": {
   "codemirror_mode": {
    "name": "ipython",
    "version": 3
   },
   "file_extension": ".py",
   "mimetype": "text/x-python",
   "name": "python",
   "nbconvert_exporter": "python",
   "pygments_lexer": "ipython3",
   "version": "3.9.6"
  }
 },
 "nbformat": 4,
 "nbformat_minor": 5
}
