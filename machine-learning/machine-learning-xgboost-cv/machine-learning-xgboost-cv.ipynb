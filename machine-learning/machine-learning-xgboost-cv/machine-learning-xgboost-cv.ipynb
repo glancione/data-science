{
 "cells": [
  {
   "cell_type": "markdown",
   "id": "61c6fbd7",
   "metadata": {},
   "source": [
    "# Machine Learning - Xgboost CV"
   ]
  },
  {
   "cell_type": "markdown",
   "id": "6347b8cd",
   "metadata": {},
   "source": [
    "## Import Libraries"
   ]
  },
  {
   "cell_type": "code",
   "execution_count": null,
   "id": "1a473eda",
   "metadata": {},
   "outputs": [],
   "source": [
    "import numpy as np \n",
    "import pandas as pd \n",
    "import os\n",
    "import time\n",
    "from sklearn.model_selection import train_test_split\n",
    "from sklearn.metrics import accuracy_score\n",
    "import matplotlib.pyplot as plt  \n",
    "import xgboost as xgb\n",
    "from xgboost import XGBClassifier\n",
    "from xgboost import cv"
   ]
  },
  {
   "cell_type": "markdown",
   "id": "21f45b99",
   "metadata": {},
   "source": [
    "## Data Import"
   ]
  },
  {
   "cell_type": "code",
   "execution_count": null,
   "id": "7e81cfc1",
   "metadata": {},
   "outputs": [],
   "source": [
    "data_path = './'\n",
    "for dirname, _, filenames in os.walk(data_path):\n",
    "    for filename in filenames:\n",
    "        print(os.path.join(dirname, filename))\n",
    "\n",
    "data = data_path + 'machine-learning-xgboost-cv-dataset.csv'\n",
    "df = pd.read_csv(data)\n",
    "display(df)"
   ]
  },
  {
   "cell_type": "code",
   "execution_count": null,
   "id": "96e076c2",
   "metadata": {},
   "outputs": [],
   "source": [
    "df.info()"
   ]
  },
  {
   "cell_type": "code",
   "execution_count": null,
   "id": "0dcddb09",
   "metadata": {},
   "outputs": [],
   "source": [
    "df.describe()"
   ]
  },
  {
   "cell_type": "code",
   "execution_count": null,
   "id": "0d4afd73",
   "metadata": {},
   "outputs": [],
   "source": [
    "df.isnull().sum()"
   ]
  },
  {
   "cell_type": "code",
   "execution_count": null,
   "id": "0d4f4560",
   "metadata": {},
   "outputs": [],
   "source": [
    "X = df.drop('Channel', axis=1)\n",
    "\n",
    "y = df['Channel']"
   ]
  },
  {
   "cell_type": "code",
   "execution_count": null,
   "id": "59e230b2",
   "metadata": {},
   "outputs": [],
   "source": [
    "X.head()"
   ]
  },
  {
   "cell_type": "code",
   "execution_count": null,
   "id": "aeea00d5",
   "metadata": {},
   "outputs": [],
   "source": [
    "y.head()"
   ]
  },
  {
   "cell_type": "code",
   "execution_count": null,
   "id": "abcf11b2",
   "metadata": {},
   "outputs": [],
   "source": [
    "# convert labels into binary values\n",
    "y[y == 2] = 0\n",
    "y[y == 1] = 1\n",
    "y.head()"
   ]
  },
  {
   "cell_type": "markdown",
   "id": "e3b3b6bf",
   "metadata": {},
   "source": [
    "## Model Training "
   ]
  },
  {
   "cell_type": "code",
   "execution_count": null,
   "id": "578a359c",
   "metadata": {},
   "outputs": [],
   "source": [
    "data_dmatrix = xgb.DMatrix(data=X,label=y) # define data_dmatrix\n",
    "X_train, X_test, y_train, y_test = train_test_split(X, y, test_size = 0.3, random_state = 37)"
   ]
  },
  {
   "cell_type": "code",
   "execution_count": null,
   "id": "904f32df",
   "metadata": {},
   "outputs": [],
   "source": [
    "%%time\n",
    "\n",
    "# declare parameters\n",
    "params = {\n",
    "    'objective':'binary:logistic',\n",
    "    'max_depth': 4,\n",
    "    'alpha': 10,\n",
    "    'learning_rate': 1.0,\n",
    "    'n_estimators':100\n",
    "}         \n",
    "       \n",
    "# instantiate the classifier \n",
    "xgb_clf = XGBClassifier(**params)\n",
    "\n",
    "# fit the classifier to the training data\n",
    "xgb_clf.fit(X_train, y_train)\n",
    "print(xgb_clf)"
   ]
  },
  {
   "cell_type": "markdown",
   "id": "2d442e7f",
   "metadata": {},
   "source": [
    "## Model Predict"
   ]
  },
  {
   "cell_type": "code",
   "execution_count": null,
   "id": "05505e01",
   "metadata": {},
   "outputs": [],
   "source": [
    "y_pred = xgb_clf.predict(X_test)"
   ]
  },
  {
   "cell_type": "code",
   "execution_count": null,
   "id": "5cc1d033",
   "metadata": {},
   "outputs": [],
   "source": [
    "print('XGBoost model accuracy score: {0:0.4f}'. format(accuracy_score(y_test, y_pred)))"
   ]
  },
  {
   "cell_type": "markdown",
   "id": "38f9aea5",
   "metadata": {},
   "source": [
    "## Cross Validation"
   ]
  },
  {
   "cell_type": "code",
   "execution_count": null,
   "id": "90aa9708",
   "metadata": {},
   "outputs": [],
   "source": [
    "params = {\n",
    "    \"objective\":\"binary:logistic\",\n",
    "    'colsample_bytree': 0.3,\n",
    "    'learning_rate': 0.1,\n",
    "    'max_depth': 5, \n",
    "    'alpha': 10}\n",
    "\n",
    "xgb_cv = cv(dtrain=data_dmatrix,\n",
    "            params=params, \n",
    "            nfold=3,\n",
    "            num_boost_round=50, \n",
    "            early_stopping_rounds=10, \n",
    "            metrics=\"auc\", \n",
    "            as_pandas=True,\n",
    "            seed=37)"
   ]
  },
  {
   "cell_type": "markdown",
   "id": "8221f0c5",
   "metadata": {},
   "source": [
    "## Results"
   ]
  },
  {
   "cell_type": "code",
   "execution_count": null,
   "id": "5746558d",
   "metadata": {},
   "outputs": [],
   "source": [
    "xgb_cv.head()"
   ]
  }
 ],
 "metadata": {
  "kernelspec": {
   "display_name": "Python 3 (ipykernel)",
   "language": "python",
   "name": "python3"
  },
  "language_info": {
   "codemirror_mode": {
    "name": "ipython",
    "version": 3
   },
   "file_extension": ".py",
   "mimetype": "text/x-python",
   "name": "python",
   "nbconvert_exporter": "python",
   "pygments_lexer": "ipython3",
   "version": "3.9.6"
  }
 },
 "nbformat": 4,
 "nbformat_minor": 5
}
