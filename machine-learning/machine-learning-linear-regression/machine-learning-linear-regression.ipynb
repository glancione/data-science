{
 "cells": [
  {
   "cell_type": "markdown",
   "id": "33efa649",
   "metadata": {},
   "source": [
    "# Machine Learning - Linear Regression"
   ]
  },
  {
   "cell_type": "markdown",
   "id": "a8cf7fdc",
   "metadata": {},
   "source": [
    "## Import Libraries"
   ]
  },
  {
   "cell_type": "code",
   "execution_count": null,
   "id": "653b396b",
   "metadata": {},
   "outputs": [],
   "source": [
    "import numpy as np\n",
    "import tensorflow as tf\n",
    "import matplotlib.pyplot as plt\n",
    "import time"
   ]
  },
  {
   "cell_type": "markdown",
   "id": "43690659",
   "metadata": {},
   "source": [
    "## Import Data"
   ]
  },
  {
   "cell_type": "code",
   "execution_count": null,
   "id": "81db107f",
   "metadata": {},
   "outputs": [],
   "source": [
    "def create_data(n_samples=1000):\n",
    "    # Generate random values and noise\n",
    "    x = np.random.randn(n_samples, 1)\n",
    "    q = np.random.randn(n_samples, 1)*np.random.randn()\n",
    "    Y = 2*x+ q\n",
    "    return x, Y"
   ]
  },
  {
   "cell_type": "code",
   "execution_count": null,
   "id": "6545a7de",
   "metadata": {},
   "outputs": [],
   "source": [
    "%%time\n",
    "\n",
    "X_train, Y_train = create_data(n_samples=100)\n",
    "X_test, Y_test = create_data(n_samples=25)"
   ]
  },
  {
   "cell_type": "markdown",
   "id": "5352529c",
   "metadata": {},
   "source": [
    "## Model Training"
   ]
  },
  {
   "cell_type": "code",
   "execution_count": null,
   "id": "a9f61616",
   "metadata": {},
   "outputs": [],
   "source": [
    "class LinearRegression():\n",
    "    def __init__(self):\n",
    "        # Initialize model hyperparameters with random values at first\n",
    "        self.slope = tf.Variable(5.0)\n",
    "        self.intercept = tf.Variable(0.0)\n",
    "        self.learning_rate = 0.01\n",
    "\n",
    "    def __call__(self, X):\n",
    "        # Make a prediction with the model on X input values\n",
    "        return self.slope * X + self.intercept\n",
    "\n",
    "    def train(self, X, Y, epochs=10):\n",
    "        # Train the model on training data for epoch rounds over all dataset\n",
    "        for epoch in range(epochs):\n",
    "            self.train_step(X, Y)\n",
    "\n",
    "    def train_step(self, X, Y):\n",
    "        with tf.GradientTape() as tape:\n",
    "            # Compute the loss value with the model on training data\n",
    "            current_loss = self.loss_value(self(X), Y)\n",
    "            # Compute gradient for hyperparameters of the model (slope and intercept)\n",
    "            gradient_slope, gradient_intercept = tape.gradient(\n",
    "                current_loss, [self.slope, self.intercept])\n",
    "            # Update current model values by substracting gradients accordingly\n",
    "            self.slope.assign_sub(self.learning_rate * gradient_slope)\n",
    "            self.intercept.assign_sub(self.learning_rate * gradient_intercept)\n",
    "\n",
    "    def loss_value(self, prediction, reality):\n",
    "        # Compute the mean squared error between prediction and reality\n",
    "        return tf.reduce_mean(tf.square(prediction - reality))"
   ]
  },
  {
   "cell_type": "code",
   "execution_count": null,
   "id": "63fb3709",
   "metadata": {},
   "outputs": [],
   "source": [
    "model = LinearRegression()\n",
    "limits = [X_train.min()-1, X_train.max()+1]\n",
    "plt.scatter(X_train, Y_train, c='b')\n",
    "plt.plot(limits, model(limits))\n",
    "plt.scatter(X_test, model(X_test), c='y')\n",
    "plt.show()"
   ]
  },
  {
   "cell_type": "code",
   "execution_count": null,
   "id": "d6ff1601",
   "metadata": {},
   "outputs": [],
   "source": [
    "%%time\n",
    "\n",
    "model.train(X_train, Y_train, epochs=300)"
   ]
  },
  {
   "cell_type": "markdown",
   "id": "e3960429",
   "metadata": {},
   "source": [
    "## Model Testing"
   ]
  },
  {
   "cell_type": "code",
   "execution_count": null,
   "id": "32ee8629",
   "metadata": {},
   "outputs": [],
   "source": [
    "%%time\n",
    "\n",
    "# Visualize again the model performances on testing data after being trained\n",
    "plt.scatter(X_train, Y_train, c='b')\n",
    "plt.plot(limits, model(limits))\n",
    "plt.scatter(X_test, model(X_test), c='y')\n",
    "plt.show()"
   ]
  }
 ],
 "metadata": {
  "kernelspec": {
   "display_name": "Python 3 (ipykernel)",
   "language": "python",
   "name": "python3"
  },
  "language_info": {
   "codemirror_mode": {
    "name": "ipython",
    "version": 3
   },
   "file_extension": ".py",
   "mimetype": "text/x-python",
   "name": "python",
   "nbconvert_exporter": "python",
   "pygments_lexer": "ipython3",
   "version": "3.9.6"
  }
 },
 "nbformat": 4,
 "nbformat_minor": 5
}
