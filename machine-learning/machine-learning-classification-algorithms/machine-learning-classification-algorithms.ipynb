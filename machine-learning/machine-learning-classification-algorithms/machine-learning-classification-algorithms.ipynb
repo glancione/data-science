{
 "cells": [
  {
   "cell_type": "markdown",
   "id": "126dcbcf-4ab5-4be6-9502-4caf2d0fd87e",
   "metadata": {},
   "source": [
    "# Machine Learning - Classification Algorithms"
   ]
  },
  {
   "cell_type": "markdown",
   "id": "407a0514-0a2e-4a53-ac31-f10943944694",
   "metadata": {},
   "source": [
    "## Import Libraries"
   ]
  },
  {
   "cell_type": "code",
   "execution_count": null,
   "id": "68454a6c-912f-4091-99e0-1d2c25de7947",
   "metadata": {},
   "outputs": [],
   "source": [
    "from sklearn.model_selection import train_test_split\n",
    "from sklearn.preprocessing import StandardScaler \n",
    "from sklearn.neighbors import KNeighborsClassifier\n",
    "from sklearn.naive_bayes import GaussianNB\n",
    "from sklearn.metrics import classification_report, confusion_matrix, accuracy_score\n",
    "from sklearn.ensemble import RandomForestClassifier\n",
    "from sklearn.ensemble import GradientBoostingClassifier\n",
    "from sklearn import svm\n",
    "from sklearn import datasets\n",
    "import matplotlib.pyplot as plt\n",
    "import pandas as pd\n",
    "import numpy as np"
   ]
  },
  {
   "cell_type": "markdown",
   "id": "84eb1bdb-9d22-47f6-bf89-fc9c63f5c8ca",
   "metadata": {},
   "source": [
    "## Import Data"
   ]
  },
  {
   "cell_type": "code",
   "execution_count": null,
   "id": "e01bd700-c683-4edd-8507-e46be4a9d33a",
   "metadata": {},
   "outputs": [],
   "source": [
    "iris = datasets.load_iris()\n",
    "X = iris.data \n",
    "y = iris.target\n",
    "target_names = iris.target_names\n",
    "feature_names = iris.feature_names\n",
    "n_class = len(set(y))\n",
    "colors = ['b', 'g', 'r']\n",
    "symbols = ['o', '^', '*']\n",
    "names = iris.target_names\n",
    "df = pd.DataFrame(X, columns=iris.feature_names)\n",
    "df['Class'] = iris.target\n",
    "df['species'] = df['Class'].replace(to_replace= [0, 1, 2], value = ['setosa', 'versicolor', 'virginica'])\n",
    "df = df.rename(columns = {'sepal length (cm)': 'sepal-length', \n",
    "           'sepal width (cm)': 'sepal-width', \n",
    "           'petal length (cm)': 'petal-length', \n",
    "           'petal width (cm)': 'petal-width'\n",
    "                         })\n",
    "df.head()"
   ]
  },
  {
   "cell_type": "code",
   "execution_count": null,
   "id": "e401fce6-1666-4f54-a33f-84974bf98ef7",
   "metadata": {},
   "outputs": [],
   "source": [
    "plt.scatter(x=X[:, 0], y=X[:, 1], c=df['Class'])"
   ]
  },
  {
   "cell_type": "code",
   "execution_count": null,
   "id": "2d8a8a8e-6507-43e7-96ab-b27681bdc663",
   "metadata": {},
   "outputs": [],
   "source": [
    "def plot_decision_boundary(X, y, clf, title = None):\n",
    "    x_min, x_max = X[:, 0].min() - 1, X[:, 0].max() + 1\n",
    "    y_min, y_max = X[:, 1].min() - 1, X[:, 1].max() + 1\n",
    "    xx, yy = np.meshgrid(np.arange(x_min, x_max, 0.01),\n",
    "                         np.arange(y_min, y_max, 0.01))\n",
    "\n",
    "    Z = clf.predict(np.c_[xx.ravel(), yy.ravel()])\n",
    "    Z = Z.reshape(xx.shape)\n",
    "    \n",
    "    plt.figure(figsize = (10, 8))\n",
    "    plt.contourf(xx, yy, Z, alpha=0.4)\n",
    "    \n",
    "    for i, c, s in (zip(range(n_class), colors, symbols)):\n",
    "        ix = y == i\n",
    "        plt.scatter(X[:, 0][ix], X[:, 1][ix], \\\n",
    "                    color = c, marker = s, s = 60, \\\n",
    "                    label = target_names[i])\n",
    "    \n",
    "    if title is not None:\n",
    "        plt.title(title)\n",
    "    \n",
    "    plt.xlabel('Feature 1')\n",
    "    plt.ylabel('Feature 2')\n",
    "    plt.show()"
   ]
  },
  {
   "cell_type": "markdown",
   "id": "5b9c12e4-4caf-411b-818a-7e99ddba6b49",
   "metadata": {},
   "source": [
    "## Model Training"
   ]
  },
  {
   "cell_type": "code",
   "execution_count": null,
   "id": "28541288-08da-4b97-b454-dd8ce1973f23",
   "metadata": {},
   "outputs": [],
   "source": [
    "X = X[:, 0:2] \n",
    "X_train, X_test, y_train, y_test = train_test_split(X, y, test_size=0.20) \n",
    "scaler = StandardScaler()\n",
    "scaler.fit(X_train)\n",
    "X_train = scaler.transform(X_train)\n",
    "X_test = scaler.transform(X_test) "
   ]
  },
  {
   "cell_type": "markdown",
   "id": "de106933-1bde-4799-b1e1-5c16fe4851df",
   "metadata": {},
   "source": [
    "### KNN Classifier"
   ]
  },
  {
   "cell_type": "code",
   "execution_count": null,
   "id": "433b57a9-4745-4dc3-b602-c0293c808bfc",
   "metadata": {},
   "outputs": [],
   "source": [
    "knn = KNeighborsClassifier(n_neighbors=5)\n",
    "knn.fit(X_train, y_train) \n",
    "\n",
    "y_predict = knn.predict(X_test)\n",
    "\n",
    "print(confusion_matrix(y_test, y_predict))\n",
    "print(classification_report(y_test, y_predict))"
   ]
  },
  {
   "cell_type": "code",
   "execution_count": null,
   "id": "aeac03d8-2215-4657-99f3-236bd8839a9d",
   "metadata": {},
   "outputs": [],
   "source": [
    "plot_decision_boundary(X_train[:, 0:2], y_train, clf=knn)"
   ]
  },
  {
   "cell_type": "markdown",
   "id": "bf38b4f9-9290-43c5-b4b8-c92652b05f50",
   "metadata": {},
   "source": [
    "### Gaussian Naive Bayes Classifier"
   ]
  },
  {
   "cell_type": "code",
   "execution_count": null,
   "id": "d731ba60-34ca-4414-a40b-baaa9383c2e0",
   "metadata": {},
   "outputs": [],
   "source": [
    "gnb = GaussianNB()\n",
    "\n",
    "model = gnb.fit(X_train, y_train)\n",
    "\n",
    "y_predict = gnb.predict(X_test)\n",
    "\n",
    "print(confusion_matrix(y_test, y_predict))\n",
    "print(classification_report(y_test, y_predict))"
   ]
  },
  {
   "cell_type": "code",
   "execution_count": null,
   "id": "7980f860-ebe7-4762-bfff-67549ceb14cf",
   "metadata": {},
   "outputs": [],
   "source": [
    "plot_decision_boundary(X_train[:, 0:2], y_train, clf=gnb)"
   ]
  },
  {
   "cell_type": "markdown",
   "id": "be672ce4-b0a0-4bb5-9b91-6d14e5c2859c",
   "metadata": {},
   "source": [
    "### Random Forest Classifier"
   ]
  },
  {
   "cell_type": "code",
   "execution_count": null,
   "id": "966d6a8b-511d-4561-98a7-6f74d11004c9",
   "metadata": {},
   "outputs": [],
   "source": [
    "rfc = RandomForestClassifier()\n",
    "\n",
    "model = rfc.fit(X_train, y_train)\n",
    "\n",
    "y_predict = rfc.predict(X_test)\n",
    "\n",
    "print(confusion_matrix(y_test, y_predict))\n",
    "print(classification_report(y_test, y_predict))"
   ]
  },
  {
   "cell_type": "code",
   "execution_count": null,
   "id": "f6059513-6126-4f47-bbed-4cadeb975460",
   "metadata": {},
   "outputs": [],
   "source": [
    "plot_decision_boundary(X_train[:, 0:2], y_train, clf=rfc)"
   ]
  },
  {
   "cell_type": "markdown",
   "id": "808b0ef0-7f53-4844-8e19-836999361a8f",
   "metadata": {},
   "source": [
    "### Support Vector Machine Classifier"
   ]
  },
  {
   "cell_type": "code",
   "execution_count": null,
   "id": "490fbfff-92c1-474d-90b0-5c185bb79e7c",
   "metadata": {},
   "outputs": [],
   "source": [
    "svm = svm.SVC(kernel = 'linear')\n",
    "\n",
    "model = svm.fit(X_train, y_train)\n",
    "\n",
    "y_predict = svm.predict(X_test)\n",
    "\n",
    "print(confusion_matrix(y_test, y_predict))\n",
    "print(classification_report(y_test, y_predict))"
   ]
  },
  {
   "cell_type": "code",
   "execution_count": null,
   "id": "772ecf88-91d2-460e-a3bd-41b5b246b245",
   "metadata": {},
   "outputs": [],
   "source": [
    "plot_decision_boundary(X_train[:, 0:2], y_train, clf=svm)"
   ]
  },
  {
   "cell_type": "markdown",
   "id": "dc826fcc-e715-4347-a292-cdf225746fe0",
   "metadata": {},
   "source": [
    "### Gradient Boosting Classifier"
   ]
  },
  {
   "cell_type": "code",
   "execution_count": null,
   "id": "58586a6c-5b85-45f8-8f02-57a5832f4b57",
   "metadata": {},
   "outputs": [],
   "source": [
    "gbc = GradientBoostingClassifier()\n",
    "\n",
    "model = gbc.fit(X_train, y_train)\n",
    "\n",
    "y_predict = gbc.predict(X_test)\n",
    "\n",
    "print(confusion_matrix(y_test, y_predict))\n",
    "print(classification_report(y_test, y_predict))"
   ]
  },
  {
   "cell_type": "code",
   "execution_count": null,
   "id": "84a195ed-ae8a-4ab4-80c6-52064d817903",
   "metadata": {},
   "outputs": [],
   "source": [
    "plot_decision_boundary(X_train[:, 0:2], y_train, clf=gbc)"
   ]
  }
 ],
 "metadata": {
  "kernelspec": {
   "display_name": "Python 3 (ipykernel)",
   "language": "python",
   "name": "python3"
  },
  "language_info": {
   "codemirror_mode": {
    "name": "ipython",
    "version": 3
   },
   "file_extension": ".py",
   "mimetype": "text/x-python",
   "name": "python",
   "nbconvert_exporter": "python",
   "pygments_lexer": "ipython3",
   "version": "3.9.6"
  }
 },
 "nbformat": 4,
 "nbformat_minor": 5
}
