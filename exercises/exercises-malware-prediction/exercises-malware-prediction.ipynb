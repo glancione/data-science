{
 "cells": [
  {
   "cell_type": "markdown",
   "id": "9c641825",
   "metadata": {},
   "source": [
    "# Exercise - Malware Prediction"
   ]
  },
  {
   "cell_type": "markdown",
   "id": "91ee8de1",
   "metadata": {},
   "source": [
    "## Import Libraries"
   ]
  },
  {
   "cell_type": "code",
   "execution_count": null,
   "id": "92cc7cfa",
   "metadata": {},
   "outputs": [],
   "source": [
    "import os\n",
    "import gc\n",
    "import time\n",
    "from functools import partial, wraps\n",
    "from datetime import datetime as dt\n",
    "import warnings\n",
    "warnings.simplefilter('ignore', FutureWarning)\n",
    "import numpy as np \n",
    "import pandas as pd\n",
    "import seaborn as sns\n",
    "import matplotlib.pyplot as plt\n",
    "from sklearn.metrics import roc_auc_score, accuracy_score, recall_score, precision_score\n",
    "from sklearn.model_selection import StratifiedKFold\n",
    "import lightgbm as lgb"
   ]
  },
  {
   "cell_type": "markdown",
   "id": "610884d4",
   "metadata": {},
   "source": [
    "## Data Import"
   ]
  },
  {
   "cell_type": "code",
   "execution_count": null,
   "id": "cb2c25b5",
   "metadata": {},
   "outputs": [],
   "source": [
    "dtypes = {\n",
    "    #'MachineIdentifier': 'category',\n",
    "    'ProductName': 'category',\n",
    "    'EngineVersion': 'category',\n",
    "    'AppVersion': 'category',\n",
    "    'AvSigVersion': 'category',\n",
    "    'IsBeta': 'int8',\n",
    "    'RtpStateBitfield': 'float16',\n",
    "    'IsSxsPassiveMode': 'int8',\n",
    "    'DefaultBrowsersIdentifier': 'float16',\n",
    "    'AVProductStatesIdentifier': 'float32',\n",
    "    'AVProductsInstalled': 'float16',\n",
    "    'AVProductsEnabled': 'float16',\n",
    "    'HasTpm': 'int8',\n",
    "    'CountryIdentifier': 'int32',\n",
    "    'CityIdentifier': 'float32',\n",
    "    'OrganizationIdentifier': 'float16',\n",
    "    'GeoNameIdentifier': 'float32',\n",
    "    'LocaleEnglishNameIdentifier': 'int32',\n",
    "    'Platform': 'category',\n",
    "    'Processor': 'category',\n",
    "    'OsVer': 'category',\n",
    "    'OsBuild': 'int16',\n",
    "    'OsSuite': 'int16',\n",
    "    'OsPlatformSubRelease': 'category',\n",
    "    'OsBuildLab': 'category',\n",
    "    'SkuEdition': 'category',\n",
    "    'IsProtected': 'float16',\n",
    "    'AutoSampleOptIn': 'int8',\n",
    "    'PuaMode': 'category',\n",
    "    'SMode': 'float16',\n",
    "    'IeVerIdentifier': 'float32',\n",
    "    'SmartScreen': 'category',\n",
    "    'Firewall': 'float16',\n",
    "    'UacLuaenable': 'float64',\n",
    "    'Census_MDC2FormFactor': 'category',\n",
    "    'Census_DeviceFamily': 'category',\n",
    "    'Census_OEMNameIdentifier': 'float32',\n",
    "    'Census_OEMModelIdentifier': 'float32',\n",
    "    'Census_ProcessorCoreCount': 'float16',\n",
    "    'Census_ProcessorManufacturerIdentifier': 'float16',\n",
    "    'Census_ProcessorModelIdentifier': 'float32',\n",
    "    'Census_ProcessorClass': 'category',\n",
    "    'Census_PrimaryDiskTotalCapacity': 'float32',\n",
    "    'Census_PrimaryDiskTypeName': 'category',\n",
    "    'Census_SystemVolumeTotalCapacity': 'float32',\n",
    "    'Census_HasOpticalDiskDrive': 'int8',\n",
    "    'Census_TotalPhysicalRAM': 'float32',\n",
    "    'Census_ChassisTypeName': 'category',\n",
    "    'Census_InternalPrimaryDiagonalDisplaySizeInInches': 'float32',\n",
    "    'Census_InternalPrimaryDisplayResolutionHorizontal': 'float32',\n",
    "    'Census_InternalPrimaryDisplayResolutionVertical': 'float32',\n",
    "    'Census_PowerPlatformRoleName': 'category',\n",
    "    'Census_InternalBatteryType': 'category',\n",
    "    'Census_InternalBatteryNumberOfCharges': 'float32',\n",
    "    'Census_OSVersion': 'category',\n",
    "    'Census_OSArchitecture': 'category',\n",
    "    'Census_OSBranch': 'category',\n",
    "    'Census_OSBuildNumber': 'int32',\n",
    "    'Census_OSBuildRevision': 'int32',\n",
    "    'Census_OSEdition': 'category',\n",
    "    'Census_OSSkuName': 'category',\n",
    "    'Census_OSInstallTypeName': 'category',\n",
    "    'Census_OSInstallLanguageIdentifier': 'float16',\n",
    "    'Census_OSUILocaleIdentifier': 'int32',\n",
    "    'Census_OSWUAutoUpdateOptionsName': 'category',\n",
    "    'Census_IsPortableOperatingSystem': 'int8',\n",
    "    'Census_GenuineStateName': 'category',\n",
    "    'Census_ActivationChannel': 'category',\n",
    "    'Census_IsFlightingInternal': 'float16',\n",
    "    'Census_IsFlightsDisabled': 'float16',\n",
    "    'Census_FlightRing': 'category',\n",
    "    'Census_ThresholdOptIn': 'float16',\n",
    "    'Census_FirmwareManufacturerIdentifier': 'float32',\n",
    "    'Census_FirmwareVersionIdentifier': 'float32',\n",
    "    'Census_IsSecureBootEnabled': 'int8',\n",
    "    'Census_IsWIMBootEnabled': 'float16',\n",
    "    'Census_IsVirtualDevice': 'float16',\n",
    "    'Census_IsTouchEnabled': 'int8',\n",
    "    'Census_IsPenCapable': 'int8',\n",
    "    'Census_IsAlwaysOnAlwaysConnectedCapable': 'float16',\n",
    "    'Wdft_IsGamer': 'float16',\n",
    "    'Wdft_RegionIdentifier': 'float32',\n",
    "    'HasDetections': 'int8'\n",
    "}\n",
    "        \n",
    "model_params = {\n",
    "    'device': 'cpu', \n",
    "    \"objective\": \"binary\",\n",
    "    \"boosting_type\": \"gbdt\", \n",
    "    \"learning_rate\": 0.03,\n",
    "    \"max_depth\": 11,\n",
    "    \"num_leaves\": 31,\n",
    "    \"n_estimators\": 1000,\n",
    "    \"bagging_fraction\": 0.7,\n",
    "    \"feature_fraction\": 0.7,\n",
    "    \"bagging_freq\": 5,\n",
    "    \"bagging_seed\": 2018,\n",
    "    'min_child_samples': 80, \n",
    "    'min_child_weight': 100.0, \n",
    "    'min_split_gain': 0.1, \n",
    "    'reg_alpha': 0.005, \n",
    "    'reg_lambda': 0.1, \n",
    "    'subsample_for_bin': 25000, \n",
    "    'min_data_per_group': 100, \n",
    "    'max_cat_to_onehot': 4, \n",
    "    'cat_l2': 25.0, \n",
    "    'cat_smooth': 2.0, \n",
    "    'max_cat_threshold': 32, \n",
    "    \"random_state\": 1,\n",
    "    \"silent\": True,\n",
    "    \"metric\": \"auc\"\n",
    "    }"
   ]
  },
  {
   "cell_type": "code",
   "execution_count": null,
   "id": "15ca3620",
   "metadata": {},
   "outputs": [],
   "source": [
    "%%time\n",
    "# get data at https://www.kaggle.com/competitions/microsoft-malware-prediction/data\n",
    "train = pd.read_csv('./train.csv', nrows=2000000, dtype=dtypes).set_index('MachineIdentifier') \n",
    "train_features = list()\n",
    "train_features = [f for f in train.columns if f != 'HasDetections']\n",
    "test = pd.read_csv('./test.csv', dtype=dtypes).set_index('MachineIdentifier') "
   ]
  },
  {
   "cell_type": "markdown",
   "id": "e9fe3d77",
   "metadata": {},
   "source": [
    "## Model Training"
   ]
  },
  {
   "cell_type": "code",
   "execution_count": null,
   "id": "b4155421",
   "metadata": {},
   "outputs": [],
   "source": [
    "def modeling_cross_validation(params, X, y, nr_folds=5):\n",
    "    clfs = list()\n",
    "    oof_preds = np.zeros(X.shape[0])\n",
    "    kfolds = StratifiedKFold(n_splits=nr_folds, shuffle=True, random_state=42)\n",
    "    for n_fold, (trn_idx, val_idx) in enumerate(kfolds.split(X, y)):\n",
    "        X_train, y_train = X.iloc[trn_idx], y.iloc[trn_idx]\n",
    "        X_valid, y_valid = X.iloc[val_idx], y.iloc[val_idx]\n",
    "        model = lgb.LGBMClassifier(**params)\n",
    "        model.fit(X_train, y_train, eval_set=[(X_valid, y_valid)], verbose=-1, eval_metric='auc', early_stopping_rounds=100)\n",
    "        clfs.append(model)\n",
    "        oof_preds[val_idx] = model.predict(X_valid, num_iteration=model.best_iteration_)\n",
    "    score = roc_auc_score(y, oof_preds)\n",
    "    print(score)\n",
    "    return clfs, score"
   ]
  },
  {
   "cell_type": "code",
   "execution_count": null,
   "id": "d6787500",
   "metadata": {},
   "outputs": [],
   "source": [
    "def get_importances(clfs, feature_names):\n",
    "    importances = pd.DataFrame()\n",
    "    for i, model in enumerate(clfs, 1):\n",
    "        imp_df = pd.DataFrame({ \n",
    "            \"feature\": feature_names,\n",
    "            \"gain\": model.booster_.feature_importance(importance_type='gain'),\n",
    "            \"fold\": model.n_features_,\n",
    "        })\n",
    "        importances = pd.concat([importances, imp_df], axis=0, sort=False)\n",
    "        \n",
    "    importances['gain_log'] = importances['gain']\n",
    "    mean_gain = importances[['gain', 'feature']].groupby('feature').mean()\n",
    "    importances['mean_gain'] = importances['feature'].map(mean_gain['gain'])\n",
    "    importances.to_csv('importance.csv', index=False)\n",
    "    plt.figure(figsize=(8, 12))\n",
    "    sns.barplot(x='gain_log', y='feature', data=importances.sort_values('mean_gain', ascending=False))\n",
    "    return importances"
   ]
  },
  {
   "cell_type": "code",
   "execution_count": null,
   "id": "a3e2e430",
   "metadata": {},
   "outputs": [],
   "source": [
    "def predict_cross_validation(test, clfs):\n",
    "    sub_preds = np.zeros(test.shape[0])\n",
    "    for i, model in enumerate(clfs, 1):    \n",
    "        test_preds = model.predict_proba(test, num_iteration=model.best_iteration_)\n",
    "        sub_preds += test_preds[:,1]\n",
    "        \n",
    "    sub_preds = sub_preds / len(clfs)\n",
    "    ret = pd.Series(sub_preds, index=test.index)\n",
    "    ret.index.name = test.index.name\n",
    "    return ret"
   ]
  },
  {
   "cell_type": "code",
   "execution_count": null,
   "id": "31dfb67d",
   "metadata": {},
   "outputs": [],
   "source": [
    "%%time \n",
    "clfs, score = modeling_cross_validation(model_params, train[train_features], train['HasDetections'])"
   ]
  },
  {
   "cell_type": "markdown",
   "id": "2699343c",
   "metadata": {},
   "source": [
    "## Results"
   ]
  },
  {
   "cell_type": "code",
   "execution_count": null,
   "id": "7eeb0346",
   "metadata": {},
   "outputs": [],
   "source": [
    "%%time\n",
    "for clf in clfs:\n",
    "    print('\\n Classifier {}:\\n '.format(clf))\n",
    "    y_pred = clf.predict(train[train_features])\n",
    "    print('Accuracy Score: {}'.format(accuracy_score(train['HasDetections'], y_pred)))\n",
    "    print('Precision Score: {}'.format(precision_score(train['HasDetections'], y_pred)))\n",
    "    print('Recall Score: {}'.format(recall_score(train['HasDetections'], y_pred)))\n",
    "    print('ROC AUC Score: {}'.format(roc_auc_score(train['HasDetections'], y_pred)))\n",
    "    print('--------------------------------------\\n')"
   ]
  }
 ],
 "metadata": {
  "kernelspec": {
   "display_name": "Python 3 (ipykernel)",
   "language": "python",
   "name": "python3"
  },
  "language_info": {
   "codemirror_mode": {
    "name": "ipython",
    "version": 3
   },
   "file_extension": ".py",
   "mimetype": "text/x-python",
   "name": "python",
   "nbconvert_exporter": "python",
   "pygments_lexer": "ipython3",
   "version": "3.9.6"
  }
 },
 "nbformat": 4,
 "nbformat_minor": 5
}
