{
 "cells": [
  {
   "cell_type": "markdown",
   "id": "d04f44de-1a31-4ef0-96d8-d5e29dbcf67d",
   "metadata": {},
   "source": [
    "# Exercise - Customer Segmentation Clustering"
   ]
  },
  {
   "cell_type": "markdown",
   "id": "1d59a331-d2e8-4b22-bd34-67f1fd704e4a",
   "metadata": {},
   "source": [
    "## Import Libraries"
   ]
  },
  {
   "cell_type": "code",
   "execution_count": null,
   "id": "ea2f20bd-66e7-4354-ad70-2e4464de6136",
   "metadata": {},
   "outputs": [],
   "source": [
    "import numpy as np\n",
    "import pandas as pd\n",
    "import matplotlib.pyplot as plt\n",
    "import seaborn as sns\n",
    "import plotly as ply\n",
    "import plotly.express as px\n",
    "import plotly.graph_objs as go\n",
    "from plotly.subplots import make_subplots\n",
    "import plotly.subplots as sp\n",
    "from sklearn.cluster import KMeans\n",
    "from sklearn.preprocessing import StandardScaler"
   ]
  },
  {
   "cell_type": "markdown",
   "id": "be88843c-4235-4d39-9412-df56e3913d99",
   "metadata": {},
   "source": [
    "## Import Data"
   ]
  },
  {
   "cell_type": "code",
   "execution_count": null,
   "id": "15e9abb3-96a3-4aa4-aaf7-bf02f8829343",
   "metadata": {},
   "outputs": [],
   "source": [
    "df = pd.read_csv(\"./Mall_Customers.csv\") \n",
    "# you can download the dataset at https://www.kaggle.com/datasets/vjchoudhary7/customer-segmentation-tutorial-in-python/data?select=Mall_Customers.csv\n",
    "df.head()"
   ]
  },
  {
   "cell_type": "code",
   "execution_count": null,
   "id": "a67f15e2-e8dd-486c-84f9-f23bbafcc4cd",
   "metadata": {},
   "outputs": [],
   "source": [
    "df.describe()"
   ]
  },
  {
   "cell_type": "code",
   "execution_count": null,
   "id": "10d81acc-f0d7-4ebe-b2c4-748d960858e9",
   "metadata": {},
   "outputs": [],
   "source": [
    "df.shape"
   ]
  },
  {
   "cell_type": "markdown",
   "id": "6e1efb67-13b4-4d7d-81c4-0c5bf7a32982",
   "metadata": {},
   "source": [
    "## Data Analysis"
   ]
  },
  {
   "cell_type": "code",
   "execution_count": null,
   "id": "61fe561c-a076-4e9f-82f1-ddba1a731e60",
   "metadata": {},
   "outputs": [],
   "source": [
    "sns.countplot(y = 'Gender', data = df)\n",
    "plt.show()"
   ]
  },
  {
   "cell_type": "code",
   "execution_count": null,
   "id": "16e826d3-bdef-4f0c-9672-635584b87d16",
   "metadata": {},
   "outputs": [],
   "source": [
    "df.drop(['CustomerID'], axis = 1, inplace = True)\n",
    "sns.pairplot(df, hue = 'Gender')"
   ]
  },
  {
   "cell_type": "markdown",
   "id": "9a804c27-2689-4dd0-b038-8e36f6d2b058",
   "metadata": {},
   "source": [
    "## Data Pre-processing"
   ]
  },
  {
   "cell_type": "code",
   "execution_count": null,
   "id": "b1b715d2-53ca-46c7-8d9e-73b8ada4bce6",
   "metadata": {},
   "outputs": [],
   "source": [
    "X1 = df.loc[:,['Age', 'Spending Score (1-100)']].values\n",
    "X2 = df.loc[:,['Annual Income (k$)', 'Spending Score (1-100)']].values\n",
    "X3 = df.loc[:,['Age', 'Annual Income (k$)']].values\n",
    "\n",
    "scaler = StandardScaler()\n",
    "X1 = scaler.fit_transform(X1)\n",
    "X2 = scaler.fit_transform(X2)\n",
    "X3 = scaler.fit_transform(X3)"
   ]
  },
  {
   "cell_type": "markdown",
   "id": "4fed79b3-6ba8-4341-932a-7d0f441736b3",
   "metadata": {},
   "source": [
    "## Model Training"
   ]
  },
  {
   "cell_type": "code",
   "execution_count": null,
   "id": "8e7bf56c-90d9-4f28-b55d-b5c1779c6d5e",
   "metadata": {},
   "outputs": [],
   "source": [
    "sse = []\n",
    "k_rng = range(1,10)\n",
    "for k in k_rng:\n",
    "    km1 = KMeans(n_clusters=k, n_init = 10)\n",
    "    km1.fit(X1)\n",
    "    sse.append(km1.inertia_)"
   ]
  },
  {
   "cell_type": "code",
   "execution_count": null,
   "id": "d48dd30d-391f-4eff-9986-df9862758b54",
   "metadata": {},
   "outputs": [],
   "source": [
    "# Elbow Method\n",
    "plt.xlabel('K')\n",
    "plt.ylabel('Sum of squared error')\n",
    "plt.plot(k_rng,sse, linewidth=2, marker='8')"
   ]
  },
  {
   "cell_type": "code",
   "execution_count": null,
   "id": "9e2763e9-0335-4c72-8be0-44af99617689",
   "metadata": {},
   "outputs": [],
   "source": [
    "km1 = KMeans(n_clusters=4, n_init = 10)\n",
    "y_predicted1 = km1.fit_predict(X1)\n",
    "y_predicted1"
   ]
  },
  {
   "cell_type": "code",
   "execution_count": null,
   "id": "75c6c21f-89dc-444f-9f42-d8c4ef09582f",
   "metadata": {},
   "outputs": [],
   "source": [
    "plt.scatter(X1[:,0],X1[:,1],c=km1.labels_, cmap='rainbow')\n",
    "plt.scatter(km1.cluster_centers_[:,0],km1.cluster_centers_[:,1], color='black', marker='*', label='centroid')\n",
    "plt.xlabel('Age (scaled)')\n",
    "plt.ylabel('Spending Score (scaled)')\n",
    "plt.legend()\n",
    "plt.show()\n",
    "plt.show()"
   ]
  },
  {
   "cell_type": "code",
   "execution_count": null,
   "id": "f23c5d85-c481-4b5d-bf59-4abaf32b44fd",
   "metadata": {},
   "outputs": [],
   "source": [
    "kmeans_kwargs = {\n",
    "    'init': 'k-means++',\n",
    "    'n_init': 20,\n",
    "    'max_iter': 300,\n",
    "    'random_state': 42\n",
    "}"
   ]
  },
  {
   "cell_type": "code",
   "execution_count": null,
   "id": "c0176b5a-a507-4040-8d3d-80a8dbf775e7",
   "metadata": {},
   "outputs": [],
   "source": [
    "def kmeans_model(k, x):\n",
    "    model = KMeans(k, **kmeans_kwargs)\n",
    "    model.fit(x)\n",
    "    labels = model.labels_\n",
    "    centroids = model.cluster_centers_\n",
    "    return model, labels, centroids"
   ]
  },
  {
   "cell_type": "code",
   "execution_count": null,
   "id": "a12b327c-c85c-4f73-98fc-38b3d61938c6",
   "metadata": {},
   "outputs": [],
   "source": [
    "def plot_clusters(x, h, model, labels, centroids):\n",
    "    x_min, x_max = x[:, 0].min() - 1, x[:, 0].max() + 1\n",
    "    y_min, y_max = x[:, 1].min() - 1, x[:, 1].max() + 1\n",
    "    xx, yy = np.meshgrid(np.arange(x_min, x_max, h), np.arange(y_min, y_max, h))\n",
    "\n",
    "    z = model.predict(np.c_[xx.ravel(), yy.ravel()])\n",
    "    z = z.reshape(xx.shape) \n",
    "    sns.set_style('ticks')\n",
    "    plt.clf()\n",
    "    plt.figure(figsize=(12, 6))\n",
    "\n",
    "    plt.imshow(z, interpolation = 'nearest',\n",
    "           extent = (xx.min(), xx.max(), yy.min(), yy.max()),\n",
    "           cmap = 'Pastel1', aspect = 'auto',\n",
    "           origin = 'lower')\n",
    "\n",
    "    sns.scatterplot(x = x[:, 0], y = x[:, 1], \n",
    "                hue = labels, palette = 'tab10', s = 100)\n",
    "    plt.scatter(x = centroids[:, 0] , y = centroids[:, 1], \n",
    "                s = 100, c = 'black', alpha = 0.8, marker = 'X')\n",
    "    plt.xlim(x_min, x_max)\n",
    "    plt.ylim(y_min, y_max)\n",
    "    plt.show()"
   ]
  },
  {
   "cell_type": "code",
   "execution_count": null,
   "id": "1d435224-4a0e-448a-b86d-f9456d0880c1",
   "metadata": {},
   "outputs": [],
   "source": [
    "X2_model, X2_labels, X2_centroids = kmeans_model(5, X2)\n",
    "plot_clusters(X2, 0.02, X2_model, X2_labels, X2_centroids)"
   ]
  },
  {
   "cell_type": "code",
   "execution_count": null,
   "id": "4f13e951-9ca5-4d3b-8957-bb178b9bb088",
   "metadata": {},
   "outputs": [],
   "source": [
    "X3_model, X3_labels, X3_centroids = kmeans_model(3, X3)\n",
    "plot_clusters(X3, 0.02, X3_model, X3_labels, X3_centroids)"
   ]
  }
 ],
 "metadata": {
  "kernelspec": {
   "display_name": "Python 3 (ipykernel)",
   "language": "python",
   "name": "python3"
  },
  "language_info": {
   "codemirror_mode": {
    "name": "ipython",
    "version": 3
   },
   "file_extension": ".py",
   "mimetype": "text/x-python",
   "name": "python",
   "nbconvert_exporter": "python",
   "pygments_lexer": "ipython3",
   "version": "3.9.6"
  }
 },
 "nbformat": 4,
 "nbformat_minor": 5
}
