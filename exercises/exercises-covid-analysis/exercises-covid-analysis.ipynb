{
 "cells": [
  {
   "cell_type": "markdown",
   "metadata": {},
   "source": [
    "# Exercises - COVID Analysis"
   ]
  },
  {
   "cell_type": "markdown",
   "metadata": {},
   "source": [
    "## Import Libraries"
   ]
  },
  {
   "cell_type": "code",
   "execution_count": null,
   "metadata": {},
   "outputs": [],
   "source": [
    "import pandas as pd\n",
    "import matplotlib.pyplot as plt \n",
    "import matplotlib.colors as mcolors\n",
    "from IPython.display import set_matplotlib_formats\n",
    "import plotly.express as px"
   ]
  },
  {
   "cell_type": "markdown",
   "metadata": {},
   "source": [
    "## Import Data"
   ]
  },
  {
   "cell_type": "code",
   "execution_count": null,
   "metadata": {},
   "outputs": [],
   "source": [
    "cases_df = pd.read_csv('https://raw.githubusercontent.com/CSSEGISandData/COVID-19/master/csse_covid_19_data/csse_covid_19_time_series/time_series_covid19_confirmed_global.csv')\n",
    "deaths_df = pd.read_csv('https://raw.githubusercontent.com/CSSEGISandData/COVID-19/master/csse_covid_19_data/csse_covid_19_time_series/time_series_covid19_deaths_global.csv')"
   ]
  },
  {
   "cell_type": "code",
   "execution_count": null,
   "metadata": {},
   "outputs": [],
   "source": [
    "cases_df.head()"
   ]
  },
  {
   "cell_type": "code",
   "execution_count": null,
   "metadata": {},
   "outputs": [],
   "source": [
    "plt.style.use('fivethirtyeight')\n",
    "%matplotlib inline\n",
    "country = 'Italy' # select the country\n",
    "cases_country = cases_df[cases_df['Country/Region'] == country].copy()\n",
    "cases_country_complete = cases_country.copy()\n",
    "cases_country = cases_country[cases_country.keys()[4:]]\n",
    "plt.figure(figsize=(16, 10))\n",
    "plt.plot(cases_country.keys(), cases_country.iloc[0])\n",
    "plt.title('# of Coronavirus Cases Over Time in ' + country, size=30)\n",
    "plt.xlabel('Day', size=30)\n",
    "plt.ylabel('# of cumulative Cases', size=30)\n",
    "plt.xticks(cases_country.keys(), size=20, rotation='vertical')\n",
    "plt.locator_params(axis='x', nbins=30)\n",
    "plt.yticks(size=20, rotation='horizontal')\n",
    "plt.show()"
   ]
  },
  {
   "cell_type": "code",
   "execution_count": null,
   "metadata": {},
   "outputs": [],
   "source": [
    "cases_country_dif = []\n",
    "cases_country_dif.append(cases_country[cases_country.keys()[0]].iloc[0])\n",
    "\n",
    "for j in range(1,len(cases_country.iloc[0])):\n",
    "    cases_country_dif.append(cases_country.iloc[0][j] - cases_country.iloc[0][j-1])\n",
    "\n",
    "plt.figure(figsize=(16, 10))\n",
    "plt.plot(cases_country.keys(), cases_country_dif)\n",
    "plt.title('# of daily Cases in ' + country, size=30)\n",
    "plt.xlabel('Day', size=30)\n",
    "plt.ylabel('# of daily Cases', size=30)\n",
    "plt.xticks(cases_country.keys(), size=20, rotation='vertical')\n",
    "plt.locator_params(axis='x', nbins=30)\n",
    "plt.yticks(size=20, rotation='horizontal')\n",
    "plt.show()"
   ]
  },
  {
   "cell_type": "code",
   "execution_count": null,
   "metadata": {},
   "outputs": [],
   "source": [
    "t = '4/20/21'\n",
    "fig = px.scatter_geo(cases_df[[t, 'Lat', 'Long']], lon = 'Long', lat = 'Lat', size= t, projection=\"natural earth\")\n",
    "fig.show()"
   ]
  }
 ],
 "metadata": {
  "kernelspec": {
   "display_name": "Python 3 (ipykernel)",
   "language": "python",
   "name": "python3"
  },
  "language_info": {
   "codemirror_mode": {
    "name": "ipython",
    "version": 3
   },
   "file_extension": ".py",
   "mimetype": "text/x-python",
   "name": "python",
   "nbconvert_exporter": "python",
   "pygments_lexer": "ipython3",
   "version": "3.9.6"
  }
 },
 "nbformat": 4,
 "nbformat_minor": 4
}
