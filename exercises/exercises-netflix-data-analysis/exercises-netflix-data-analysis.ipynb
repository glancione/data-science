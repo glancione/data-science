{
 "cells": [
  {
   "cell_type": "markdown",
   "id": "ce9ee6f5",
   "metadata": {},
   "source": [
    "# Exercises - Netflix Data Analysis"
   ]
  },
  {
   "cell_type": "markdown",
   "id": "f6007336",
   "metadata": {},
   "source": [
    "## Import Libraries"
   ]
  },
  {
   "cell_type": "code",
   "execution_count": null,
   "id": "8144c97d",
   "metadata": {},
   "outputs": [],
   "source": [
    "import pandas as pd\n",
    "import numpy as np\n",
    "import matplotlib.pyplot as plt\n",
    "import seaborn as sns\n",
    "import plotly.graph_objects as go\n",
    "import plotly.express as px\n",
    "from wordcloud import WordCloud"
   ]
  },
  {
   "cell_type": "markdown",
   "id": "d4e1f785",
   "metadata": {},
   "source": [
    "## Import Data"
   ]
  },
  {
   "cell_type": "code",
   "execution_count": null,
   "id": "9c06a9d0",
   "metadata": {},
   "outputs": [],
   "source": [
    "file_path = \"./exercises-netflix-data-analysis-dataset.csv\"\n",
    "df = pd.read_csv(file_path, encoding=\"latin 1\")\n",
    "print(\"\\nDescribe:\\n\\n\", df.describe())\n",
    "print(\"\\nShape:\\n\", df.shape)"
   ]
  },
  {
   "cell_type": "code",
   "execution_count": null,
   "id": "61c16cee",
   "metadata": {},
   "outputs": [],
   "source": [
    "df.head()"
   ]
  },
  {
   "cell_type": "code",
   "execution_count": null,
   "id": "6fa02b15",
   "metadata": {},
   "outputs": [],
   "source": [
    "df['category'].value_counts()"
   ]
  },
  {
   "cell_type": "code",
   "execution_count": null,
   "id": "30df3c74",
   "metadata": {},
   "outputs": [],
   "source": [
    "df.isnull().sum()"
   ]
  },
  {
   "cell_type": "code",
   "execution_count": null,
   "id": "6bc37ba1",
   "metadata": {},
   "outputs": [],
   "source": [
    "df = df.drop([\"season_title\", \"runtime\", \"weekly_views\", \"episode_launch_details\"], axis=1)"
   ]
  },
  {
   "cell_type": "code",
   "execution_count": null,
   "id": "025a16bb",
   "metadata": {},
   "outputs": [],
   "source": [
    "def uniqueColdata(colname):\n",
    "    colcount = len(df[colname].unique())\n",
    "    coluniqueData = df[colname].value_counts()\n",
    "    print(\"colname : \", colname, \"colcount : \",colcount ,\"coluniqueData : \", coluniqueData)"
   ]
  },
  {
   "cell_type": "code",
   "execution_count": null,
   "id": "f81e91de",
   "metadata": {},
   "outputs": [],
   "source": [
    "uniqueColdata(\"cumulative_weeks_in_top_10\")"
   ]
  },
  {
   "cell_type": "code",
   "execution_count": null,
   "id": "dfff3ca9",
   "metadata": {},
   "outputs": [],
   "source": [
    "df.dtypes"
   ]
  },
  {
   "cell_type": "markdown",
   "id": "c9805e46",
   "metadata": {},
   "source": [
    "## Data Analysis"
   ]
  },
  {
   "cell_type": "code",
   "execution_count": null,
   "id": "18f928f2",
   "metadata": {},
   "outputs": [],
   "source": [
    "top_20_most_viewed = df.nlargest(20, 'weekly_hours_viewed')[['show_title', 'weekly_hours_viewed']]\n",
    "print(top_20_most_viewed)"
   ]
  },
  {
   "cell_type": "code",
   "execution_count": null,
   "id": "658d5b52",
   "metadata": {},
   "outputs": [],
   "source": [
    "category_counts = df['category'].value_counts()\n",
    "plt.figure(figsize=(10, 6))\n",
    "plt.pie(category_counts, labels=category_counts.index, autopct='%1.1f%%', startangle=90)\n",
    "plt.title('Distribution of Cumulative Weeks in Top 10 by Category')\n",
    "plt.show()"
   ]
  },
  {
   "cell_type": "code",
   "execution_count": null,
   "id": "34bcc7b0",
   "metadata": {},
   "outputs": [],
   "source": [
    "top_show_counts = df.groupby('show_title')['cumulative_weeks_in_top_10'].max().sort_values(ascending=False).head(10)\n",
    "plt.figure(figsize=(12, 8))\n",
    "plt.pie(top_show_counts, labels=top_show_counts.index, autopct='%1.1f%%', startangle=90)\n",
    "plt.title('Top 10 Shows with Highest Cumulative Weeks in Top 10')\n",
    "plt.show()"
   ]
  },
  {
   "cell_type": "code",
   "execution_count": null,
   "id": "4c868156",
   "metadata": {},
   "outputs": [],
   "source": [
    "top_shows = df.groupby('show_title')['cumulative_weeks_in_top_10'].max().sort_values(ascending=False).head(10).reset_index()\n",
    "\n",
    "fig = go.Figure()\n",
    "\n",
    "for show in top_shows['show_title']:\n",
    "    show_data = df[df['show_title'] == show]\n",
    "    fig.add_trace(go.Scatter(x=show_data['week'], y=show_data['cumulative_weeks_in_top_10'], mode='lines', name=show))\n",
    "\n",
    "fig.update_layout(title='Stacked Area Chart of Cumulative Weeks in Top 10 by Show Title', xaxis_title='Week', yaxis_title='Cumulative Weeks in Top 10', showlegend=True)\n",
    "fig.show()"
   ]
  },
  {
   "cell_type": "code",
   "execution_count": null,
   "id": "eb09f633",
   "metadata": {},
   "outputs": [],
   "source": [
    "top_shows = df.groupby('show_title')['cumulative_weeks_in_top_10'].max().sort_values(ascending=False).head(10).reset_index()\n",
    "\n",
    "fig = go.Figure()\n",
    "for i, show in enumerate(top_shows['show_title']):\n",
    "    show_data = df[df['show_title'] == show]\n",
    "    fig.add_trace(go.Scatter(x=show_data['week'], y=show_data['cumulative_weeks_in_top_10'], mode='lines', fill='tonexty' if i < len(top_shows) - 1 else 'tozeroy', line=dict(width=0.5), name=show))\n",
    "\n",
    "fig.update_layout(title='Ribbon Chart of Cumulative Weeks in Top 10 by Show Title', xaxis_title='Week', yaxis_title='Cumulative Weeks in Top 10',showlegend=True)\n",
    "fig.show()"
   ]
  },
  {
   "cell_type": "code",
   "execution_count": null,
   "id": "9535208f",
   "metadata": {},
   "outputs": [],
   "source": [
    "top_shows = df.groupby('show_title')['cumulative_weeks_in_top_10'].max().sort_values(ascending=False).head(10).reset_index()\n",
    "fig = px.treemap(top_shows, path=['show_title'], values='cumulative_weeks_in_top_10', title='Treemap of Cumulative Weeks in Top 10 by Show Title')\n",
    "fig.show()"
   ]
  },
  {
   "cell_type": "code",
   "execution_count": null,
   "id": "ef72177c",
   "metadata": {},
   "outputs": [],
   "source": [
    "top_shows = df.groupby('show_title')['cumulative_weeks_in_top_10'].max().sort_values(ascending=False).head(10).reset_index()\n",
    "fig = go.Figure()\n",
    "\n",
    "fig.add_trace(go.Funnel(name='Cumulative Weeks in Top 10', y=top_shows['show_title'], x=top_shows['cumulative_weeks_in_top_10'], textinfo=\"value+percent initial\"\n",
    "))\n",
    "\n",
    "fig.update_layout(title='Funnel Chart of Cumulative Weeks in Top 10 by Show Title', xaxis_title='Cumulative Weeks in Top 10',yaxis_title='Show Title')\n",
    "fig.show()"
   ]
  },
  {
   "cell_type": "code",
   "execution_count": null,
   "id": "a7ac295a",
   "metadata": {},
   "outputs": [],
   "source": [
    "category_counts = df['category'].value_counts()\n",
    "fig2 = go.Figure()\n",
    "\n",
    "fig2.add_trace(go.Funnel(name='Is Staggered Launch', y=category_counts.index, x=category_counts, textinfo=\"value+percent initial\"\n",
    "))\n",
    "\n",
    "fig2.update_layout(title='Funnel Chart of Category vs Is Staggered Launch', xaxis_title='Count', yaxis_title='Category')\n",
    "fig2.show()"
   ]
  },
  {
   "cell_type": "code",
   "execution_count": null,
   "id": "1cd7f720",
   "metadata": {},
   "outputs": [],
   "source": [
    "top_shows = df.groupby('show_title')['cumulative_weeks_in_top_10'].max().sort_values(ascending=False).head(10).reset_index()\n",
    "fig1 = go.Figure()\n",
    "\n",
    "for show in top_shows['show_title']:\n",
    "    show_data = df[df['show_title'] == show]\n",
    "    fig1.add_trace(go.Scatter(x=show_data['week'], y=show_data['cumulative_weeks_in_top_10'], mode='lines', name=show))\n",
    "\n",
    "fig1.update_layout(title='Line Chart of Cumulative Weeks in Top 10 by Show Title', xaxis_title='Week', yaxis_title='Cumulative Weeks in Top 10',\n",
    "                   showlegend=True)\n",
    "fig1.show()"
   ]
  },
  {
   "cell_type": "code",
   "execution_count": null,
   "id": "5ac3e9bf",
   "metadata": {},
   "outputs": [],
   "source": [
    "def plot_line_chart(df, column_name):\n",
    "    fig = go.Figure()\n",
    "\n",
    "    for category in df['category'].unique():\n",
    "        category_data = df[df['category'] == category]\n",
    "        fig.add_trace(go.Scatter(x=category_data['week'], y=category_data[column_name], mode='lines', name=category))\n",
    "\n",
    "    fig.update_layout(title=f'Line Chart of {column_name} by Category', xaxis_title='Week', yaxis_title=column_name, showlegend=True)\n",
    "    fig.show()\n",
    "\n",
    "plot_line_chart(df, 'weekly_rank')"
   ]
  },
  {
   "cell_type": "code",
   "execution_count": null,
   "id": "48637480",
   "metadata": {},
   "outputs": [],
   "source": [
    "plot_line_chart(df, 'weekly_hours_viewed')\n",
    "plot_line_chart(df, 'cumulative_weeks_in_top_10')\n",
    "plot_line_chart(df, 'show_title')"
   ]
  },
  {
   "cell_type": "code",
   "execution_count": null,
   "id": "0dd0f9ce",
   "metadata": {},
   "outputs": [],
   "source": [
    "def plot_line_charts(df, parameter1, parameter2):\n",
    "    columns_to_plot = [col for col in df.columns if col not in ['week', 'category', parameter1, parameter2]]\n",
    "\n",
    "    for column_name in columns_to_plot:\n",
    "        fig = go.Figure()\n",
    "\n",
    "        for category in df['category'].unique():\n",
    "            category_data = df[df['category'] == category]\n",
    "            fig.add_trace(go.Scatter(x=category_data[parameter1], y=category_data[column_name],\n",
    "                                     mode='lines',\n",
    "                                     name=f'{parameter1} - {category}'))\n",
    "\n",
    "            fig.add_trace(go.Scatter(x=category_data[parameter2], y=category_data[column_name],\n",
    "                                     mode='lines',\n",
    "                                     name=f'{parameter2} - {category}',\n",
    "                                     line=dict(dash='dash')))\n",
    "\n",
    "        fig.update_layout(title=f'Line Chart of {column_name} by {parameter1} and {parameter2}',\n",
    "                          xaxis_title=f'{parameter1} / {parameter2}',\n",
    "                          yaxis_title=column_name,\n",
    "                          showlegend=True)\n",
    "\n",
    "        fig.show()"
   ]
  },
  {
   "cell_type": "code",
   "execution_count": null,
   "id": "384ddd4c",
   "metadata": {},
   "outputs": [],
   "source": [
    "plot_line_charts(df, 'weekly_rank', 'weekly_hours_viewed')"
   ]
  },
  {
   "cell_type": "code",
   "execution_count": null,
   "id": "d8b9522b",
   "metadata": {},
   "outputs": [],
   "source": [
    "plot_line_charts(df, 'weekly_rank', 'weekly_hours_viewed')\n",
    "plot_line_charts(df, 'category', 'weekly_rank')\n",
    "plot_line_charts(df, 'show_title', 'weekly_hours_viewed')\n",
    "plot_line_charts(df, 'show_title', 'cumulative_weeks_in_top_10')"
   ]
  },
  {
   "cell_type": "code",
   "execution_count": null,
   "id": "3030e473",
   "metadata": {},
   "outputs": [],
   "source": [
    "def generate_word_cloud(df, column_name):\n",
    "    text = ' '.join(df[column_name].astype(str))\n",
    "\n",
    "    wordcloud = WordCloud(width=800, height=400, background_color='white').generate(text)\n",
    "\n",
    "    plt.figure(figsize=(10, 5))\n",
    "    plt.imshow(wordcloud, interpolation='bilinear')\n",
    "    plt.axis('off')\n",
    "    plt.title(f'Word Cloud for {column_name}')\n",
    "    plt.show()\n",
    "\n",
    "generate_word_cloud(df, 'show_title')"
   ]
  }
 ],
 "metadata": {
  "kernelspec": {
   "display_name": "Python 3 (ipykernel)",
   "language": "python",
   "name": "python3"
  },
  "language_info": {
   "codemirror_mode": {
    "name": "ipython",
    "version": 3
   },
   "file_extension": ".py",
   "mimetype": "text/x-python",
   "name": "python",
   "nbconvert_exporter": "python",
   "pygments_lexer": "ipython3",
   "version": "3.9.6"
  }
 },
 "nbformat": 4,
 "nbformat_minor": 5
}
