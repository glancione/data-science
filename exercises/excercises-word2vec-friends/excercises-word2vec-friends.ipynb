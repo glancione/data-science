{
 "cells": [
  {
   "cell_type": "markdown",
   "metadata": {
    "id": "-poD-2jCO9py"
   },
   "source": [
    "# Excercises - Word2Vec Friends"
   ]
  },
  {
   "cell_type": "markdown",
   "metadata": {
    "id": "dPyB5PldPDE4"
   },
   "source": [
    "## Import Libraries"
   ]
  },
  {
   "cell_type": "code",
   "execution_count": 27,
   "metadata": {
    "executionInfo": {
     "elapsed": 422,
     "status": "ok",
     "timestamp": 1711555602896,
     "user": {
      "displayName": "Gabriele Lancione",
      "userId": "02497574145285887205"
     },
     "user_tz": -60
    },
    "id": "O_AHWcXyOG_i"
   },
   "outputs": [
    {
     "name": "stdout",
     "output_type": "stream",
     "text": [
      "Defaulting to user installation because normal site-packages is not writeable\n",
      "Collecting en-core-web-sm==3.7.1\n",
      "  Downloading https://github.com/explosion/spacy-models/releases/download/en_core_web_sm-3.7.1/en_core_web_sm-3.7.1-py3-none-any.whl (12.8 MB)\n",
      "\u001b[2K     \u001b[90m━━━━━━━━━━━━━━━━━━━━━━━━━━━━━━━━━━━━━━━━\u001b[0m \u001b[32m12.8/12.8 MB\u001b[0m \u001b[31m8.6 MB/s\u001b[0m eta \u001b[36m0:00:00\u001b[0m00:01\u001b[0m00:01\u001b[0m\n",
      "\u001b[?25hRequirement already satisfied: spacy<3.8.0,>=3.7.2 in /Users/gabriele/Library/Python/3.9/lib/python/site-packages (from en-core-web-sm==3.7.1) (3.7.4)\n",
      "Requirement already satisfied: spacy-legacy<3.1.0,>=3.0.11 in /Users/gabriele/Library/Python/3.9/lib/python/site-packages (from spacy<3.8.0,>=3.7.2->en-core-web-sm==3.7.1) (3.0.12)\n",
      "Requirement already satisfied: spacy-loggers<2.0.0,>=1.0.0 in /Users/gabriele/Library/Python/3.9/lib/python/site-packages (from spacy<3.8.0,>=3.7.2->en-core-web-sm==3.7.1) (1.0.5)\n",
      "Requirement already satisfied: murmurhash<1.1.0,>=0.28.0 in /Users/gabriele/Library/Python/3.9/lib/python/site-packages (from spacy<3.8.0,>=3.7.2->en-core-web-sm==3.7.1) (1.0.10)\n",
      "Requirement already satisfied: cymem<2.1.0,>=2.0.2 in /Users/gabriele/Library/Python/3.9/lib/python/site-packages (from spacy<3.8.0,>=3.7.2->en-core-web-sm==3.7.1) (2.0.8)\n",
      "Requirement already satisfied: preshed<3.1.0,>=3.0.2 in /Users/gabriele/Library/Python/3.9/lib/python/site-packages (from spacy<3.8.0,>=3.7.2->en-core-web-sm==3.7.1) (3.0.9)\n",
      "Requirement already satisfied: thinc<8.3.0,>=8.2.2 in /Users/gabriele/Library/Python/3.9/lib/python/site-packages (from spacy<3.8.0,>=3.7.2->en-core-web-sm==3.7.1) (8.2.3)\n",
      "Requirement already satisfied: wasabi<1.2.0,>=0.9.1 in /Users/gabriele/Library/Python/3.9/lib/python/site-packages (from spacy<3.8.0,>=3.7.2->en-core-web-sm==3.7.1) (1.1.2)\n",
      "Requirement already satisfied: srsly<3.0.0,>=2.4.3 in /Users/gabriele/Library/Python/3.9/lib/python/site-packages (from spacy<3.8.0,>=3.7.2->en-core-web-sm==3.7.1) (2.4.8)\n",
      "Requirement already satisfied: catalogue<2.1.0,>=2.0.6 in /Users/gabriele/Library/Python/3.9/lib/python/site-packages (from spacy<3.8.0,>=3.7.2->en-core-web-sm==3.7.1) (2.0.10)\n",
      "Requirement already satisfied: weasel<0.4.0,>=0.1.0 in /Users/gabriele/Library/Python/3.9/lib/python/site-packages (from spacy<3.8.0,>=3.7.2->en-core-web-sm==3.7.1) (0.3.4)\n",
      "Requirement already satisfied: typer<0.10.0,>=0.3.0 in /Users/gabriele/Library/Python/3.9/lib/python/site-packages (from spacy<3.8.0,>=3.7.2->en-core-web-sm==3.7.1) (0.9.4)\n",
      "Requirement already satisfied: smart-open<7.0.0,>=5.2.1 in /Users/gabriele/Library/Python/3.9/lib/python/site-packages (from spacy<3.8.0,>=3.7.2->en-core-web-sm==3.7.1) (6.4.0)\n",
      "Requirement already satisfied: tqdm<5.0.0,>=4.38.0 in /Users/gabriele/Library/Python/3.9/lib/python/site-packages (from spacy<3.8.0,>=3.7.2->en-core-web-sm==3.7.1) (4.65.0)\n",
      "Requirement already satisfied: requests<3.0.0,>=2.13.0 in /Users/gabriele/Library/Python/3.9/lib/python/site-packages (from spacy<3.8.0,>=3.7.2->en-core-web-sm==3.7.1) (2.31.0)\n",
      "Requirement already satisfied: pydantic!=1.8,!=1.8.1,<3.0.0,>=1.7.4 in /Users/gabriele/Library/Python/3.9/lib/python/site-packages (from spacy<3.8.0,>=3.7.2->en-core-web-sm==3.7.1) (2.6.1)\n",
      "Requirement already satisfied: jinja2 in /Library/Python/3.9/site-packages (from spacy<3.8.0,>=3.7.2->en-core-web-sm==3.7.1) (3.1.3)\n",
      "Requirement already satisfied: setuptools in /Library/Developer/CommandLineTools/Library/Frameworks/Python3.framework/Versions/3.9/lib/python3.9/site-packages (from spacy<3.8.0,>=3.7.2->en-core-web-sm==3.7.1) (58.0.4)\n",
      "Requirement already satisfied: packaging>=20.0 in /Users/gabriele/Library/Python/3.9/lib/python/site-packages (from spacy<3.8.0,>=3.7.2->en-core-web-sm==3.7.1) (23.1)\n",
      "Requirement already satisfied: langcodes<4.0.0,>=3.2.0 in /Users/gabriele/Library/Python/3.9/lib/python/site-packages (from spacy<3.8.0,>=3.7.2->en-core-web-sm==3.7.1) (3.3.0)\n",
      "Requirement already satisfied: numpy>=1.19.0 in /Users/gabriele/Library/Python/3.9/lib/python/site-packages (from spacy<3.8.0,>=3.7.2->en-core-web-sm==3.7.1) (1.24.2)\n",
      "Requirement already satisfied: annotated-types>=0.4.0 in /Users/gabriele/Library/Python/3.9/lib/python/site-packages (from pydantic!=1.8,!=1.8.1,<3.0.0,>=1.7.4->spacy<3.8.0,>=3.7.2->en-core-web-sm==3.7.1) (0.6.0)\n",
      "Requirement already satisfied: pydantic-core==2.16.2 in /Users/gabriele/Library/Python/3.9/lib/python/site-packages (from pydantic!=1.8,!=1.8.1,<3.0.0,>=1.7.4->spacy<3.8.0,>=3.7.2->en-core-web-sm==3.7.1) (2.16.2)\n",
      "Requirement already satisfied: typing-extensions>=4.6.1 in /Users/gabriele/Library/Python/3.9/lib/python/site-packages (from pydantic!=1.8,!=1.8.1,<3.0.0,>=1.7.4->spacy<3.8.0,>=3.7.2->en-core-web-sm==3.7.1) (4.9.0)\n",
      "Requirement already satisfied: charset-normalizer<4,>=2 in /Users/gabriele/Library/Python/3.9/lib/python/site-packages (from requests<3.0.0,>=2.13.0->spacy<3.8.0,>=3.7.2->en-core-web-sm==3.7.1) (3.1.0)\n",
      "Requirement already satisfied: idna<4,>=2.5 in /Users/gabriele/Library/Python/3.9/lib/python/site-packages (from requests<3.0.0,>=2.13.0->spacy<3.8.0,>=3.7.2->en-core-web-sm==3.7.1) (3.4)\n",
      "Requirement already satisfied: urllib3<3,>=1.21.1 in /Users/gabriele/Library/Python/3.9/lib/python/site-packages (from requests<3.0.0,>=2.13.0->spacy<3.8.0,>=3.7.2->en-core-web-sm==3.7.1) (1.26.15)\n",
      "Requirement already satisfied: certifi>=2017.4.17 in /Users/gabriele/Library/Python/3.9/lib/python/site-packages (from requests<3.0.0,>=2.13.0->spacy<3.8.0,>=3.7.2->en-core-web-sm==3.7.1) (2022.12.7)\n",
      "Requirement already satisfied: blis<0.8.0,>=0.7.8 in /Users/gabriele/Library/Python/3.9/lib/python/site-packages (from thinc<8.3.0,>=8.2.2->spacy<3.8.0,>=3.7.2->en-core-web-sm==3.7.1) (0.7.11)\n",
      "Requirement already satisfied: confection<1.0.0,>=0.0.1 in /Users/gabriele/Library/Python/3.9/lib/python/site-packages (from thinc<8.3.0,>=8.2.2->spacy<3.8.0,>=3.7.2->en-core-web-sm==3.7.1) (0.1.4)\n",
      "Requirement already satisfied: click<9.0.0,>=7.1.1 in /Users/gabriele/Library/Python/3.9/lib/python/site-packages (from typer<0.10.0,>=0.3.0->spacy<3.8.0,>=3.7.2->en-core-web-sm==3.7.1) (8.1.7)\n",
      "Requirement already satisfied: cloudpathlib<0.17.0,>=0.7.0 in /Users/gabriele/Library/Python/3.9/lib/python/site-packages (from weasel<0.4.0,>=0.1.0->spacy<3.8.0,>=3.7.2->en-core-web-sm==3.7.1) (0.16.0)\n",
      "Requirement already satisfied: MarkupSafe>=2.0 in /Users/gabriele/Library/Python/3.9/lib/python/site-packages (from jinja2->spacy<3.8.0,>=3.7.2->en-core-web-sm==3.7.1) (2.1.5)\n",
      "\u001b[38;5;2m✔ Download and installation successful\u001b[0m\n",
      "You can now load the package via spacy.load('en_core_web_sm')\n"
     ]
    }
   ],
   "source": [
    "import re\n",
    "import pandas as pd\n",
    "import numpy as np\n",
    "import matplotlib.pyplot as plt\n",
    "import seaborn as sns\n",
    "from time import time\n",
    "from collections import defaultdict\n",
    "import spacy\n",
    "import logging\n",
    "import multiprocessing\n",
    "from sklearn.decomposition import PCA\n",
    "from sklearn.manifold import TSNE\n",
    "from gensim.models.phrases import Phrases, Phraser\n",
    "from gensim.models import Word2Vec\n",
    "!python3 -m spacy download en_core_web_sm \n",
    "import en_core_web_sm\n",
    "\n",
    "%matplotlib inline\n",
    "sns.set_style(\"darkgrid\")"
   ]
  },
  {
   "cell_type": "code",
   "execution_count": 28,
   "metadata": {
    "executionInfo": {
     "elapsed": 4,
     "status": "ok",
     "timestamp": 1711555603408,
     "user": {
      "displayName": "Gabriele Lancione",
      "userId": "02497574145285887205"
     },
     "user_tz": -60
    },
    "id": "g1MgDb75esoe"
   },
   "outputs": [],
   "source": [
    "logging.basicConfig(format=\"%(levelname)s - %(asctime)s: %(message)s\", datefmt= '%H:%M:%S', level=logging.INFO)"
   ]
  },
  {
   "cell_type": "markdown",
   "metadata": {
    "id": "6rbEVCQifepq"
   },
   "source": [
    "## Data Import"
   ]
  },
  {
   "cell_type": "code",
   "execution_count": 29,
   "metadata": {
    "colab": {
     "base_uri": "https://localhost:8080/",
     "height": 206
    },
    "executionInfo": {
     "elapsed": 14,
     "status": "ok",
     "timestamp": 1711555606710,
     "user": {
      "displayName": "Gabriele Lancione",
      "userId": "02497574145285887205"
     },
     "user_tz": -60
    },
    "id": "_xdONRx1fgff",
    "outputId": "97ee7c38-f05c-4016-85e9-7dac6581e2b4"
   },
   "outputs": [
    {
     "data": {
      "text/html": [
       "<div>\n",
       "<style scoped>\n",
       "    .dataframe tbody tr th:only-of-type {\n",
       "        vertical-align: middle;\n",
       "    }\n",
       "\n",
       "    .dataframe tbody tr th {\n",
       "        vertical-align: top;\n",
       "    }\n",
       "\n",
       "    .dataframe thead th {\n",
       "        text-align: right;\n",
       "    }\n",
       "</style>\n",
       "<table border=\"1\" class=\"dataframe\">\n",
       "  <thead>\n",
       "    <tr style=\"text-align: right;\">\n",
       "      <th></th>\n",
       "      <th>Name</th>\n",
       "      <th>Lines</th>\n",
       "    </tr>\n",
       "  </thead>\n",
       "  <tbody>\n",
       "    <tr>\n",
       "      <th>0</th>\n",
       "      <td>Monica</td>\n",
       "      <td>There's nothing to tell! He's just some guy I ...</td>\n",
       "    </tr>\n",
       "    <tr>\n",
       "      <th>1</th>\n",
       "      <td>Joey</td>\n",
       "      <td>C'mon, you're going out with the guy! There's ...</td>\n",
       "    </tr>\n",
       "    <tr>\n",
       "      <th>2</th>\n",
       "      <td>Chandler</td>\n",
       "      <td>All right Joey, be nice. So does he have a hum...</td>\n",
       "    </tr>\n",
       "    <tr>\n",
       "      <th>3</th>\n",
       "      <td>Phoebe</td>\n",
       "      <td>Wait, does he eat chalk?</td>\n",
       "    </tr>\n",
       "    <tr>\n",
       "      <th>4</th>\n",
       "      <td>Phoebe</td>\n",
       "      <td>Just, 'cause, I don't want her to go through w...</td>\n",
       "    </tr>\n",
       "  </tbody>\n",
       "</table>\n",
       "</div>"
      ],
      "text/plain": [
       "       Name                                              Lines\n",
       "0    Monica  There's nothing to tell! He's just some guy I ...\n",
       "1      Joey  C'mon, you're going out with the guy! There's ...\n",
       "2  Chandler  All right Joey, be nice. So does he have a hum...\n",
       "3    Phoebe                           Wait, does he eat chalk?\n",
       "4    Phoebe  Just, 'cause, I don't want her to go through w..."
      ]
     },
     "execution_count": 29,
     "metadata": {},
     "output_type": "execute_result"
    }
   ],
   "source": [
    "# Data can be found at https://www.kaggle.com/datasets/kimmik123/friends-scriptcsv\n",
    "df = pd.read_csv('./Friends_script.csv')\n",
    "df.head()"
   ]
  },
  {
   "cell_type": "markdown",
   "metadata": {
    "id": "MU3McSrLfmSQ"
   },
   "source": [
    "## Data Preparation"
   ]
  },
  {
   "cell_type": "code",
   "execution_count": 30,
   "metadata": {
    "colab": {
     "base_uri": "https://localhost:8080/"
    },
    "executionInfo": {
     "elapsed": 15,
     "status": "ok",
     "timestamp": 1711555606713,
     "user": {
      "displayName": "Gabriele Lancione",
      "userId": "02497574145285887205"
     },
     "user_tz": -60
    },
    "id": "PPJkioJmjkdU",
    "outputId": "df6184c5-d01c-4773-cca5-2d5cbe7ec31b"
   },
   "outputs": [
    {
     "name": "stdout",
     "output_type": "stream",
     "text": [
      "Columns cointaining 'na' values:\n",
      "\n",
      "Name     True\n",
      "Lines    True\n",
      "dtype: bool\n",
      "\n",
      "----------------------------------------------------\n",
      "\n",
      "Count of 'na' values per column:\n",
      "\n",
      "Name      1\n",
      "Lines    32\n",
      "dtype: int64\n"
     ]
    }
   ],
   "source": [
    "print(\"Columns cointaining 'na' values:\\n\")\n",
    "print(df.isna().any())\n",
    "print('\\n----------------------------------------------------\\n')\n",
    "print(\"Count of 'na' values per column:\\n\")\n",
    "print(df.isna().sum())"
   ]
  },
  {
   "cell_type": "code",
   "execution_count": 31,
   "metadata": {
    "colab": {
     "base_uri": "https://localhost:8080/"
    },
    "executionInfo": {
     "elapsed": 13,
     "status": "ok",
     "timestamp": 1711555606714,
     "user": {
      "displayName": "Gabriele Lancione",
      "userId": "02497574145285887205"
     },
     "user_tz": -60
    },
    "id": "qZ3bYLefgN0b",
    "outputId": "d9113904-0c4a-4504-d89b-2150ee5aaea0"
   },
   "outputs": [
    {
     "name": "stdout",
     "output_type": "stream",
     "text": [
      "Removed 33 missing values\n",
      "Columns cointaining 'na' values:\n",
      "\n",
      "Name     False\n",
      "Lines    False\n",
      "dtype: bool\n",
      "\n",
      "----------------------------------------------------\n",
      "\n",
      "Count of 'na' values per column:\n",
      "\n",
      "Name     0\n",
      "Lines    0\n",
      "dtype: int64\n"
     ]
    }
   ],
   "source": [
    "def remove_missing_values(df):\n",
    "    missing_values = df.isnull().sum()\n",
    "    df = df.dropna(axis=0)\n",
    "    print(\"Removed {} missing values\".format(missing_values.sum()))\n",
    "    return df\n",
    "\n",
    "df = remove_missing_values(df)\n",
    "\n",
    "print(\"Columns cointaining 'na' values:\\n\")\n",
    "print(df.isna().any())\n",
    "print('\\n----------------------------------------------------\\n')\n",
    "print(\"Count of 'na' values per column:\\n\")\n",
    "print(df.isna().sum())"
   ]
  },
  {
   "cell_type": "markdown",
   "metadata": {
    "id": "fLFN9sCLtbem"
   },
   "source": [
    "## Data Cleaning"
   ]
  },
  {
   "cell_type": "code",
   "execution_count": 32,
   "metadata": {
    "executionInfo": {
     "elapsed": 1159,
     "status": "ok",
     "timestamp": 1711555607862,
     "user": {
      "displayName": "Gabriele Lancione",
      "userId": "02497574145285887205"
     },
     "user_tz": -60
    },
    "id": "1D0fAJQrm0ql"
   },
   "outputs": [],
   "source": [
    "nlp = spacy.load(\"en_core_web_sm\", disable=['ner', 'parser']) # disabling Named Entity Recognition for speed     # doc needs to be a spacy Doc object\n",
    "def cleaning(doc):\n",
    "    # Lemmatizes and removes stopwords\n",
    "    txt = [token.lemma_ for token in doc if not token.is_stop]\n",
    "    # Word2Vec uses context words to learn the vector representation of a target word,\n",
    "    # if a sentence is only one or two words long,\n",
    "    # the benefit for the training is very small\n",
    "    if len(txt) > 2:\n",
    "        return ' '.join(txt)"
   ]
  },
  {
   "cell_type": "code",
   "execution_count": 33,
   "metadata": {
    "executionInfo": {
     "elapsed": 3,
     "status": "ok",
     "timestamp": 1711555607862,
     "user": {
      "displayName": "Gabriele Lancione",
      "userId": "02497574145285887205"
     },
     "user_tz": -60
    },
    "id": "PmtcZnhUnHuF"
   },
   "outputs": [],
   "source": [
    "brief_cleaning = (re.sub(\"[^A-Za-z']+\", ' ', str(row)).lower() for row in df['Lines'])"
   ]
  },
  {
   "cell_type": "code",
   "execution_count": 34,
   "metadata": {
    "colab": {
     "base_uri": "https://localhost:8080/"
    },
    "executionInfo": {
     "elapsed": 59692,
     "status": "ok",
     "timestamp": 1711555667552,
     "user": {
      "displayName": "Gabriele Lancione",
      "userId": "02497574145285887205"
     },
     "user_tz": -60
    },
    "id": "ayoq6oT-nOc1",
    "outputId": "03dca3b9-dc69-49ed-99fd-2bc6edec04cd"
   },
   "outputs": [
    {
     "name": "stdout",
     "output_type": "stream",
     "text": [
      "CPU times: user 42.5 s, sys: 1.28 s, total: 43.8 s\n",
      "Wall time: 43.9 s\n"
     ]
    }
   ],
   "source": [
    "%%time\n",
    "txt = [cleaning(doc) for doc in nlp.pipe(brief_cleaning, batch_size=5000)]"
   ]
  },
  {
   "cell_type": "code",
   "execution_count": 35,
   "metadata": {
    "colab": {
     "base_uri": "https://localhost:8080/"
    },
    "executionInfo": {
     "elapsed": 6,
     "status": "ok",
     "timestamp": 1711555667553,
     "user": {
      "displayName": "Gabriele Lancione",
      "userId": "02497574145285887205"
     },
     "user_tz": -60
    },
    "id": "bGgw5SOPnWKl",
    "outputId": "ade423ac-deb5-4041-c280-4c060824e6c6"
   },
   "outputs": [
    {
     "data": {
      "text/plain": [
       "(31112, 1)"
      ]
     },
     "execution_count": 35,
     "metadata": {},
     "output_type": "execute_result"
    }
   ],
   "source": [
    "df_clean = pd.DataFrame({'clean': txt})\n",
    "df_clean = df_clean.dropna().drop_duplicates()\n",
    "df_clean.shape"
   ]
  },
  {
   "cell_type": "markdown",
   "metadata": {
    "id": "EEPIHfjyt4Pe"
   },
   "source": [
    "## Create Bigrams"
   ]
  },
  {
   "cell_type": "code",
   "execution_count": 36,
   "metadata": {
    "executionInfo": {
     "elapsed": 4,
     "status": "ok",
     "timestamp": 1711555667553,
     "user": {
      "displayName": "Gabriele Lancione",
      "userId": "02497574145285887205"
     },
     "user_tz": -60
    },
    "id": "SuMSEdEEnbfk"
   },
   "outputs": [],
   "source": [
    "sent = [row.split() for row in df_clean['clean']]"
   ]
  },
  {
   "cell_type": "code",
   "execution_count": 37,
   "metadata": {
    "executionInfo": {
     "elapsed": 490,
     "status": "ok",
     "timestamp": 1711555668040,
     "user": {
      "displayName": "Gabriele Lancione",
      "userId": "02497574145285887205"
     },
     "user_tz": -60
    },
    "id": "l4U7qi5IngiU"
   },
   "outputs": [
    {
     "name": "stderr",
     "output_type": "stream",
     "text": [
      "INFO - 16:11:25: collecting all words and their counts\n",
      "INFO - 16:11:25: PROGRESS: at sentence #0, processed 0 words and 0 word types\n",
      "INFO - 16:11:25: PROGRESS: at sentence #10000, processed 64665 words and 42758 word types\n",
      "INFO - 16:11:25: PROGRESS: at sentence #20000, processed 129148 words and 72375 word types\n",
      "INFO - 16:11:25: PROGRESS: at sentence #30000, processed 193284 words and 101290 word types\n",
      "INFO - 16:11:25: collected 104264 token types (unigram + bigrams) from a corpus of 200072 words and 31112 sentences\n",
      "INFO - 16:11:25: merged Phrases<104264 vocab, min_count=30, threshold=10.0, max_vocab_size=40000000>\n",
      "INFO - 16:11:25: Phrases lifecycle event {'msg': 'built Phrases<104264 vocab, min_count=30, threshold=10.0, max_vocab_size=40000000> in 0.10s', 'datetime': '2024-03-28T16:11:25.570853', 'gensim': '4.3.2', 'python': '3.9.6 (default, Feb  3 2024, 15:58:27) \\n[Clang 15.0.0 (clang-1500.3.9.4)]', 'platform': 'macOS-14.3.1-arm64-arm-64bit', 'event': 'created'}\n",
      "INFO - 16:11:25: exporting phrases from Phrases<104264 vocab, min_count=30, threshold=10.0, max_vocab_size=40000000>\n",
      "INFO - 16:11:25: FrozenPhrases lifecycle event {'msg': 'exported FrozenPhrases<25 phrases, min_count=30, threshold=10.0> from Phrases<104264 vocab, min_count=30, threshold=10.0, max_vocab_size=40000000> in 0.09s', 'datetime': '2024-03-28T16:11:25.659140', 'gensim': '4.3.2', 'python': '3.9.6 (default, Feb  3 2024, 15:58:27) \\n[Clang 15.0.0 (clang-1500.3.9.4)]', 'platform': 'macOS-14.3.1-arm64-arm-64bit', 'event': 'created'}\n"
     ]
    }
   ],
   "source": [
    "phrases = Phrases(sent, min_count=30, progress_per=10000)\n",
    "bigram = Phraser(phrases)\n",
    "# Phraser() cuts down memory consumption of Phrases()"
   ]
  },
  {
   "cell_type": "code",
   "execution_count": 38,
   "metadata": {
    "executionInfo": {
     "elapsed": 2,
     "status": "ok",
     "timestamp": 1711555668040,
     "user": {
      "displayName": "Gabriele Lancione",
      "userId": "02497574145285887205"
     },
     "user_tz": -60
    },
    "id": "UudGCFGyniPk"
   },
   "outputs": [],
   "source": [
    "sentences = bigram[sent] # Transform the corpus based on the bigrams detected"
   ]
  },
  {
   "cell_type": "markdown",
   "metadata": {
    "id": "QH1HRmu5txue"
   },
   "source": [
    "## Show Most Frequent Words"
   ]
  },
  {
   "cell_type": "code",
   "execution_count": 39,
   "metadata": {
    "colab": {
     "base_uri": "https://localhost:8080/"
    },
    "executionInfo": {
     "elapsed": 555,
     "status": "ok",
     "timestamp": 1711555668594,
     "user": {
      "displayName": "Gabriele Lancione",
      "userId": "02497574145285887205"
     },
     "user_tz": -60
    },
    "id": "7la2EsPJnkMG",
    "outputId": "cd904257-e171-49ca-860f-6ef1ddeb3c13"
   },
   "outputs": [
    {
     "data": {
      "text/plain": [
       "['oh', 'not', 'know', 'okay', 'yeah', 's', 'like', 'think', 'right', 'go_to']"
      ]
     },
     "execution_count": 39,
     "metadata": {},
     "output_type": "execute_result"
    }
   ],
   "source": [
    "word_freq = defaultdict(int)\n",
    "for sent in sentences:\n",
    "    for i in sent:\n",
    "        word_freq[i] += 1\n",
    "sorted(word_freq, key=word_freq.get, reverse=True)[:10]"
   ]
  },
  {
   "cell_type": "markdown",
   "metadata": {
    "id": "jYepD4uiuACY"
   },
   "source": [
    "## Model Training"
   ]
  },
  {
   "cell_type": "code",
   "execution_count": 40,
   "metadata": {
    "executionInfo": {
     "elapsed": 10,
     "status": "ok",
     "timestamp": 1711555668595,
     "user": {
      "displayName": "Gabriele Lancione",
      "userId": "02497574145285887205"
     },
     "user_tz": -60
    },
    "id": "gQkbHIlWnrqU"
   },
   "outputs": [],
   "source": [
    "cores = multiprocessing.cpu_count() # Count the number of cores in a computer"
   ]
  },
  {
   "cell_type": "code",
   "execution_count": 41,
   "metadata": {
    "executionInfo": {
     "elapsed": 9,
     "status": "ok",
     "timestamp": 1711555668595,
     "user": {
      "displayName": "Gabriele Lancione",
      "userId": "02497574145285887205"
     },
     "user_tz": -60
    },
    "id": "9uWrecUfqe9k"
   },
   "outputs": [
    {
     "name": "stderr",
     "output_type": "stream",
     "text": [
      "INFO - 16:11:25: Word2Vec lifecycle event {'params': 'Word2Vec<vocab=0, vector_size=300, alpha=0.03>', 'datetime': '2024-03-28T16:11:25.781195', 'gensim': '4.3.2', 'python': '3.9.6 (default, Feb  3 2024, 15:58:27) \\n[Clang 15.0.0 (clang-1500.3.9.4)]', 'platform': 'macOS-14.3.1-arm64-arm-64bit', 'event': 'created'}\n"
     ]
    }
   ],
   "source": [
    "w2v_model = Word2Vec(min_count=20, window=2, vector_size=300, sample=6e-5, alpha=0.03, min_alpha=0.0007, negative=20, workers=cores-1)"
   ]
  },
  {
   "cell_type": "code",
   "execution_count": 42,
   "metadata": {
    "colab": {
     "base_uri": "https://localhost:8080/"
    },
    "executionInfo": {
     "elapsed": 9,
     "status": "ok",
     "timestamp": 1711555668595,
     "user": {
      "displayName": "Gabriele Lancione",
      "userId": "02497574145285887205"
     },
     "user_tz": -60
    },
    "id": "XqR4QOzQqhfm",
    "outputId": "c4b92c61-d807-45f2-a415-6e1ec1a1a3e5"
   },
   "outputs": [
    {
     "name": "stderr",
     "output_type": "stream",
     "text": [
      "INFO - 16:11:25: collecting all words and their counts\n",
      "INFO - 16:11:25: PROGRESS: at sentence #0, processed 0 words, keeping 0 word types\n",
      "INFO - 16:11:25: PROGRESS: at sentence #10000, processed 63091 words, keeping 6158 word types\n",
      "INFO - 16:11:25: PROGRESS: at sentence #20000, processed 125925 words, keeping 8523 word types\n",
      "INFO - 16:11:25: PROGRESS: at sentence #30000, processed 188482 words, keeping 10989 word types\n",
      "INFO - 16:11:25: collected 11228 word types from a corpus of 195066 raw words and 31112 sentences\n",
      "INFO - 16:11:25: Creating a fresh vocabulary\n",
      "INFO - 16:11:25: Word2Vec lifecycle event {'msg': 'effective_min_count=20 retains 1066 unique words (9.49% of original 11228, drops 10162)', 'datetime': '2024-03-28T16:11:25.899474', 'gensim': '4.3.2', 'python': '3.9.6 (default, Feb  3 2024, 15:58:27) \\n[Clang 15.0.0 (clang-1500.3.9.4)]', 'platform': 'macOS-14.3.1-arm64-arm-64bit', 'event': 'prepare_vocab'}\n",
      "INFO - 16:11:25: Word2Vec lifecycle event {'msg': 'effective_min_count=20 leaves 164590 word corpus (84.38% of original 195066, drops 30476)', 'datetime': '2024-03-28T16:11:25.899896', 'gensim': '4.3.2', 'python': '3.9.6 (default, Feb  3 2024, 15:58:27) \\n[Clang 15.0.0 (clang-1500.3.9.4)]', 'platform': 'macOS-14.3.1-arm64-arm-64bit', 'event': 'prepare_vocab'}\n",
      "INFO - 16:11:25: deleting the raw counts dictionary of 11228 items\n",
      "INFO - 16:11:25: sample=6e-05 downsamples 881 most-common words\n",
      "INFO - 16:11:25: Word2Vec lifecycle event {'msg': 'downsampling leaves estimated 42611.09164520552 word corpus (25.9%% of prior 164590)', 'datetime': '2024-03-28T16:11:25.903147', 'gensim': '4.3.2', 'python': '3.9.6 (default, Feb  3 2024, 15:58:27) \\n[Clang 15.0.0 (clang-1500.3.9.4)]', 'platform': 'macOS-14.3.1-arm64-arm-64bit', 'event': 'prepare_vocab'}\n",
      "INFO - 16:11:25: estimated required memory for 1066 words and 300 dimensions: 3091400 bytes\n",
      "INFO - 16:11:25: resetting layer weights\n",
      "INFO - 16:11:25: Word2Vec lifecycle event {'update': False, 'trim_rule': 'None', 'datetime': '2024-03-28T16:11:25.915884', 'gensim': '4.3.2', 'python': '3.9.6 (default, Feb  3 2024, 15:58:27) \\n[Clang 15.0.0 (clang-1500.3.9.4)]', 'platform': 'macOS-14.3.1-arm64-arm-64bit', 'event': 'build_vocab'}\n"
     ]
    },
    {
     "name": "stdout",
     "output_type": "stream",
     "text": [
      "CPU times: user 128 ms, sys: 2.89 ms, total: 131 ms\n",
      "Wall time: 133 ms\n"
     ]
    }
   ],
   "source": [
    "%%time\n",
    "w2v_model.build_vocab(sentences, progress_per=10000)\n",
    "## Word2Vec requires us to build the vocabulary table (simply digesting all the words and filtering out the unique words, and doing some basic counts on them)"
   ]
  },
  {
   "cell_type": "code",
   "execution_count": 43,
   "metadata": {
    "colab": {
     "base_uri": "https://localhost:8080/"
    },
    "executionInfo": {
     "elapsed": 19806,
     "status": "ok",
     "timestamp": 1711555688395,
     "user": {
      "displayName": "Gabriele Lancione",
      "userId": "02497574145285887205"
     },
     "user_tz": -60
    },
    "id": "-RsOficHqtxk",
    "outputId": "ba0e68f5-0afd-4f7b-fe53-a57009bd1d7a"
   },
   "outputs": [
    {
     "name": "stderr",
     "output_type": "stream",
     "text": [
      "INFO - 16:11:25: Word2Vec lifecycle event {'msg': 'training model with 7 workers on 1066 vocabulary and 300 features, using sg=0 hs=0 sample=6e-05 negative=20 window=2 shrink_windows=True', 'datetime': '2024-03-28T16:11:25.926590', 'gensim': '4.3.2', 'python': '3.9.6 (default, Feb  3 2024, 15:58:27) \\n[Clang 15.0.0 (clang-1500.3.9.4)]', 'platform': 'macOS-14.3.1-arm64-arm-64bit', 'event': 'train'}\n",
      "INFO - 16:11:26: EPOCH 0: training on 195066 raw words (42406 effective words) took 0.2s, 184597 effective words/s\n",
      "INFO - 16:11:26: EPOCH 1: training on 195066 raw words (42373 effective words) took 0.1s, 312278 effective words/s\n",
      "INFO - 16:11:26: EPOCH 2: training on 195066 raw words (42785 effective words) took 0.1s, 319915 effective words/s\n",
      "INFO - 16:11:26: EPOCH 3: training on 195066 raw words (42507 effective words) took 0.1s, 316399 effective words/s\n",
      "INFO - 16:11:26: EPOCH 4: training on 195066 raw words (42373 effective words) took 0.2s, 191831 effective words/s\n",
      "INFO - 16:11:26: EPOCH 5: training on 195066 raw words (42455 effective words) took 0.1s, 318883 effective words/s\n",
      "INFO - 16:11:27: EPOCH 6: training on 195066 raw words (42651 effective words) took 0.1s, 344620 effective words/s\n",
      "INFO - 16:11:27: EPOCH 7: training on 195066 raw words (42341 effective words) took 0.1s, 341353 effective words/s\n",
      "INFO - 16:11:27: EPOCH 8: training on 195066 raw words (42553 effective words) took 0.1s, 330078 effective words/s\n",
      "INFO - 16:11:27: EPOCH 9: training on 195066 raw words (42551 effective words) took 0.2s, 193041 effective words/s\n",
      "INFO - 16:11:27: EPOCH 10: training on 195066 raw words (42461 effective words) took 0.1s, 312124 effective words/s\n",
      "INFO - 16:11:27: EPOCH 11: training on 195066 raw words (42543 effective words) took 0.1s, 343967 effective words/s\n",
      "INFO - 16:11:28: EPOCH 12: training on 195066 raw words (42407 effective words) took 0.1s, 317616 effective words/s\n",
      "INFO - 16:11:28: EPOCH 13: training on 195066 raw words (42477 effective words) took 0.1s, 317119 effective words/s\n",
      "INFO - 16:11:28: EPOCH 14: training on 195066 raw words (42639 effective words) took 0.2s, 192384 effective words/s\n",
      "INFO - 16:11:28: EPOCH 15: training on 195066 raw words (42619 effective words) took 0.1s, 313954 effective words/s\n",
      "INFO - 16:11:28: EPOCH 16: training on 195066 raw words (42726 effective words) took 0.1s, 315573 effective words/s\n",
      "INFO - 16:11:28: EPOCH 17: training on 195066 raw words (42517 effective words) took 0.1s, 316256 effective words/s\n",
      "INFO - 16:11:28: EPOCH 18: training on 195066 raw words (42709 effective words) took 0.1s, 316999 effective words/s\n",
      "INFO - 16:11:29: EPOCH 19: training on 195066 raw words (42767 effective words) took 0.2s, 193790 effective words/s\n",
      "INFO - 16:11:29: EPOCH 20: training on 195066 raw words (42710 effective words) took 0.1s, 311629 effective words/s\n",
      "INFO - 16:11:29: EPOCH 21: training on 195066 raw words (42462 effective words) took 0.1s, 314387 effective words/s\n",
      "INFO - 16:11:29: EPOCH 22: training on 195066 raw words (42669 effective words) took 0.1s, 316068 effective words/s\n",
      "INFO - 16:11:29: EPOCH 23: training on 195066 raw words (42489 effective words) took 0.1s, 318376 effective words/s\n",
      "INFO - 16:11:30: EPOCH 24: training on 195066 raw words (42506 effective words) took 0.2s, 194524 effective words/s\n",
      "INFO - 16:11:30: EPOCH 25: training on 195066 raw words (42511 effective words) took 0.1s, 320101 effective words/s\n",
      "INFO - 16:11:30: EPOCH 26: training on 195066 raw words (42536 effective words) took 0.1s, 324297 effective words/s\n",
      "INFO - 16:11:30: EPOCH 27: training on 195066 raw words (42504 effective words) took 0.1s, 316120 effective words/s\n",
      "INFO - 16:11:30: EPOCH 28: training on 195066 raw words (42724 effective words) took 0.1s, 318457 effective words/s\n",
      "INFO - 16:11:30: EPOCH 29: training on 195066 raw words (42731 effective words) took 0.2s, 191528 effective words/s\n",
      "INFO - 16:11:30: Word2Vec lifecycle event {'msg': 'training on 5851980 raw words (1276702 effective words) took 4.9s, 261734 effective words/s', 'datetime': '2024-03-28T16:11:30.805057', 'gensim': '4.3.2', 'python': '3.9.6 (default, Feb  3 2024, 15:58:27) \\n[Clang 15.0.0 (clang-1500.3.9.4)]', 'platform': 'macOS-14.3.1-arm64-arm-64bit', 'event': 'train'}\n"
     ]
    },
    {
     "name": "stdout",
     "output_type": "stream",
     "text": [
      "CPU times: user 9.46 s, sys: 44.6 ms, total: 9.51 s\n",
      "Wall time: 4.88 s\n"
     ]
    },
    {
     "data": {
      "text/plain": [
       "(1276702, 5851980)"
      ]
     },
     "execution_count": 43,
     "metadata": {},
     "output_type": "execute_result"
    }
   ],
   "source": [
    "%%time\n",
    "w2v_model.train(sentences, total_examples=w2v_model.corpus_count, epochs=30, report_delay=1)"
   ]
  },
  {
   "cell_type": "code",
   "execution_count": 44,
   "metadata": {
    "colab": {
     "base_uri": "https://localhost:8080/"
    },
    "executionInfo": {
     "elapsed": 23,
     "status": "ok",
     "timestamp": 1711555688395,
     "user": {
      "displayName": "Gabriele Lancione",
      "userId": "02497574145285887205"
     },
     "user_tz": -60
    },
    "id": "2BnaHbLJqwcE",
    "outputId": "93e8cc9a-9e93-4896-d9d3-5b4f62bda4b4"
   },
   "outputs": [
    {
     "name": "stderr",
     "output_type": "stream",
     "text": [
      "/var/folders/dv/t9jbtc_n21l7bcwt03cw661h0000gn/T/ipykernel_925/514372312.py:1: DeprecationWarning: Call to deprecated `init_sims` (Gensim 4.0.0 implemented internal optimizations that make calls to init_sims() unnecessary. init_sims() is now obsoleted and will be completely removed in future versions. See https://github.com/RaRe-Technologies/gensim/wiki/Migrating-from-Gensim-3.x-to-4).\n",
      "  w2v_model.init_sims(replace=True)\n",
      "WARNING - 16:11:30: destructive init_sims(replace=True) deprecated & no longer required for space-efficiency\n"
     ]
    }
   ],
   "source": [
    "w2v_model.init_sims(replace=True)"
   ]
  },
  {
   "cell_type": "markdown",
   "metadata": {
    "id": "fFXhR2QauPj3"
   },
   "source": [
    "## Model Exploration"
   ]
  },
  {
   "cell_type": "code",
   "execution_count": 45,
   "metadata": {
    "colab": {
     "base_uri": "https://localhost:8080/"
    },
    "executionInfo": {
     "elapsed": 22,
     "status": "ok",
     "timestamp": 1711555688396,
     "user": {
      "displayName": "Gabriele Lancione",
      "userId": "02497574145285887205"
     },
     "user_tz": -60
    },
    "id": "Y8cqOn3lq0fU",
    "outputId": "7953d4f6-2e2b-4e6c-8f1e-57a813c42db8"
   },
   "outputs": [
    {
     "data": {
      "text/plain": [
       "[('congratulation', 0.9892475008964539),\n",
       " ('realise', 0.9874247312545776),\n",
       " ('hang', 0.9872455596923828),\n",
       " ('yell', 0.9871485233306885),\n",
       " ('complicated', 0.9870477914810181),\n",
       " ('have_sex', 0.9868921637535095),\n",
       " ('explain', 0.9866656064987183),\n",
       " ('pheebs', 0.9865983724594116),\n",
       " ('lucky', 0.9865489602088928),\n",
       " ('bum', 0.9862827062606812)]"
      ]
     },
     "execution_count": 45,
     "metadata": {},
     "output_type": "execute_result"
    }
   ],
   "source": [
    "w2v_model.wv.most_similar(positive=[\"joey\"])"
   ]
  },
  {
   "cell_type": "code",
   "execution_count": 46,
   "metadata": {
    "colab": {
     "base_uri": "https://localhost:8080/"
    },
    "executionInfo": {
     "elapsed": 20,
     "status": "ok",
     "timestamp": 1711555688396,
     "user": {
      "displayName": "Gabriele Lancione",
      "userId": "02497574145285887205"
     },
     "user_tz": -60
    },
    "id": "rGsa2SBMq2a0",
    "outputId": "1a3da902-f368-4e45-afda-108f949d0e71"
   },
   "outputs": [
    {
     "data": {
      "text/plain": [
       "[('business', 0.9951638579368591),\n",
       " ('movie', 0.9946733713150024),\n",
       " ('yes_yes', 0.9944772720336914),\n",
       " ('choice', 0.9944541454315186),\n",
       " ('certain', 0.9942935109138489),\n",
       " ('princess', 0.9941666126251221),\n",
       " ('class', 0.9939086437225342),\n",
       " ('roger', 0.9938875436782837),\n",
       " ('buddy', 0.9937801361083984),\n",
       " ('step', 0.9937230944633484)]"
      ]
     },
     "execution_count": 46,
     "metadata": {},
     "output_type": "execute_result"
    }
   ],
   "source": [
    "w2v_model.wv.most_similar(positive=[\"joey_tribbiani\"])"
   ]
  },
  {
   "cell_type": "code",
   "execution_count": 47,
   "metadata": {
    "colab": {
     "base_uri": "https://localhost:8080/"
    },
    "executionInfo": {
     "elapsed": 18,
     "status": "ok",
     "timestamp": 1711555688396,
     "user": {
      "displayName": "Gabriele Lancione",
      "userId": "02497574145285887205"
     },
     "user_tz": -60
    },
    "id": "85xEyqXsq5zl",
    "outputId": "12f05a2d-0ec2-4a1b-fe4f-7c06ee1bfae6"
   },
   "outputs": [
    {
     "data": {
      "text/plain": [
       "[('name', 0.9939336180686951),\n",
       " ('uhh', 0.9933708906173706),\n",
       " ('ridiculous', 0.992933452129364),\n",
       " ('sister', 0.9926555752754211),\n",
       " ('girl', 0.9926131367683411),\n",
       " ('nanny', 0.9922562837600708),\n",
       " ('judge', 0.9921589493751526),\n",
       " ('lie', 0.9921126961708069),\n",
       " ('goodbye', 0.9920440912246704),\n",
       " ('sense', 0.9919624924659729)]"
      ]
     },
     "execution_count": 47,
     "metadata": {},
     "output_type": "execute_result"
    }
   ],
   "source": [
    "w2v_model.wv.most_similar(positive=[\"chandler\"])"
   ]
  },
  {
   "cell_type": "code",
   "execution_count": 48,
   "metadata": {
    "colab": {
     "base_uri": "https://localhost:8080/"
    },
    "executionInfo": {
     "elapsed": 17,
     "status": "ok",
     "timestamp": 1711555688396,
     "user": {
      "displayName": "Gabriele Lancione",
      "userId": "02497574145285887205"
     },
     "user_tz": -60
    },
    "id": "xSiMnRGxq-XU",
    "outputId": "dbb83820-c78b-4053-9363-7e009f63c78c"
   },
   "outputs": [
    {
     "data": {
      "text/plain": [
       "0.96329856"
      ]
     },
     "execution_count": 48,
     "metadata": {},
     "output_type": "execute_result"
    }
   ],
   "source": [
    "w2v_model.wv.similarity('joey', 'food')"
   ]
  },
  {
   "cell_type": "code",
   "execution_count": 49,
   "metadata": {
    "colab": {
     "base_uri": "https://localhost:8080/"
    },
    "executionInfo": {
     "elapsed": 15,
     "status": "ok",
     "timestamp": 1711555688396,
     "user": {
      "displayName": "Gabriele Lancione",
      "userId": "02497574145285887205"
     },
     "user_tz": -60
    },
    "id": "oTZaHVRmrAQF",
    "outputId": "a973c6b5-a7a6-4f6e-f0f2-e4bcedd1d693"
   },
   "outputs": [
    {
     "data": {
      "text/plain": [
       "0.9008877"
      ]
     },
     "execution_count": 49,
     "metadata": {},
     "output_type": "execute_result"
    }
   ],
   "source": [
    "w2v_model.wv.similarity('ross', 'mark')"
   ]
  },
  {
   "cell_type": "code",
   "execution_count": 50,
   "metadata": {
    "colab": {
     "base_uri": "https://localhost:8080/",
     "height": 35
    },
    "executionInfo": {
     "elapsed": 14,
     "status": "ok",
     "timestamp": 1711555688396,
     "user": {
      "displayName": "Gabriele Lancione",
      "userId": "02497574145285887205"
     },
     "user_tz": -60
    },
    "id": "bSCFCN4TrGm0",
    "outputId": "425b48d0-4093-4d0e-c093-53e42ca85c3b"
   },
   "outputs": [
    {
     "data": {
      "text/plain": [
       "'gunther'"
      ]
     },
     "execution_count": 50,
     "metadata": {},
     "output_type": "execute_result"
    }
   ],
   "source": [
    "w2v_model.wv.doesnt_match(['ross', 'rachel', 'gunther'])"
   ]
  },
  {
   "cell_type": "code",
   "execution_count": 51,
   "metadata": {
    "colab": {
     "base_uri": "https://localhost:8080/",
     "height": 35
    },
    "executionInfo": {
     "elapsed": 13,
     "status": "ok",
     "timestamp": 1711555688396,
     "user": {
      "displayName": "Gabriele Lancione",
      "userId": "02497574145285887205"
     },
     "user_tz": -60
    },
    "id": "ecbJPq44rJWF",
    "outputId": "16d73124-7594-4f2f-9d57-702c4b4a9581"
   },
   "outputs": [
    {
     "data": {
      "text/plain": [
       "'joey'"
      ]
     },
     "execution_count": 51,
     "metadata": {},
     "output_type": "execute_result"
    }
   ],
   "source": [
    "w2v_model.wv.doesnt_match([\"rachel\", \"monica\", \"joey\"])"
   ]
  },
  {
   "cell_type": "code",
   "execution_count": 52,
   "metadata": {
    "colab": {
     "base_uri": "https://localhost:8080/",
     "height": 35
    },
    "executionInfo": {
     "elapsed": 13,
     "status": "ok",
     "timestamp": 1711555688396,
     "user": {
      "displayName": "Gabriele Lancione",
      "userId": "02497574145285887205"
     },
     "user_tz": -60
    },
    "id": "eyijceNdrNu1",
    "outputId": "e0f1c674-c126-4c4d-e252-5bb50b8b9ccc"
   },
   "outputs": [
    {
     "data": {
      "text/plain": [
       "'janice'"
      ]
     },
     "execution_count": 52,
     "metadata": {},
     "output_type": "execute_result"
    }
   ],
   "source": [
    "w2v_model.wv.doesnt_match(['ross', 'monica', 'janice'])"
   ]
  },
  {
   "cell_type": "code",
   "execution_count": 53,
   "metadata": {
    "colab": {
     "base_uri": "https://localhost:8080/"
    },
    "executionInfo": {
     "elapsed": 12,
     "status": "ok",
     "timestamp": 1711555688396,
     "user": {
      "displayName": "Gabriele Lancione",
      "userId": "02497574145285887205"
     },
     "user_tz": -60
    },
    "id": "7xR82hw_rQZF",
    "outputId": "4a9573ae-f441-4b2c-82d6-44227b47c955"
   },
   "outputs": [
    {
     "data": {
      "text/plain": [
       "[('time', 0.9875221252441406),\n",
       " ('lot', 0.9872128963470459),\n",
       " ('thing', 0.9871855974197388)]"
      ]
     },
     "execution_count": 53,
     "metadata": {},
     "output_type": "execute_result"
    }
   ],
   "source": [
    "w2v_model.wv.most_similar(positive=[\"woman\", \"chandler\"], negative=[\"monica\"], topn=3)"
   ]
  },
  {
   "cell_type": "code",
   "execution_count": 54,
   "metadata": {
    "colab": {
     "base_uri": "https://localhost:8080/"
    },
    "executionInfo": {
     "elapsed": 11,
     "status": "ok",
     "timestamp": 1711555688396,
     "user": {
      "displayName": "Gabriele Lancione",
      "userId": "02497574145285887205"
     },
     "user_tz": -60
    },
    "id": "e_oQw9bdrShV",
    "outputId": "85cfa89a-f23e-4c52-b598-82e7d7cc6f4e"
   },
   "outputs": [
    {
     "data": {
      "text/plain": [
       "[('uncomfortable', 0.9802957773208618),\n",
       " ('believe', 0.9800920486450195),\n",
       " ('go', 0.9795851707458496)]"
      ]
     },
     "execution_count": 54,
     "metadata": {},
     "output_type": "execute_result"
    }
   ],
   "source": [
    "w2v_model.wv.most_similar(positive=[\"woman\", \"joey\"], negative=[\"man\"], topn=3)"
   ]
  },
  {
   "cell_type": "code",
   "execution_count": 55,
   "metadata": {
    "executionInfo": {
     "elapsed": 11,
     "status": "ok",
     "timestamp": 1711555688397,
     "user": {
      "displayName": "Gabriele Lancione",
      "userId": "02497574145285887205"
     },
     "user_tz": -60
    },
    "id": "jOX1CmP-rUTl"
   },
   "outputs": [],
   "source": [
    "def tsnescatterplot(model, word, list_names):\n",
    "    \"\"\" Plot in seaborn the results from the t-SNE dimensionality reduction algorithm of the vectors of a query word,\n",
    "    its list of most similar words, and a list of words.\n",
    "    \"\"\"\n",
    "    arrays = np.empty((0, 300), dtype='f')\n",
    "    word_labels = [word]\n",
    "    color_list  = ['red']\n",
    "\n",
    "    # adds the vector of the query word\n",
    "    arrays = np.append(arrays, model.wv.__getitem__([word]), axis=0)\n",
    "\n",
    "    # gets list of most similar words\n",
    "    close_words = model.wv.most_similar([word])\n",
    "\n",
    "    # adds the vector for each of the closest words to the array\n",
    "    for wrd_score in close_words:\n",
    "        wrd_vector = model.wv.__getitem__([wrd_score[0]])\n",
    "        word_labels.append(wrd_score[0])\n",
    "        color_list.append('blue')\n",
    "        arrays = np.append(arrays, wrd_vector, axis=0)\n",
    "\n",
    "    # adds the vector for each of the words from list_names to the array\n",
    "    for wrd in list_names:\n",
    "        wrd_vector = model.wv.__getitem__([wrd])\n",
    "        word_labels.append(wrd)\n",
    "        color_list.append('green')\n",
    "        arrays = np.append(arrays, wrd_vector, axis=0)\n",
    "\n",
    "    # Reduces the dimensionality from 300 to 19 dimensions with PCA\n",
    "    reduc = PCA(n_components=19).fit_transform(arrays)\n",
    "\n",
    "    # Finds t-SNE coordinates for 2 dimensions\n",
    "    np.set_printoptions(suppress=True)\n",
    "\n",
    "    Y = TSNE(n_components=2, random_state=0, perplexity=15).fit_transform(reduc)\n",
    "\n",
    "    # Sets everything up to plot\n",
    "    df = pd.DataFrame({'x': [x for x in Y[:, 0]],\n",
    "                       'y': [y for y in Y[:, 1]],\n",
    "                       'words': word_labels,\n",
    "                       'color': color_list})\n",
    "\n",
    "    fig, _ = plt.subplots()\n",
    "    fig.set_size_inches(9, 9)\n",
    "\n",
    "    # Basic plot\n",
    "    p1 = sns.regplot(data=df,\n",
    "                     x=\"x\",\n",
    "                     y=\"y\",\n",
    "                     fit_reg=False,\n",
    "                     marker=\"o\",\n",
    "                     scatter_kws={'s': 40,\n",
    "                                  'facecolors': df['color']\n",
    "                                 }\n",
    "                    )\n",
    "\n",
    "    # Adds annotations one by one with a loop\n",
    "    for line in range(0, df.shape[0]):\n",
    "         p1.text(df[\"x\"][line],\n",
    "                 df['y'][line],\n",
    "                 '  ' + df[\"words\"][line].title(),\n",
    "                 horizontalalignment='left',\n",
    "                 verticalalignment='bottom', size='medium',\n",
    "                 color=df['color'][line],\n",
    "                 weight='normal'\n",
    "                ).set_size(15)\n",
    "\n",
    "    ext = 0\n",
    "    plt.xlim(Y[:, 0].min()-ext, Y[:, 0].max()+ext)\n",
    "    plt.ylim(Y[:, 1].min()-ext, Y[:, 1].max()+ext)\n",
    "\n",
    "    plt.title('t-SNE visualization for {}'.format(word.title()))"
   ]
  },
  {
   "cell_type": "code",
   "execution_count": 56,
   "metadata": {
    "colab": {
     "base_uri": "https://localhost:8080/",
     "height": 795
    },
    "executionInfo": {
     "elapsed": 1924,
     "status": "ok",
     "timestamp": 1711555733921,
     "user": {
      "displayName": "Gabriele Lancione",
      "userId": "02497574145285887205"
     },
     "user_tz": -60
    },
    "id": "ydDq1lzyreOV",
    "outputId": "df669ba9-e784-4c3f-cff6-57a1133dc05e"
   },
   "outputs": [
    {
     "data": {
      "image/png": "[encoded data removed]",
      "text/plain": [
       "<Figure size 900x900 with 1 Axes>"
      ]
     },
     "metadata": {},
     "output_type": "display_data"
    }
   ],
   "source": [
    "tsnescatterplot(w2v_model, 'pheebs', ['actor', 'joke', 'famous', 'man', 'woman', 'bar', 'gunther', 'beer'])"
   ]
  },
  {
   "cell_type": "code",
   "execution_count": 57,
   "metadata": {
    "colab": {
     "base_uri": "https://localhost:8080/",
     "height": 795
    },
    "executionInfo": {
     "elapsed": 916,
     "status": "ok",
     "timestamp": 1711555690038,
     "user": {
      "displayName": "Gabriele Lancione",
      "userId": "02497574145285887205"
     },
     "user_tz": -60
    },
    "id": "b43KcSTirfWV",
    "outputId": "5e72e321-c251-4f2b-e960-870d2738bf42"
   },
   "outputs": [
    {
     "data": {
      "image/png": "[encoded data removed]",
      "text/plain": [
       "<Figure size 900x900 with 1 Axes>"
      ]
     },
     "metadata": {},
     "output_type": "display_data"
    }
   ],
   "source": [
    "tsnescatterplot(w2v_model, 'monica', [i[0] for i in w2v_model.wv.most_similar(negative=[\"monica\"])])"
   ]
  },
  {
   "cell_type": "code",
   "execution_count": 58,
   "metadata": {
    "colab": {
     "base_uri": "https://localhost:8080/",
     "height": 795
    },
    "executionInfo": {
     "elapsed": 851,
     "status": "ok",
     "timestamp": 1711555690885,
     "user": {
      "displayName": "Gabriele Lancione",
      "userId": "02497574145285887205"
     },
     "user_tz": -60
    },
    "id": "xYNbWw1KsB3V",
    "outputId": "d13c281c-01f8-4bda-d91f-66f7e95f128e"
   },
   "outputs": [
    {
     "data": {
      "image/png": "[encoded data removed]",
      "text/plain": [
       "<Figure size 900x900 with 1 Axes>"
      ]
     },
     "metadata": {},
     "output_type": "display_data"
    }
   ],
   "source": [
    "tsnescatterplot(w2v_model, \"ross\", [t[0] for t in w2v_model.wv.most_similar(positive=[\"ross\"], topn=20)][10:])"
   ]
  }
 ],
 "metadata": {
  "colab": {
   "authorship_tag": "ABX9TyMIsCcXnaSWhpPj4j253AuC",
   "provenance": [
    {
     "file_id": "1qQ09XYQCMNKS4yXVYXwegOPevKzfZHIe",
     "timestamp": 1711552558049
    }
   ]
  },
  "kernelspec": {
   "display_name": "Python 3 (ipykernel)",
   "language": "python",
   "name": "python3"
  },
  "language_info": {
   "codemirror_mode": {
    "name": "ipython",
    "version": 3
   },
   "file_extension": ".py",
   "mimetype": "text/x-python",
   "name": "python",
   "nbconvert_exporter": "python",
   "pygments_lexer": "ipython3",
   "version": "3.9.6"
  }
 },
 "nbformat": 4,
 "nbformat_minor": 4
}
