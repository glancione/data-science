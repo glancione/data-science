{
 "cells": [
  {
   "cell_type": "markdown",
   "id": "32edf592",
   "metadata": {},
   "source": [
    "# Exercises - Carbon Footprint Regression"
   ]
  },
  {
   "cell_type": "markdown",
   "id": "ac744d34",
   "metadata": {},
   "source": [
    "## Import Libraries"
   ]
  },
  {
   "cell_type": "code",
   "execution_count": null,
   "id": "933a7c6f",
   "metadata": {},
   "outputs": [],
   "source": [
    "import pandas as pd\n",
    "import os\n",
    "import time\n",
    "import numpy as np\n",
    "import matplotlib.pyplot as plt\n",
    "import seaborn as sns\n",
    "from sklearn.model_selection import train_test_split\n",
    "from sklearn.preprocessing import LabelEncoder\n",
    "from sklearn.preprocessing import StandardScaler\n",
    "from sklearn.metrics import r2_score, mean_absolute_error\n",
    "from sklearn.linear_model import LinearRegression\n",
    "from sklearn.tree import DecisionTreeRegressor\n",
    "from sklearn.svm import SVR\n",
    "from sklearn.ensemble import RandomForestRegressor\n",
    "from xgboost import XGBRegressor\n",
    "import tensorflow as tf\n",
    "from tensorflow import keras\n",
    "from tensorflow.keras import Sequential\n",
    "from tensorflow.keras.layers import Dense"
   ]
  },
  {
   "cell_type": "markdown",
   "id": "fa1a1925",
   "metadata": {},
   "source": [
    "## Import Data"
   ]
  },
  {
   "cell_type": "code",
   "execution_count": null,
   "id": "13a1ef01",
   "metadata": {},
   "outputs": [],
   "source": [
    "df = pd.read_csv(\"./exercises-carbon-footprint-regression-dataset.csv\")\n",
    "pd.set_option('display.max_columns', None)\n",
    "df.head()"
   ]
  },
  {
   "cell_type": "code",
   "execution_count": null,
   "id": "8eaebdab",
   "metadata": {},
   "outputs": [],
   "source": [
    "df.info()"
   ]
  },
  {
   "cell_type": "code",
   "execution_count": null,
   "id": "75f8926c",
   "metadata": {},
   "outputs": [],
   "source": [
    "df.describe()"
   ]
  },
  {
   "cell_type": "code",
   "execution_count": null,
   "id": "71cb064a",
   "metadata": {},
   "outputs": [],
   "source": [
    "df.isna().sum()"
   ]
  },
  {
   "cell_type": "code",
   "execution_count": null,
   "id": "08334808",
   "metadata": {},
   "outputs": [],
   "source": [
    "df.dtypes"
   ]
  },
  {
   "cell_type": "code",
   "execution_count": null,
   "id": "dfc2a73c",
   "metadata": {},
   "outputs": [],
   "source": [
    "df.nunique()"
   ]
  },
  {
   "cell_type": "code",
   "execution_count": null,
   "id": "c35b5f7a",
   "metadata": {},
   "outputs": [],
   "source": [
    "categorical_columns = df.select_dtypes(include=['object']).columns\n",
    "label_encoder = LabelEncoder()\n",
    "for column in categorical_columns:\n",
    "    df[column] = label_encoder.fit_transform(df[column])"
   ]
  },
  {
   "cell_type": "code",
   "execution_count": null,
   "id": "c22a8075",
   "metadata": {},
   "outputs": [],
   "source": [
    "correlations = df.corr(method='pearson')\n",
    "plt.figure(figsize=(16, 12))\n",
    "sns.heatmap(correlations, cmap=\"coolwarm\", annot=True)\n",
    "plt.show()"
   ]
  },
  {
   "cell_type": "code",
   "execution_count": null,
   "id": "c6bee803",
   "metadata": {},
   "outputs": [],
   "source": [
    "X = df.iloc[:, :-1].values\n",
    "y = df.iloc[:,-1].values\n",
    "X_train, X_test, y_train, y_test = train_test_split(X,y, test_size=0.2, random_state=1)"
   ]
  },
  {
   "cell_type": "code",
   "execution_count": null,
   "id": "4502fda5",
   "metadata": {},
   "outputs": [],
   "source": [
    "sc = StandardScaler()\n",
    "X_train = sc.fit_transform(X_train)\n",
    "X_test = sc.transform(X_test)"
   ]
  },
  {
   "cell_type": "markdown",
   "id": "96d19f87",
   "metadata": {},
   "source": [
    "## Models Training"
   ]
  },
  {
   "cell_type": "code",
   "execution_count": null,
   "id": "23afc47c",
   "metadata": {},
   "outputs": [],
   "source": [
    "%%time\n",
    "linearregression = LinearRegression()\n",
    "decisiontreeregression = DecisionTreeRegressor()\n",
    "supportvectorregression = SVR(kernel='rbf')\n",
    "randomforestregression = RandomForestRegressor()\n",
    "xgbregression = XGBRegressor()\n",
    "\n",
    "linearregression.fit(X_train, y_train)\n",
    "decisiontreeregression.fit(X_train, y_train)\n",
    "supportvectorregression.fit(X_train, y_train)\n",
    "randomforestregression.fit(X_train, y_train)\n",
    "xgbregression.fit(X_train, y_train)"
   ]
  },
  {
   "cell_type": "markdown",
   "id": "39e46d46",
   "metadata": {},
   "source": [
    "## Models Predict"
   ]
  },
  {
   "cell_type": "code",
   "execution_count": null,
   "id": "048c67ab",
   "metadata": {},
   "outputs": [],
   "source": [
    "%%time\n",
    "y_lin = linearregression.predict(X_test)\n",
    "y_dectree = decisiontreeregression.predict(X_test)\n",
    "y_supvec = supportvectorregression.predict(X_test)\n",
    "y_randfor = randomforestregression.predict(X_test)\n",
    "y_xgb = xgbregression.predict(X_test)"
   ]
  },
  {
   "cell_type": "markdown",
   "id": "fe1dfba2",
   "metadata": {},
   "source": [
    "## Scores"
   ]
  },
  {
   "cell_type": "code",
   "execution_count": null,
   "id": "aa0605f2",
   "metadata": {},
   "outputs": [],
   "source": [
    "data1 = {\"Regression Algorithms\": [\"Linear Regression\", \"Decision Tree Regression\", \n",
    "                                       \"Support Vector Regression\", \"Random Forest Classifier\",\n",
    "                                       \"XGB Regression\"],\n",
    "      \"Score\": [r2_score(y_test,y_lin), r2_score(y_test, y_dectree), \n",
    "                r2_score(y_test, y_supvec), r2_score(y_test,y_randfor),\n",
    "                r2_score(y_test, y_xgb) ]}\n",
    "\n",
    "score = pd.DataFrame(data1)\n",
    "print('r_squared metrics')\n",
    "print(score)"
   ]
  },
  {
   "cell_type": "code",
   "execution_count": null,
   "id": "12560211",
   "metadata": {},
   "outputs": [],
   "source": [
    "data2 = {\"Regression Algorithms\": [\"Linear Regression\", \"Decision Tree Regression\", \n",
    "                                       \"Support Vector Regression\", \"Random Forest Classifier\",\n",
    "                                       \"XGB Regression\"],\n",
    "      \"Score\": [mean_absolute_error(y_test,y_lin), mean_absolute_error(y_test, y_dectree), \n",
    "                mean_absolute_error(y_test, y_supvec), mean_absolute_error(y_test,y_randfor),\n",
    "                mean_absolute_error(y_test, y_xgb) ]}\n",
    "\n",
    "\n",
    "score2 = pd.DataFrame(data2)\n",
    "print('mean absolute error')\n",
    "print(score2)"
   ]
  },
  {
   "cell_type": "markdown",
   "id": "31590a16",
   "metadata": {},
   "source": [
    "## Neural Network"
   ]
  },
  {
   "cell_type": "code",
   "execution_count": null,
   "id": "c4eb98b9",
   "metadata": {},
   "outputs": [],
   "source": [
    "model = Sequential()\n",
    "\n",
    "model.add(Dense(256, activation='relu',input_dim=19))\n",
    "model.add(Dense(512, activation='relu'))\n",
    "model.add(Dense(512, activation='relu'))\n",
    "model.add(Dense(512, activation='relu'))\n",
    "model.add(Dense(1, activation='linear'))"
   ]
  },
  {
   "cell_type": "code",
   "execution_count": null,
   "id": "88578e48",
   "metadata": {},
   "outputs": [],
   "source": [
    "model.summary()"
   ]
  },
  {
   "cell_type": "code",
   "execution_count": null,
   "id": "f1f73245",
   "metadata": {},
   "outputs": [],
   "source": [
    "model.compile(optimizer = 'adam', loss = 'mean_absolute_error', metrics = ['mean_absolute_error'])"
   ]
  },
  {
   "cell_type": "markdown",
   "id": "ddf05f18",
   "metadata": {},
   "source": [
    "## Model Train"
   ]
  },
  {
   "cell_type": "code",
   "execution_count": null,
   "id": "510d2ae2",
   "metadata": {},
   "outputs": [],
   "source": [
    "%%time \n",
    "model.fit(X_train, y_train, epochs=50)"
   ]
  },
  {
   "cell_type": "markdown",
   "id": "41c27f8b",
   "metadata": {},
   "source": [
    "## Model Predict"
   ]
  },
  {
   "cell_type": "code",
   "execution_count": null,
   "id": "413d4237",
   "metadata": {},
   "outputs": [],
   "source": [
    "y_ann = model.predict(X_test)"
   ]
  },
  {
   "cell_type": "code",
   "execution_count": null,
   "id": "867e4d0a",
   "metadata": {},
   "outputs": [],
   "source": [
    "mean_absolute_error(y_test, y_ann)"
   ]
  }
 ],
 "metadata": {
  "kernelspec": {
   "display_name": "Python 3 (ipykernel)",
   "language": "python",
   "name": "python3"
  },
  "language_info": {
   "codemirror_mode": {
    "name": "ipython",
    "version": 3
   },
   "file_extension": ".py",
   "mimetype": "text/x-python",
   "name": "python",
   "nbconvert_exporter": "python",
   "pygments_lexer": "ipython3",
   "version": "3.9.6"
  }
 },
 "nbformat": 4,
 "nbformat_minor": 5
}
