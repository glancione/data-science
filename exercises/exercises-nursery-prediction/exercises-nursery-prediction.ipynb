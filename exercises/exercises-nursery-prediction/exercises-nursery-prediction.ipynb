{
 "cells": [
  {
   "cell_type": "markdown",
   "id": "be0e11a5",
   "metadata": {},
   "source": [
    "# Exercise - Nursery Prediction"
   ]
  },
  {
   "cell_type": "markdown",
   "id": "39795157",
   "metadata": {},
   "source": [
    "## Import Libraries"
   ]
  },
  {
   "cell_type": "code",
   "execution_count": null,
   "id": "ffb6bf1e",
   "metadata": {},
   "outputs": [],
   "source": [
    "import pandas as pd\n",
    "import numpy as np\n",
    "import matplotlib.pyplot as plt\n",
    "import seaborn as sns\n",
    "import plotly.express as px\n",
    "from scipy import stats\n",
    "import statsmodels.api as sm\n",
    "import pingouin as pg\n",
    "import ppscore as pps\n",
    "from sklearn.model_selection import train_test_split\n",
    "from sklearn.preprocessing import OneHotEncoder, LabelEncoder\n",
    "from sklearn.compose import ColumnTransformer\n",
    "from sklearn.linear_model import LogisticRegression\n",
    "from sklearn.neighbors import KNeighborsClassifier\n",
    "from sklearn.naive_bayes import GaussianNB\n",
    "from sklearn.ensemble import RandomForestClassifier, ExtraTreesClassifier\n",
    "from xgboost import XGBClassifier\n",
    "from catboost import CatBoostClassifier\n",
    "from sklearn.metrics import balanced_accuracy_score\n",
    "from sklearn.metrics import confusion_matrix, classification_report\n",
    "from tqdm.auto import tqdm\n",
    "from collections import Counter\n",
    "import warnings\n",
    "warnings.filterwarnings('ignore')"
   ]
  },
  {
   "cell_type": "markdown",
   "id": "d65059cc",
   "metadata": {},
   "source": [
    "## Import Data"
   ]
  },
  {
   "cell_type": "code",
   "execution_count": null,
   "id": "ffa1a869",
   "metadata": {},
   "outputs": [],
   "source": [
    "data = pd.read_csv(\"./nursery.csv\") # get it at https://www.kaggle.com/datasets/nimapourmoradi/nursery/data\n",
    "data.head()"
   ]
  },
  {
   "cell_type": "code",
   "execution_count": null,
   "id": "1c3e5f6a",
   "metadata": {},
   "outputs": [],
   "source": [
    "data.describe()"
   ]
  },
  {
   "cell_type": "code",
   "execution_count": null,
   "id": "cf6c682c",
   "metadata": {},
   "outputs": [],
   "source": [
    "data.columns = data.columns.str.strip()\n",
    "data.columns"
   ]
  },
  {
   "cell_type": "code",
   "execution_count": null,
   "id": "2b94dd54",
   "metadata": {},
   "outputs": [],
   "source": [
    "plt.style.use('ggplot')\n",
    "\n",
    "fig,axs = plt.subplots(nrows = 4, ncols = 2, figsize = (18, 20))\n",
    "axs = axs.flat\n",
    "\n",
    "for i,col in enumerate(data.columns[:-1]):\n",
    "    axs[i].pie(x = list(Counter(data[col]).values()), \n",
    "               labels = list(Counter(data[col]).keys()),\n",
    "               colors = [color for color in sns.color_palette('bright', len(data.columns))],\n",
    "               autopct = \"%.2f%%\",\n",
    "               shadow = True, \n",
    "               wedgeprops = dict(edgecolor = 'black', linewidth = 1.1), \n",
    "               textprops = dict(fontsize = 14, fontweight = 'bold', color = 'white'))\n",
    "    \n",
    "    axs[i].set_title(col, fontsize = 18, fontweight = 'bold', color = 'black')\n",
    "    axs[i].legend()\n",
    "    \n",
    "fig.tight_layout()\n",
    "fig.show()"
   ]
  },
  {
   "cell_type": "code",
   "execution_count": null,
   "id": "4c434806",
   "metadata": {},
   "outputs": [],
   "source": [
    "sns.set_style(\"darkgrid\")\n",
    "fig,ax = plt.subplots(figsize = (7,3.5))\n",
    "ax = sns.countplot(data, x = 'Target', palette = 'bright', edgecolor = 'black')\n",
    "\n",
    "for bars in ax.containers:\n",
    "    ax.bar_label(bars, fontsize = 8, fontweight = 'bold', color = 'black')\n",
    "    \n",
    "ax.set_xlabel(\"\")\n",
    "ax.set_title('Target', fontsize = 14, fontweight = 'bold', color = 'darkblue')\n",
    "fig.show()"
   ]
  },
  {
   "cell_type": "code",
   "execution_count": null,
   "id": "59c35ee5",
   "metadata": {},
   "outputs": [],
   "source": [
    "for dim_ in ['parents', 'has_nurs', 'form', 'children', 'housing', 'finance', 'social', 'health']:\n",
    "    print('\\n-------------------------------\\n')\n",
    "    print('Dimension: {}'.format(dim_))\n",
    "    fig = px.parallel_categories(data_frame = data, dimensions = [dim_, 'Target'])\n",
    "    fig.show()"
   ]
  },
  {
   "cell_type": "code",
   "execution_count": null,
   "id": "ee1c3c2c",
   "metadata": {},
   "outputs": [],
   "source": [
    "corr_matrix_pps = pps.matrix(data)[['x','y','ppscore']].pivot_table(index = 'y', \n",
    "                                                                    columns = 'x', \n",
    "                                                                    values = 'ppscore')\n",
    "\n",
    "plt.figure(figsize = (20,10))\n",
    "sns.heatmap(corr_matrix_pps, \n",
    "            cmap ='coolwarm', \n",
    "            annot = True, \n",
    "            linewidths = 1.1,\n",
    "            square = True)\n",
    "plt.title(\"Predictive Power Score(PPS)\", fontsize = 18, fontweight = 'bold', color = 'black')\n",
    "plt.show()"
   ]
  },
  {
   "cell_type": "code",
   "execution_count": null,
   "id": "95198f3c",
   "metadata": {},
   "outputs": [],
   "source": [
    "target_variable = 'Target'\n",
    "X = data.drop(columns = [target_variable])\n",
    "y = data[target_variable]"
   ]
  },
  {
   "cell_type": "markdown",
   "id": "3d2f0209-2f3d-4b79-8ede-0ee2662d1d09",
   "metadata": {},
   "source": [
    "## Model Training"
   ]
  },
  {
   "cell_type": "code",
   "execution_count": null,
   "id": "43885758",
   "metadata": {},
   "outputs": [],
   "source": [
    "# We split the data set into training and testing.\n",
    "\n",
    "X_train, X_test, y_train, y_test = train_test_split(X, y, test_size = 0.3, random_state = 42, stratify = y)"
   ]
  },
  {
   "cell_type": "code",
   "execution_count": null,
   "id": "eed66739",
   "metadata": {},
   "outputs": [],
   "source": [
    "# Transformation of the target variable,\n",
    "le = LabelEncoder()\n",
    "y_train = le.fit_transform(y_train)\n",
    "y_test = le.transform(y_test)"
   ]
  },
  {
   "cell_type": "code",
   "execution_count": null,
   "id": "f82cde8d",
   "metadata": {},
   "outputs": [],
   "source": [
    "# We selected categorical variables to code.\n",
    "categorical_predictors = X_train.select_dtypes(include = ['object', 'category']).columns.to_list()"
   ]
  },
  {
   "cell_type": "code",
   "execution_count": null,
   "id": "6b6f1799",
   "metadata": {},
   "outputs": [],
   "source": [
    "# We define the transformer that we are going to apply.\n",
    "transformer = [('ohe', \n",
    "                OneHotEncoder(drop = 'first', \n",
    "                              handle_unknown = 'ignore', \n",
    "                              sparse_output = False), \n",
    "                categorical_predictors)]"
   ]
  },
  {
   "cell_type": "code",
   "execution_count": null,
   "id": "e2540b4b",
   "metadata": {},
   "outputs": [],
   "source": [
    "# We apply the transformation to the training and testing set.\n",
    "preprocessor = ColumnTransformer(transformers = transformer, \n",
    "                                 remainder = 'passthrough', \n",
    "                                 n_jobs = -1, \n",
    "                                 verbose_feature_names_out = False).set_output(transform = 'pandas')\n",
    "\n",
    "X_train_prep = preprocessor.fit_transform(X_train)\n",
    "X_test_prep = preprocessor.transform(X_test)\n",
    "\n",
    "print(f'X_train_prep: {X_train_prep.shape}')\n",
    "print(f'X_test_prep: {X_test_prep.shape}')"
   ]
  },
  {
   "cell_type": "code",
   "execution_count": null,
   "id": "06f8a211",
   "metadata": {},
   "outputs": [],
   "source": [
    "print(f'y_train: {Counter(y_train)}')\n",
    "print(f'y_test: {Counter(y_test)}')"
   ]
  },
  {
   "cell_type": "code",
   "execution_count": null,
   "id": "3bedd61f",
   "metadata": {},
   "outputs": [],
   "source": [
    "clf1 = LogisticRegression(class_weight = 'balanced', \n",
    "                          random_state = 42,\n",
    "                          multi_class = 'multinomial',\n",
    "                          max_iter = 1500,\n",
    "                          n_jobs = -1)\n",
    "\n",
    "clf2 = KNeighborsClassifier(n_jobs = -1)\n",
    "\n",
    "clf3 = GaussianNB()\n",
    "\n",
    "clf4 = RandomForestClassifier(n_jobs = -1, \n",
    "                              class_weight = 'balanced', \n",
    "                              random_state = 42)\n",
    "\n",
    "clf5 = ExtraTreesClassifier(n_jobs = -1, \n",
    "                            class_weight = 'balanced', \n",
    "                            bootstrap = True,\n",
    "                            random_state = 42)\n",
    "\n",
    "clf6 = XGBClassifier(random_state = 42, \n",
    "                     n_jobs = -1)\n",
    "\n",
    "clf7 = CatBoostClassifier(random_seed = 42, \n",
    "                          auto_class_weights = 'Balanced', \n",
    "                          verbose = 0)\n",
    "\n",
    "\n",
    "MODELS = [clf1, clf2, clf3, clf4, clf5, clf6, clf7]"
   ]
  },
  {
   "cell_type": "code",
   "execution_count": null,
   "id": "9176ffff",
   "metadata": {},
   "outputs": [],
   "source": [
    "for model in tqdm(MODELS):\n",
    "    name = type(model).__name__\n",
    "    model.fit(X_train_prep.to_numpy(dtype = np.float32), y_train)\n",
    "    \n",
    "    y_pred_train = model.predict(X_train_prep.to_numpy(dtype = np.float32))\n",
    "    y_pred_test = model.predict(X_test_prep.to_numpy(dtype = np.float32))\n",
    "    \n",
    "    bal_acc_train = balanced_accuracy_score(y_train, y_pred_train)\n",
    "    bal_acc_test = balanced_accuracy_score(y_test, y_pred_test)\n",
    "    \n",
    "    print(\"==\" * 30)\n",
    "    print(f\"\\033[1;33m {name} \\033[0;m :\\n\") \n",
    "    print(f' Balanced ACC train: {bal_acc_train:.4f} | ', \n",
    "          f' Balanced ACC test: {bal_acc_test:.4f}\\n')\n",
    "    print(\"==\" * 30)"
   ]
  },
  {
   "cell_type": "markdown",
   "id": "144053fe-9783-4e30-96a8-0960eb5360cb",
   "metadata": {},
   "source": [
    "## Model Predict"
   ]
  },
  {
   "cell_type": "code",
   "execution_count": null,
   "id": "f9446e11",
   "metadata": {},
   "outputs": [],
   "source": [
    "y_pred_train_final = clf7.predict(X_train_prep)\n",
    "y_pred_test_final = clf7.predict(X_test_prep)"
   ]
  },
  {
   "cell_type": "code",
   "execution_count": null,
   "id": "e8ccb73e",
   "metadata": {},
   "outputs": [],
   "source": [
    "print(\"##\" * 40)\n",
    "print(\" \" * 25, \"Classification Report Train\")\n",
    "print(\"##\" * 40)\n",
    "print(classification_report(y_train, y_pred_train_final, target_names = le.classes_))\n",
    "print(\"\")\n",
    "\n",
    "print(\"##\" * 40)\n",
    "print(\" \" * 25, \"Classification Report Test\")\n",
    "print(\"##\" * 40)\n",
    "print(classification_report(y_test, y_pred_test_final, target_names = le.classes_))"
   ]
  },
  {
   "cell_type": "code",
   "execution_count": null,
   "id": "f25089ab",
   "metadata": {},
   "outputs": [],
   "source": [
    "cf_mx_train = confusion_matrix(y_train, y_pred_train_final)\n",
    "cf_mx_test = confusion_matrix(y_test, y_pred_test_final)\n",
    "\n",
    "fig,axs = plt.subplots(nrows = 1, ncols = 2, figsize = (12,7))\n",
    "axs = axs.flat\n",
    "\n",
    "sns.heatmap(cf_mx_train, cmap = 'Reds', annot = True, annot_kws = {'fontsize':11, 'fontweight':'bold'}, linewidths = 1.5, fmt = '', xticklabels = le.classes_, yticklabels = le.classes_, cbar = False, square = True, ax = axs[0])\n",
    "sns.heatmap(cf_mx_test, cmap = 'Blues', annot = True, annot_kws = {'fontsize':11, 'fontweight':'bold'}, linewidths = 1.5, fmt = '', xticklabels = le.classes_, yticklabels = le.classes_, cbar = False, square = True, ax = axs[1])\n",
    "axs[0].set_xlabel('Predicted', fontsize = 12, fontweight = \"bold\", color = \"black\")\n",
    "axs[1].set_xlabel('Predicted', fontsize = 12, fontweight = \"bold\", color = \"black\")\n",
    "axs[0].set_ylabel('True', fontsize = 12, fontweight = \"bold\", color = \"black\")\n",
    "axs[1].set_ylabel('True', fontsize = 12, fontweight = \"bold\", color = \"black\")\n",
    "axs[0].set_title('Confusion Matrix Train', fontsize = 14, fontweight = \"bold\", color = \"black\")\n",
    "axs[1].set_title('Confusion Matrix Test', fontsize = 14, fontweight = \"bold\", color = \"black\")\n",
    "\n",
    "fig.tight_layout()\n",
    "fig.show()"
   ]
  }
 ],
 "metadata": {
  "kernelspec": {
   "display_name": "Python 3 (ipykernel)",
   "language": "python",
   "name": "python3"
  },
  "language_info": {
   "codemirror_mode": {
    "name": "ipython",
    "version": 3
   },
   "file_extension": ".py",
   "mimetype": "text/x-python",
   "name": "python",
   "nbconvert_exporter": "python",
   "pygments_lexer": "ipython3",
   "version": "3.9.6"
  }
 },
 "nbformat": 4,
 "nbformat_minor": 5
}
